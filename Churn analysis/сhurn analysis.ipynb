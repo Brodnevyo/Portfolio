{
 "cells": [
  {
   "cell_type": "markdown",
   "metadata": {},
   "source": [
    "# Анализ оттока клиентов банка «Метанпром»"
   ]
  },
  {
   "cell_type": "markdown",
   "metadata": {},
   "source": [
    "Цель проекта: провести исследовательский анализ данных и определить основные признаки оттока клиентов, \n",
    "проанализировать статистические гипотезы, сформировать сегменты и дать по ним рекомендации.\n",
    "\n",
    "Входные данные: датасет, содержащий информациию о клиентах банка «Метанпром»."
   ]
  },
  {
   "cell_type": "markdown",
   "metadata": {},
   "source": [
    "## Общая информация"
   ]
  },
  {
   "cell_type": "code",
   "execution_count": 1,
   "metadata": {},
   "outputs": [],
   "source": [
    "import pandas as pd\n",
    "import scipy.stats as stats\n",
    "import numpy as np\n",
    "\n",
    "import matplotlib.pyplot as plt\n",
    "import seaborn as sns\n",
    "from plotly import graph_objects as go\n",
    "import plotly.io as pio\n",
    "\n",
    "import warnings\n",
    "warnings.filterwarnings('ignore')"
   ]
  },
  {
   "cell_type": "code",
   "execution_count": 2,
   "metadata": {},
   "outputs": [
    {
     "data": {
      "text/html": [
       "<div>\n",
       "<style scoped>\n",
       "    .dataframe tbody tr th:only-of-type {\n",
       "        vertical-align: middle;\n",
       "    }\n",
       "\n",
       "    .dataframe tbody tr th {\n",
       "        vertical-align: top;\n",
       "    }\n",
       "\n",
       "    .dataframe thead th {\n",
       "        text-align: right;\n",
       "    }\n",
       "</style>\n",
       "<table border=\"1\" class=\"dataframe\">\n",
       "  <thead>\n",
       "    <tr style=\"text-align: right;\">\n",
       "      <th></th>\n",
       "      <th>USERID</th>\n",
       "      <th>score</th>\n",
       "      <th>city</th>\n",
       "      <th>gender</th>\n",
       "      <th>age</th>\n",
       "      <th>equity</th>\n",
       "      <th>balance</th>\n",
       "      <th>products</th>\n",
       "      <th>credit_card</th>\n",
       "      <th>last_activity</th>\n",
       "      <th>EST_SALARY</th>\n",
       "      <th>churn</th>\n",
       "    </tr>\n",
       "  </thead>\n",
       "  <tbody>\n",
       "    <tr>\n",
       "      <th>0</th>\n",
       "      <td>183012</td>\n",
       "      <td>850.0</td>\n",
       "      <td>Рыбинск</td>\n",
       "      <td>Ж</td>\n",
       "      <td>25.0</td>\n",
       "      <td>1</td>\n",
       "      <td>59214.82</td>\n",
       "      <td>2</td>\n",
       "      <td>0</td>\n",
       "      <td>1</td>\n",
       "      <td>75719.14</td>\n",
       "      <td>1</td>\n",
       "    </tr>\n",
       "    <tr>\n",
       "      <th>1</th>\n",
       "      <td>146556</td>\n",
       "      <td>861.0</td>\n",
       "      <td>Рыбинск</td>\n",
       "      <td>Ж</td>\n",
       "      <td>37.0</td>\n",
       "      <td>5</td>\n",
       "      <td>850594.33</td>\n",
       "      <td>3</td>\n",
       "      <td>1</td>\n",
       "      <td>0</td>\n",
       "      <td>86621.77</td>\n",
       "      <td>0</td>\n",
       "    </tr>\n",
       "    <tr>\n",
       "      <th>2</th>\n",
       "      <td>120722</td>\n",
       "      <td>892.0</td>\n",
       "      <td>Рыбинск</td>\n",
       "      <td>Ж</td>\n",
       "      <td>30.0</td>\n",
       "      <td>0</td>\n",
       "      <td>NaN</td>\n",
       "      <td>1</td>\n",
       "      <td>1</td>\n",
       "      <td>1</td>\n",
       "      <td>107683.34</td>\n",
       "      <td>0</td>\n",
       "    </tr>\n",
       "    <tr>\n",
       "      <th>3</th>\n",
       "      <td>225363</td>\n",
       "      <td>866.0</td>\n",
       "      <td>Ярославль</td>\n",
       "      <td>Ж</td>\n",
       "      <td>51.0</td>\n",
       "      <td>5</td>\n",
       "      <td>1524746.26</td>\n",
       "      <td>2</td>\n",
       "      <td>0</td>\n",
       "      <td>1</td>\n",
       "      <td>174423.53</td>\n",
       "      <td>1</td>\n",
       "    </tr>\n",
       "    <tr>\n",
       "      <th>4</th>\n",
       "      <td>157978</td>\n",
       "      <td>730.0</td>\n",
       "      <td>Ярославль</td>\n",
       "      <td>М</td>\n",
       "      <td>34.0</td>\n",
       "      <td>5</td>\n",
       "      <td>174.00</td>\n",
       "      <td>1</td>\n",
       "      <td>1</td>\n",
       "      <td>0</td>\n",
       "      <td>67353.16</td>\n",
       "      <td>1</td>\n",
       "    </tr>\n",
       "    <tr>\n",
       "      <th>...</th>\n",
       "      <td>...</td>\n",
       "      <td>...</td>\n",
       "      <td>...</td>\n",
       "      <td>...</td>\n",
       "      <td>...</td>\n",
       "      <td>...</td>\n",
       "      <td>...</td>\n",
       "      <td>...</td>\n",
       "      <td>...</td>\n",
       "      <td>...</td>\n",
       "      <td>...</td>\n",
       "      <td>...</td>\n",
       "    </tr>\n",
       "    <tr>\n",
       "      <th>9995</th>\n",
       "      <td>120553</td>\n",
       "      <td>814.0</td>\n",
       "      <td>Рыбинск</td>\n",
       "      <td>М</td>\n",
       "      <td>27.0</td>\n",
       "      <td>1</td>\n",
       "      <td>78144.65</td>\n",
       "      <td>1</td>\n",
       "      <td>0</td>\n",
       "      <td>1</td>\n",
       "      <td>18943.64</td>\n",
       "      <td>0</td>\n",
       "    </tr>\n",
       "    <tr>\n",
       "      <th>9996</th>\n",
       "      <td>139170</td>\n",
       "      <td>894.0</td>\n",
       "      <td>Ярославль</td>\n",
       "      <td>М</td>\n",
       "      <td>46.0</td>\n",
       "      <td>0</td>\n",
       "      <td>NaN</td>\n",
       "      <td>1</td>\n",
       "      <td>1</td>\n",
       "      <td>0</td>\n",
       "      <td>196898.29</td>\n",
       "      <td>0</td>\n",
       "    </tr>\n",
       "    <tr>\n",
       "      <th>9997</th>\n",
       "      <td>115639</td>\n",
       "      <td>903.0</td>\n",
       "      <td>Ярославль</td>\n",
       "      <td>М</td>\n",
       "      <td>24.0</td>\n",
       "      <td>0</td>\n",
       "      <td>NaN</td>\n",
       "      <td>2</td>\n",
       "      <td>1</td>\n",
       "      <td>1</td>\n",
       "      <td>108905.09</td>\n",
       "      <td>0</td>\n",
       "    </tr>\n",
       "    <tr>\n",
       "      <th>9998</th>\n",
       "      <td>148700</td>\n",
       "      <td>777.0</td>\n",
       "      <td>Ярославль</td>\n",
       "      <td>Ж</td>\n",
       "      <td>68.0</td>\n",
       "      <td>3</td>\n",
       "      <td>865457.97</td>\n",
       "      <td>3</td>\n",
       "      <td>0</td>\n",
       "      <td>1</td>\n",
       "      <td>86874.90</td>\n",
       "      <td>0</td>\n",
       "    </tr>\n",
       "    <tr>\n",
       "      <th>9999</th>\n",
       "      <td>96267</td>\n",
       "      <td>828.0</td>\n",
       "      <td>Рыбинск</td>\n",
       "      <td>Ж</td>\n",
       "      <td>58.0</td>\n",
       "      <td>3</td>\n",
       "      <td>1180886.70</td>\n",
       "      <td>4</td>\n",
       "      <td>0</td>\n",
       "      <td>1</td>\n",
       "      <td>21422.37</td>\n",
       "      <td>0</td>\n",
       "    </tr>\n",
       "  </tbody>\n",
       "</table>\n",
       "<p>10000 rows × 12 columns</p>\n",
       "</div>"
      ],
      "text/plain": [
       "      USERID  score       city gender   age  equity     balance  products  \\\n",
       "0     183012  850.0    Рыбинск      Ж  25.0       1    59214.82         2   \n",
       "1     146556  861.0    Рыбинск      Ж  37.0       5   850594.33         3   \n",
       "2     120722  892.0    Рыбинск      Ж  30.0       0         NaN         1   \n",
       "3     225363  866.0  Ярославль      Ж  51.0       5  1524746.26         2   \n",
       "4     157978  730.0  Ярославль      М  34.0       5      174.00         1   \n",
       "...      ...    ...        ...    ...   ...     ...         ...       ...   \n",
       "9995  120553  814.0    Рыбинск      М  27.0       1    78144.65         1   \n",
       "9996  139170  894.0  Ярославль      М  46.0       0         NaN         1   \n",
       "9997  115639  903.0  Ярославль      М  24.0       0         NaN         2   \n",
       "9998  148700  777.0  Ярославль      Ж  68.0       3   865457.97         3   \n",
       "9999   96267  828.0    Рыбинск      Ж  58.0       3  1180886.70         4   \n",
       "\n",
       "      credit_card  last_activity  EST_SALARY  churn  \n",
       "0               0              1    75719.14      1  \n",
       "1               1              0    86621.77      0  \n",
       "2               1              1   107683.34      0  \n",
       "3               0              1   174423.53      1  \n",
       "4               1              0    67353.16      1  \n",
       "...           ...            ...         ...    ...  \n",
       "9995            0              1    18943.64      0  \n",
       "9996            1              0   196898.29      0  \n",
       "9997            1              1   108905.09      0  \n",
       "9998            0              1    86874.90      0  \n",
       "9999            0              1    21422.37      0  \n",
       "\n",
       "[10000 rows x 12 columns]"
      ]
     },
     "execution_count": 2,
     "metadata": {},
     "output_type": "execute_result"
    }
   ],
   "source": [
    "path = \"C:\\\\Users\\\\stupe\\\\python\\\\Bank_Metanprom\\\\\"\n",
    "df = pd.read_csv(path + 'bank_scrooge.csv')\n",
    "df"
   ]
  },
  {
   "cell_type": "code",
   "execution_count": 3,
   "metadata": {
    "scrolled": true
   },
   "outputs": [
    {
     "name": "stdout",
     "output_type": "stream",
     "text": [
      "<class 'pandas.core.frame.DataFrame'>\n",
      "RangeIndex: 10000 entries, 0 to 9999\n",
      "Data columns (total 12 columns):\n",
      " #   Column         Non-Null Count  Dtype  \n",
      "---  ------         --------------  -----  \n",
      " 0   USERID         10000 non-null  int64  \n",
      " 1   score          10000 non-null  float64\n",
      " 2   city           10000 non-null  object \n",
      " 3   gender         10000 non-null  object \n",
      " 4   age            9974 non-null   float64\n",
      " 5   equity         10000 non-null  int64  \n",
      " 6   balance        7705 non-null   float64\n",
      " 7   products       10000 non-null  int64  \n",
      " 8   credit_card    10000 non-null  int64  \n",
      " 9   last_activity  10000 non-null  int64  \n",
      " 10  EST_SALARY     10000 non-null  float64\n",
      " 11  churn          10000 non-null  int64  \n",
      "dtypes: float64(4), int64(6), object(2)\n",
      "memory usage: 937.6+ KB\n"
     ]
    }
   ],
   "source": [
    "df.info()"
   ]
  },
  {
   "cell_type": "markdown",
   "metadata": {},
   "source": [
    "Датасет содержит данные о клиентах банка «Метанпром». Банк располагается в Ярославле и областных городах: Ростов Великий и Рыбинск.\n",
    "Колонки:\n",
    "- USERID — идентификатор пользователя,\n",
    "- score — баллы кредитного скоринга,\n",
    "- city — город,\n",
    "- gender — пол,\n",
    "- age — возраст,\n",
    "- equity — количество баллов собственности\n",
    "- balance — баланс на счёте,\n",
    "- products — количество продуктов, которыми пользуется клиент,\n",
    "- redit_card — есть ли кредитная карта,\n",
    "- last_activity — активный клиент,\n",
    "- EST_SALARY — заработная плата клиента,\n",
    "- churn — ушёл или нет.\n",
    "\n",
    "В столбцах 'age' и 'balance' имеются пропуски."
   ]
  },
  {
   "cell_type": "markdown",
   "metadata": {},
   "source": [
    "\n",
    "<div class=\"alert alert-success\">\n",
    "<b>Комментарий ревьюера:</b>☀️Хорошо!</div>\n"
   ]
  },
  {
   "cell_type": "markdown",
   "metadata": {},
   "source": [
    "## Предобработка данных"
   ]
  },
  {
   "cell_type": "markdown",
   "metadata": {},
   "source": [
    "### Приведение столбцов таблицы к единообразию"
   ]
  },
  {
   "cell_type": "code",
   "execution_count": 4,
   "metadata": {},
   "outputs": [],
   "source": [
    "df=df.rename(columns={'USERID':'user_id','EST_SALARY':'estimated_salary'})"
   ]
  },
  {
   "cell_type": "markdown",
   "metadata": {},
   "source": [
    "Cтолбцы USERID и EST_SALARY были приведены к нижнему регистру и перезаписаны в «змеином регистре»"
   ]
  },
  {
   "cell_type": "markdown",
   "metadata": {},
   "source": [
    "### Удаление пропусков"
   ]
  },
  {
   "cell_type": "code",
   "execution_count": 5,
   "metadata": {},
   "outputs": [
    {
     "data": {
      "text/plain": [
       "user_id                0\n",
       "score                  0\n",
       "city                   0\n",
       "gender                 0\n",
       "age                   26\n",
       "equity                 0\n",
       "balance             2295\n",
       "products               0\n",
       "credit_card            0\n",
       "last_activity          0\n",
       "estimated_salary       0\n",
       "churn                  0\n",
       "dtype: int64"
      ]
     },
     "execution_count": 5,
     "metadata": {},
     "output_type": "execute_result"
    }
   ],
   "source": [
    "df.isna().sum()"
   ]
  },
  {
   "cell_type": "code",
   "execution_count": 6,
   "metadata": {},
   "outputs": [],
   "source": [
    "df.dropna(subset=['age'], inplace=True)"
   ]
  },
  {
   "cell_type": "markdown",
   "metadata": {},
   "source": [
    "Все пропуски в столбце age удалены."
   ]
  },
  {
   "cell_type": "code",
   "execution_count": 7,
   "metadata": {},
   "outputs": [
    {
     "data": {
      "text/html": [
       "<div>\n",
       "<style scoped>\n",
       "    .dataframe tbody tr th:only-of-type {\n",
       "        vertical-align: middle;\n",
       "    }\n",
       "\n",
       "    .dataframe tbody tr th {\n",
       "        vertical-align: top;\n",
       "    }\n",
       "\n",
       "    .dataframe thead th {\n",
       "        text-align: right;\n",
       "    }\n",
       "</style>\n",
       "<table border=\"1\" class=\"dataframe\">\n",
       "  <thead>\n",
       "    <tr style=\"text-align: right;\">\n",
       "      <th></th>\n",
       "      <th>city</th>\n",
       "      <th>count</th>\n",
       "    </tr>\n",
       "  </thead>\n",
       "  <tbody>\n",
       "    <tr>\n",
       "      <th>0</th>\n",
       "      <td>Ростов</td>\n",
       "      <td>235</td>\n",
       "    </tr>\n",
       "    <tr>\n",
       "      <th>1</th>\n",
       "      <td>Рыбинск</td>\n",
       "      <td>586</td>\n",
       "    </tr>\n",
       "    <tr>\n",
       "      <th>2</th>\n",
       "      <td>Ярославль</td>\n",
       "      <td>1458</td>\n",
       "    </tr>\n",
       "  </tbody>\n",
       "</table>\n",
       "</div>"
      ],
      "text/plain": [
       "        city  count\n",
       "0     Ростов    235\n",
       "1    Рыбинск    586\n",
       "2  Ярославль   1458"
      ]
     },
     "execution_count": 7,
     "metadata": {},
     "output_type": "execute_result"
    }
   ],
   "source": [
    "missing_balance = df[df['balance'].isnull()]\n",
    "missing_balance_by_city = missing_balance.groupby(['city']).size().reset_index(name='count')\n",
    "missing_balance_by_city"
   ]
  },
  {
   "cell_type": "markdown",
   "metadata": {},
   "source": [
    "Большая часть пропусков столбца balance приходятся на клиентов из Ярославля, что объяснимо, так как общее количество клиентов их этого города больше, чем из остальных."
   ]
  },
  {
   "cell_type": "code",
   "execution_count": 8,
   "metadata": {},
   "outputs": [
    {
     "data": {
      "text/html": [
       "<div>\n",
       "<style scoped>\n",
       "    .dataframe tbody tr th:only-of-type {\n",
       "        vertical-align: middle;\n",
       "    }\n",
       "\n",
       "    .dataframe tbody tr th {\n",
       "        vertical-align: top;\n",
       "    }\n",
       "\n",
       "    .dataframe thead th {\n",
       "        text-align: right;\n",
       "    }\n",
       "</style>\n",
       "<table border=\"1\" class=\"dataframe\">\n",
       "  <thead>\n",
       "    <tr style=\"text-align: right;\">\n",
       "      <th></th>\n",
       "      <th>equity</th>\n",
       "      <th>count</th>\n",
       "    </tr>\n",
       "  </thead>\n",
       "  <tbody>\n",
       "    <tr>\n",
       "      <th>0</th>\n",
       "      <td>0</td>\n",
       "      <td>2164</td>\n",
       "    </tr>\n",
       "    <tr>\n",
       "      <th>1</th>\n",
       "      <td>1</td>\n",
       "      <td>114</td>\n",
       "    </tr>\n",
       "    <tr>\n",
       "      <th>2</th>\n",
       "      <td>3</td>\n",
       "      <td>1</td>\n",
       "    </tr>\n",
       "  </tbody>\n",
       "</table>\n",
       "</div>"
      ],
      "text/plain": [
       "   equity  count\n",
       "0       0   2164\n",
       "1       1    114\n",
       "2       3      1"
      ]
     },
     "execution_count": 8,
     "metadata": {},
     "output_type": "execute_result"
    }
   ],
   "source": [
    "missing_balance_by_equity = missing_balance.groupby(['equity']).size().reset_index(name='count')\n",
    "missing_balance_by_equity"
   ]
  },
  {
   "cell_type": "markdown",
   "metadata": {},
   "source": [
    "Почти все пропуски столбца balance имееют значение equity равное 0. Это указывает на отсутствие собственности у данных клиентов."
   ]
  },
  {
   "cell_type": "code",
   "execution_count": 9,
   "metadata": {},
   "outputs": [
    {
     "name": "stdout",
     "output_type": "stream",
     "text": [
      "Общее количество клиентов без собственности составляет 2576.\n",
      "84.0% пользователей без собственности имеют пропуск в столбце balance.\n"
     ]
    }
   ],
   "source": [
    "print(f'Общее количество клиентов без собственности составляет {len(df[df.equity == 0])}.')\n",
    "print(f'{round(missing_balance_by_equity.values[0,1]/len(df[df.equity == 0]),3)*100}% \\\n",
    "пользователей без собственности имеют пропуск в столбце balance.')"
   ]
  },
  {
   "cell_type": "markdown",
   "metadata": {},
   "source": [
    "Так как, видна явная ассоциация пропусков в столбце balance c значением equity = 0 и клиенты с пропущенным занчением balance составляют превалирующую часть среди всех пользователей без собственности, то я считаю неправильным удалить эти пропуски или использовать модель заполнения, так как коренным образом может исказиться смысл данного столбца. Поэтому, все пропуски будут оставлены без изменения."
   ]
  },
  {
   "cell_type": "markdown",
   "metadata": {},
   "source": [
    "### Обработка аномальных значений"
   ]
  },
  {
   "cell_type": "code",
   "execution_count": 10,
   "metadata": {
    "scrolled": false
   },
   "outputs": [
    {
     "data": {
      "text/html": [
       "<div>\n",
       "<style scoped>\n",
       "    .dataframe tbody tr th:only-of-type {\n",
       "        vertical-align: middle;\n",
       "    }\n",
       "\n",
       "    .dataframe tbody tr th {\n",
       "        vertical-align: top;\n",
       "    }\n",
       "\n",
       "    .dataframe thead th {\n",
       "        text-align: right;\n",
       "    }\n",
       "</style>\n",
       "<table border=\"1\" class=\"dataframe\">\n",
       "  <thead>\n",
       "    <tr style=\"text-align: right;\">\n",
       "      <th></th>\n",
       "      <th>user_id</th>\n",
       "      <th>score</th>\n",
       "      <th>city</th>\n",
       "      <th>gender</th>\n",
       "      <th>age</th>\n",
       "      <th>equity</th>\n",
       "      <th>balance</th>\n",
       "      <th>products</th>\n",
       "      <th>credit_card</th>\n",
       "      <th>last_activity</th>\n",
       "      <th>estimated_salary</th>\n",
       "      <th>churn</th>\n",
       "    </tr>\n",
       "  </thead>\n",
       "  <tbody>\n",
       "    <tr>\n",
       "      <th>8783</th>\n",
       "      <td>114221</td>\n",
       "      <td>948.0</td>\n",
       "      <td>Ярославль</td>\n",
       "      <td>Ж</td>\n",
       "      <td>26.0</td>\n",
       "      <td>1</td>\n",
       "      <td>77092.89</td>\n",
       "      <td>1</td>\n",
       "      <td>1</td>\n",
       "      <td>0</td>\n",
       "      <td>2546.30</td>\n",
       "      <td>0</td>\n",
       "    </tr>\n",
       "    <tr>\n",
       "      <th>2186</th>\n",
       "      <td>201407</td>\n",
       "      <td>938.0</td>\n",
       "      <td>Рыбинск</td>\n",
       "      <td>Ж</td>\n",
       "      <td>69.0</td>\n",
       "      <td>1</td>\n",
       "      <td>325483.52</td>\n",
       "      <td>3</td>\n",
       "      <td>0</td>\n",
       "      <td>1</td>\n",
       "      <td>3487.33</td>\n",
       "      <td>0</td>\n",
       "    </tr>\n",
       "    <tr>\n",
       "      <th>1753</th>\n",
       "      <td>161271</td>\n",
       "      <td>836.0</td>\n",
       "      <td>Ярославль</td>\n",
       "      <td>Ж</td>\n",
       "      <td>19.0</td>\n",
       "      <td>4</td>\n",
       "      <td>7703.05</td>\n",
       "      <td>4</td>\n",
       "      <td>1</td>\n",
       "      <td>1</td>\n",
       "      <td>5043.14</td>\n",
       "      <td>0</td>\n",
       "    </tr>\n",
       "    <tr>\n",
       "      <th>4860</th>\n",
       "      <td>193417</td>\n",
       "      <td>823.0</td>\n",
       "      <td>Ростов</td>\n",
       "      <td>Ж</td>\n",
       "      <td>64.0</td>\n",
       "      <td>2</td>\n",
       "      <td>277249.69</td>\n",
       "      <td>2</td>\n",
       "      <td>0</td>\n",
       "      <td>0</td>\n",
       "      <td>5341.50</td>\n",
       "      <td>0</td>\n",
       "    </tr>\n",
       "    <tr>\n",
       "      <th>1700</th>\n",
       "      <td>155567</td>\n",
       "      <td>747.0</td>\n",
       "      <td>Ростов</td>\n",
       "      <td>М</td>\n",
       "      <td>25.0</td>\n",
       "      <td>0</td>\n",
       "      <td>5750.92</td>\n",
       "      <td>1</td>\n",
       "      <td>1</td>\n",
       "      <td>0</td>\n",
       "      <td>7054.82</td>\n",
       "      <td>0</td>\n",
       "    </tr>\n",
       "    <tr>\n",
       "      <th>3689</th>\n",
       "      <td>219561</td>\n",
       "      <td>817.0</td>\n",
       "      <td>Ростов</td>\n",
       "      <td>М</td>\n",
       "      <td>25.0</td>\n",
       "      <td>3</td>\n",
       "      <td>121065.39</td>\n",
       "      <td>4</td>\n",
       "      <td>1</td>\n",
       "      <td>1</td>\n",
       "      <td>7522.14</td>\n",
       "      <td>0</td>\n",
       "    </tr>\n",
       "    <tr>\n",
       "      <th>3606</th>\n",
       "      <td>187819</td>\n",
       "      <td>839.0</td>\n",
       "      <td>Рыбинск</td>\n",
       "      <td>Ж</td>\n",
       "      <td>56.0</td>\n",
       "      <td>5</td>\n",
       "      <td>1027438.02</td>\n",
       "      <td>2</td>\n",
       "      <td>0</td>\n",
       "      <td>0</td>\n",
       "      <td>7571.80</td>\n",
       "      <td>0</td>\n",
       "    </tr>\n",
       "    <tr>\n",
       "      <th>2174</th>\n",
       "      <td>143340</td>\n",
       "      <td>830.0</td>\n",
       "      <td>Ярославль</td>\n",
       "      <td>Ж</td>\n",
       "      <td>72.0</td>\n",
       "      <td>2</td>\n",
       "      <td>294375.63</td>\n",
       "      <td>3</td>\n",
       "      <td>1</td>\n",
       "      <td>1</td>\n",
       "      <td>8032.18</td>\n",
       "      <td>0</td>\n",
       "    </tr>\n",
       "    <tr>\n",
       "      <th>9124</th>\n",
       "      <td>148483</td>\n",
       "      <td>811.0</td>\n",
       "      <td>Ярославль</td>\n",
       "      <td>Ж</td>\n",
       "      <td>75.0</td>\n",
       "      <td>5</td>\n",
       "      <td>542971.64</td>\n",
       "      <td>3</td>\n",
       "      <td>1</td>\n",
       "      <td>1</td>\n",
       "      <td>8226.26</td>\n",
       "      <td>0</td>\n",
       "    </tr>\n",
       "    <tr>\n",
       "      <th>9365</th>\n",
       "      <td>171110</td>\n",
       "      <td>788.0</td>\n",
       "      <td>Рыбинск</td>\n",
       "      <td>Ж</td>\n",
       "      <td>76.0</td>\n",
       "      <td>2</td>\n",
       "      <td>223228.01</td>\n",
       "      <td>2</td>\n",
       "      <td>0</td>\n",
       "      <td>0</td>\n",
       "      <td>8260.33</td>\n",
       "      <td>0</td>\n",
       "    </tr>\n",
       "  </tbody>\n",
       "</table>\n",
       "</div>"
      ],
      "text/plain": [
       "      user_id  score       city gender   age  equity     balance  products  \\\n",
       "8783   114221  948.0  Ярославль      Ж  26.0       1    77092.89         1   \n",
       "2186   201407  938.0    Рыбинск      Ж  69.0       1   325483.52         3   \n",
       "1753   161271  836.0  Ярославль      Ж  19.0       4     7703.05         4   \n",
       "4860   193417  823.0     Ростов      Ж  64.0       2   277249.69         2   \n",
       "1700   155567  747.0     Ростов      М  25.0       0     5750.92         1   \n",
       "3689   219561  817.0     Ростов      М  25.0       3   121065.39         4   \n",
       "3606   187819  839.0    Рыбинск      Ж  56.0       5  1027438.02         2   \n",
       "2174   143340  830.0  Ярославль      Ж  72.0       2   294375.63         3   \n",
       "9124   148483  811.0  Ярославль      Ж  75.0       5   542971.64         3   \n",
       "9365   171110  788.0    Рыбинск      Ж  76.0       2   223228.01         2   \n",
       "\n",
       "      credit_card  last_activity  estimated_salary  churn  \n",
       "8783            1              0           2546.30      0  \n",
       "2186            0              1           3487.33      0  \n",
       "1753            1              1           5043.14      0  \n",
       "4860            0              0           5341.50      0  \n",
       "1700            1              0           7054.82      0  \n",
       "3689            1              1           7522.14      0  \n",
       "3606            0              0           7571.80      0  \n",
       "2174            1              1           8032.18      0  \n",
       "9124            1              1           8226.26      0  \n",
       "9365            0              0           8260.33      0  "
      ]
     },
     "execution_count": 10,
     "metadata": {},
     "output_type": "execute_result"
    }
   ],
   "source": [
    "df.sort_values(by = 'estimated_salary').head(10)"
   ]
  },
  {
   "cell_type": "markdown",
   "metadata": {},
   "source": [
    "В данных отсутствуют неправдоподобно низкие значения заработной платы клиентов. Имеются значения которые сильно отличаются от минимального размера оплаты труда в данной области равному 16242 рубля. Я объясняю это тем, что у таких клиентов в качестве заработной платы указаны стипендия или пенсия."
   ]
  },
  {
   "cell_type": "code",
   "execution_count": 11,
   "metadata": {
    "scrolled": false
   },
   "outputs": [
    {
     "data": {
      "text/html": [
       "<div>\n",
       "<style scoped>\n",
       "    .dataframe tbody tr th:only-of-type {\n",
       "        vertical-align: middle;\n",
       "    }\n",
       "\n",
       "    .dataframe tbody tr th {\n",
       "        vertical-align: top;\n",
       "    }\n",
       "\n",
       "    .dataframe thead th {\n",
       "        text-align: right;\n",
       "    }\n",
       "</style>\n",
       "<table border=\"1\" class=\"dataframe\">\n",
       "  <thead>\n",
       "    <tr style=\"text-align: right;\">\n",
       "      <th></th>\n",
       "      <th>user_id</th>\n",
       "      <th>score</th>\n",
       "      <th>city</th>\n",
       "      <th>gender</th>\n",
       "      <th>age</th>\n",
       "      <th>equity</th>\n",
       "      <th>balance</th>\n",
       "      <th>products</th>\n",
       "      <th>credit_card</th>\n",
       "      <th>last_activity</th>\n",
       "      <th>estimated_salary</th>\n",
       "      <th>churn</th>\n",
       "    </tr>\n",
       "  </thead>\n",
       "  <tbody>\n",
       "    <tr>\n",
       "      <th>4005</th>\n",
       "      <td>163640</td>\n",
       "      <td>912.0</td>\n",
       "      <td>Ярославль</td>\n",
       "      <td>М</td>\n",
       "      <td>35.0</td>\n",
       "      <td>4</td>\n",
       "      <td>15624095.80</td>\n",
       "      <td>2</td>\n",
       "      <td>0</td>\n",
       "      <td>1</td>\n",
       "      <td>1395064.45</td>\n",
       "      <td>0</td>\n",
       "    </tr>\n",
       "    <tr>\n",
       "      <th>4637</th>\n",
       "      <td>149430</td>\n",
       "      <td>961.0</td>\n",
       "      <td>Ярославль</td>\n",
       "      <td>М</td>\n",
       "      <td>37.0</td>\n",
       "      <td>5</td>\n",
       "      <td>4054667.81</td>\n",
       "      <td>3</td>\n",
       "      <td>0</td>\n",
       "      <td>0</td>\n",
       "      <td>1363549.52</td>\n",
       "      <td>0</td>\n",
       "    </tr>\n",
       "    <tr>\n",
       "      <th>4473</th>\n",
       "      <td>216422</td>\n",
       "      <td>956.0</td>\n",
       "      <td>Ярославль</td>\n",
       "      <td>М</td>\n",
       "      <td>27.0</td>\n",
       "      <td>0</td>\n",
       "      <td>NaN</td>\n",
       "      <td>1</td>\n",
       "      <td>1</td>\n",
       "      <td>0</td>\n",
       "      <td>1333687.36</td>\n",
       "      <td>0</td>\n",
       "    </tr>\n",
       "    <tr>\n",
       "      <th>1600</th>\n",
       "      <td>197637</td>\n",
       "      <td>785.0</td>\n",
       "      <td>Ярославль</td>\n",
       "      <td>М</td>\n",
       "      <td>41.0</td>\n",
       "      <td>0</td>\n",
       "      <td>NaN</td>\n",
       "      <td>1</td>\n",
       "      <td>1</td>\n",
       "      <td>0</td>\n",
       "      <td>1307090.18</td>\n",
       "      <td>0</td>\n",
       "    </tr>\n",
       "    <tr>\n",
       "      <th>5160</th>\n",
       "      <td>174746</td>\n",
       "      <td>731.0</td>\n",
       "      <td>Ярославль</td>\n",
       "      <td>Ж</td>\n",
       "      <td>30.0</td>\n",
       "      <td>0</td>\n",
       "      <td>NaN</td>\n",
       "      <td>2</td>\n",
       "      <td>1</td>\n",
       "      <td>0</td>\n",
       "      <td>1296838.08</td>\n",
       "      <td>0</td>\n",
       "    </tr>\n",
       "    <tr>\n",
       "      <th>149</th>\n",
       "      <td>218801</td>\n",
       "      <td>958.0</td>\n",
       "      <td>Ярославль</td>\n",
       "      <td>М</td>\n",
       "      <td>34.0</td>\n",
       "      <td>0</td>\n",
       "      <td>NaN</td>\n",
       "      <td>1</td>\n",
       "      <td>1</td>\n",
       "      <td>0</td>\n",
       "      <td>1292825.74</td>\n",
       "      <td>0</td>\n",
       "    </tr>\n",
       "    <tr>\n",
       "      <th>8147</th>\n",
       "      <td>135243</td>\n",
       "      <td>951.0</td>\n",
       "      <td>Ярославль</td>\n",
       "      <td>М</td>\n",
       "      <td>38.0</td>\n",
       "      <td>5</td>\n",
       "      <td>14134432.03</td>\n",
       "      <td>2</td>\n",
       "      <td>1</td>\n",
       "      <td>0</td>\n",
       "      <td>1281547.73</td>\n",
       "      <td>0</td>\n",
       "    </tr>\n",
       "    <tr>\n",
       "      <th>9103</th>\n",
       "      <td>123965</td>\n",
       "      <td>939.0</td>\n",
       "      <td>Ярославль</td>\n",
       "      <td>М</td>\n",
       "      <td>34.0</td>\n",
       "      <td>5</td>\n",
       "      <td>9346657.08</td>\n",
       "      <td>1</td>\n",
       "      <td>1</td>\n",
       "      <td>1</td>\n",
       "      <td>1263028.49</td>\n",
       "      <td>1</td>\n",
       "    </tr>\n",
       "    <tr>\n",
       "      <th>9711</th>\n",
       "      <td>193979</td>\n",
       "      <td>754.0</td>\n",
       "      <td>Ярославль</td>\n",
       "      <td>Ж</td>\n",
       "      <td>53.0</td>\n",
       "      <td>0</td>\n",
       "      <td>NaN</td>\n",
       "      <td>1</td>\n",
       "      <td>1</td>\n",
       "      <td>0</td>\n",
       "      <td>1261408.41</td>\n",
       "      <td>0</td>\n",
       "    </tr>\n",
       "    <tr>\n",
       "      <th>1468</th>\n",
       "      <td>162749</td>\n",
       "      <td>940.0</td>\n",
       "      <td>Ярославль</td>\n",
       "      <td>М</td>\n",
       "      <td>32.0</td>\n",
       "      <td>2</td>\n",
       "      <td>4508306.65</td>\n",
       "      <td>2</td>\n",
       "      <td>1</td>\n",
       "      <td>0</td>\n",
       "      <td>1260919.56</td>\n",
       "      <td>0</td>\n",
       "    </tr>\n",
       "  </tbody>\n",
       "</table>\n",
       "</div>"
      ],
      "text/plain": [
       "      user_id  score       city gender   age  equity      balance  products  \\\n",
       "4005   163640  912.0  Ярославль      М  35.0       4  15624095.80         2   \n",
       "4637   149430  961.0  Ярославль      М  37.0       5   4054667.81         3   \n",
       "4473   216422  956.0  Ярославль      М  27.0       0          NaN         1   \n",
       "1600   197637  785.0  Ярославль      М  41.0       0          NaN         1   \n",
       "5160   174746  731.0  Ярославль      Ж  30.0       0          NaN         2   \n",
       "149    218801  958.0  Ярославль      М  34.0       0          NaN         1   \n",
       "8147   135243  951.0  Ярославль      М  38.0       5  14134432.03         2   \n",
       "9103   123965  939.0  Ярославль      М  34.0       5   9346657.08         1   \n",
       "9711   193979  754.0  Ярославль      Ж  53.0       0          NaN         1   \n",
       "1468   162749  940.0  Ярославль      М  32.0       2   4508306.65         2   \n",
       "\n",
       "      credit_card  last_activity  estimated_salary  churn  \n",
       "4005            0              1        1395064.45      0  \n",
       "4637            0              0        1363549.52      0  \n",
       "4473            1              0        1333687.36      0  \n",
       "1600            1              0        1307090.18      0  \n",
       "5160            1              0        1296838.08      0  \n",
       "149             1              0        1292825.74      0  \n",
       "8147            1              0        1281547.73      0  \n",
       "9103            1              1        1263028.49      1  \n",
       "9711            1              0        1261408.41      0  \n",
       "1468            1              0        1260919.56      0  "
      ]
     },
     "execution_count": 11,
     "metadata": {},
     "output_type": "execute_result"
    }
   ],
   "source": [
    "df.sort_values(by = 'estimated_salary', ascending = False).head(10)"
   ]
  },
  {
   "cell_type": "markdown",
   "metadata": {},
   "source": [
    "В данных также отсутствуют аномально высокие значения заработной платы клиентов."
   ]
  },
  {
   "cell_type": "code",
   "execution_count": 12,
   "metadata": {},
   "outputs": [
    {
     "name": "stdout",
     "output_type": "stream",
     "text": [
      "Минимальный возраст клиента -  18.0, а максимальный - 86.0.\n"
     ]
    }
   ],
   "source": [
    "print(f'Минимальный возраст клиента -  {df.age.min()}, \\\n",
    "а максимальный - {df.age.max()}.')"
   ]
  },
  {
   "cell_type": "code",
   "execution_count": 13,
   "metadata": {},
   "outputs": [
    {
     "data": {
      "text/html": [
       "<div>\n",
       "<style scoped>\n",
       "    .dataframe tbody tr th:only-of-type {\n",
       "        vertical-align: middle;\n",
       "    }\n",
       "\n",
       "    .dataframe tbody tr th {\n",
       "        vertical-align: top;\n",
       "    }\n",
       "\n",
       "    .dataframe thead th {\n",
       "        text-align: right;\n",
       "    }\n",
       "</style>\n",
       "<table border=\"1\" class=\"dataframe\">\n",
       "  <thead>\n",
       "    <tr style=\"text-align: right;\">\n",
       "      <th></th>\n",
       "      <th>user_id</th>\n",
       "      <th>score</th>\n",
       "      <th>city</th>\n",
       "      <th>gender</th>\n",
       "      <th>age</th>\n",
       "      <th>equity</th>\n",
       "      <th>balance</th>\n",
       "      <th>products</th>\n",
       "      <th>credit_card</th>\n",
       "      <th>last_activity</th>\n",
       "      <th>estimated_salary</th>\n",
       "      <th>churn</th>\n",
       "    </tr>\n",
       "  </thead>\n",
       "  <tbody>\n",
       "    <tr>\n",
       "      <th>8957</th>\n",
       "      <td>147837</td>\n",
       "      <td>962.0</td>\n",
       "      <td>Рыбинск</td>\n",
       "      <td>Ж</td>\n",
       "      <td>79.0</td>\n",
       "      <td>3</td>\n",
       "      <td>NaN</td>\n",
       "      <td>0</td>\n",
       "      <td>0</td>\n",
       "      <td>0</td>\n",
       "      <td>25063.96</td>\n",
       "      <td>1</td>\n",
       "    </tr>\n",
       "  </tbody>\n",
       "</table>\n",
       "</div>"
      ],
      "text/plain": [
       "      user_id  score     city gender   age  equity  balance  products  \\\n",
       "8957   147837  962.0  Рыбинск      Ж  79.0       3      NaN         0   \n",
       "\n",
       "      credit_card  last_activity  estimated_salary  churn  \n",
       "8957            0              0          25063.96      1  "
      ]
     },
     "execution_count": 13,
     "metadata": {},
     "output_type": "execute_result"
    }
   ],
   "source": [
    "df.query('products == 0')"
   ]
  },
  {
   "cell_type": "markdown",
   "metadata": {},
   "source": [
    "Существует всего один клиент, у которого нет продуктов, удалим его, чтобы он не портил дальнейшие рассчеты."
   ]
  },
  {
   "cell_type": "code",
   "execution_count": 14,
   "metadata": {},
   "outputs": [],
   "source": [
    "df = df.query('products != 0')"
   ]
  },
  {
   "cell_type": "markdown",
   "metadata": {},
   "source": [
    "### Обработка дубликатов"
   ]
  },
  {
   "cell_type": "code",
   "execution_count": 15,
   "metadata": {},
   "outputs": [
    {
     "data": {
      "text/plain": [
       "array(['Рыбинск', 'Ярославль', 'Ростов'], dtype=object)"
      ]
     },
     "execution_count": 15,
     "metadata": {},
     "output_type": "execute_result"
    }
   ],
   "source": [
    "df['city'].unique()"
   ]
  },
  {
   "cell_type": "code",
   "execution_count": 16,
   "metadata": {},
   "outputs": [
    {
     "data": {
      "text/plain": [
       "array(['Ж', 'М'], dtype=object)"
      ]
     },
     "execution_count": 16,
     "metadata": {},
     "output_type": "execute_result"
    }
   ],
   "source": [
    "df['gender'].unique()"
   ]
  },
  {
   "cell_type": "markdown",
   "metadata": {},
   "source": [
    "В названии городов и обозначении полов отсутствуют неявные дубликаты"
   ]
  },
  {
   "cell_type": "code",
   "execution_count": 17,
   "metadata": {},
   "outputs": [
    {
     "data": {
      "text/html": [
       "<div>\n",
       "<style scoped>\n",
       "    .dataframe tbody tr th:only-of-type {\n",
       "        vertical-align: middle;\n",
       "    }\n",
       "\n",
       "    .dataframe tbody tr th {\n",
       "        vertical-align: top;\n",
       "    }\n",
       "\n",
       "    .dataframe thead th {\n",
       "        text-align: right;\n",
       "    }\n",
       "</style>\n",
       "<table border=\"1\" class=\"dataframe\">\n",
       "  <thead>\n",
       "    <tr style=\"text-align: right;\">\n",
       "      <th></th>\n",
       "      <th>user_id</th>\n",
       "      <th>score</th>\n",
       "      <th>city</th>\n",
       "      <th>gender</th>\n",
       "      <th>age</th>\n",
       "      <th>equity</th>\n",
       "      <th>balance</th>\n",
       "      <th>products</th>\n",
       "      <th>credit_card</th>\n",
       "      <th>last_activity</th>\n",
       "      <th>estimated_salary</th>\n",
       "      <th>churn</th>\n",
       "    </tr>\n",
       "  </thead>\n",
       "  <tbody>\n",
       "    <tr>\n",
       "      <th>1893</th>\n",
       "      <td>116540</td>\n",
       "      <td>883.0</td>\n",
       "      <td>Рыбинск</td>\n",
       "      <td>Ж</td>\n",
       "      <td>55.0</td>\n",
       "      <td>1</td>\n",
       "      <td>362756.49</td>\n",
       "      <td>3</td>\n",
       "      <td>0</td>\n",
       "      <td>1</td>\n",
       "      <td>175920.48</td>\n",
       "      <td>1</td>\n",
       "    </tr>\n",
       "    <tr>\n",
       "      <th>7694</th>\n",
       "      <td>116540</td>\n",
       "      <td>887.0</td>\n",
       "      <td>Ярославль</td>\n",
       "      <td>Ж</td>\n",
       "      <td>38.0</td>\n",
       "      <td>0</td>\n",
       "      <td>NaN</td>\n",
       "      <td>1</td>\n",
       "      <td>0</td>\n",
       "      <td>1</td>\n",
       "      <td>119247.61</td>\n",
       "      <td>0</td>\n",
       "    </tr>\n",
       "    <tr>\n",
       "      <th>4866</th>\n",
       "      <td>117943</td>\n",
       "      <td>855.0</td>\n",
       "      <td>Рыбинск</td>\n",
       "      <td>Ж</td>\n",
       "      <td>32.0</td>\n",
       "      <td>6</td>\n",
       "      <td>1036832.93</td>\n",
       "      <td>4</td>\n",
       "      <td>1</td>\n",
       "      <td>1</td>\n",
       "      <td>107792.71</td>\n",
       "      <td>1</td>\n",
       "    </tr>\n",
       "    <tr>\n",
       "      <th>7542</th>\n",
       "      <td>117943</td>\n",
       "      <td>880.0</td>\n",
       "      <td>Ярославль</td>\n",
       "      <td>Ж</td>\n",
       "      <td>40.0</td>\n",
       "      <td>0</td>\n",
       "      <td>NaN</td>\n",
       "      <td>1</td>\n",
       "      <td>1</td>\n",
       "      <td>0</td>\n",
       "      <td>137718.93</td>\n",
       "      <td>0</td>\n",
       "    </tr>\n",
       "    <tr>\n",
       "      <th>5863</th>\n",
       "      <td>120258</td>\n",
       "      <td>908.0</td>\n",
       "      <td>Рыбинск</td>\n",
       "      <td>Ж</td>\n",
       "      <td>38.0</td>\n",
       "      <td>4</td>\n",
       "      <td>2213581.63</td>\n",
       "      <td>2</td>\n",
       "      <td>0</td>\n",
       "      <td>1</td>\n",
       "      <td>160327.77</td>\n",
       "      <td>1</td>\n",
       "    </tr>\n",
       "    <tr>\n",
       "      <th>...</th>\n",
       "      <td>...</td>\n",
       "      <td>...</td>\n",
       "      <td>...</td>\n",
       "      <td>...</td>\n",
       "      <td>...</td>\n",
       "      <td>...</td>\n",
       "      <td>...</td>\n",
       "      <td>...</td>\n",
       "      <td>...</td>\n",
       "      <td>...</td>\n",
       "      <td>...</td>\n",
       "      <td>...</td>\n",
       "    </tr>\n",
       "    <tr>\n",
       "      <th>2302</th>\n",
       "      <td>220816</td>\n",
       "      <td>934.0</td>\n",
       "      <td>Рыбинск</td>\n",
       "      <td>Ж</td>\n",
       "      <td>74.0</td>\n",
       "      <td>5</td>\n",
       "      <td>1294285.39</td>\n",
       "      <td>3</td>\n",
       "      <td>1</td>\n",
       "      <td>0</td>\n",
       "      <td>95606.80</td>\n",
       "      <td>0</td>\n",
       "    </tr>\n",
       "    <tr>\n",
       "      <th>2597</th>\n",
       "      <td>226719</td>\n",
       "      <td>990.0</td>\n",
       "      <td>Ярославль</td>\n",
       "      <td>М</td>\n",
       "      <td>37.0</td>\n",
       "      <td>4</td>\n",
       "      <td>14648692.14</td>\n",
       "      <td>2</td>\n",
       "      <td>0</td>\n",
       "      <td>0</td>\n",
       "      <td>934412.61</td>\n",
       "      <td>1</td>\n",
       "    </tr>\n",
       "    <tr>\n",
       "      <th>4216</th>\n",
       "      <td>226719</td>\n",
       "      <td>903.0</td>\n",
       "      <td>Рыбинск</td>\n",
       "      <td>Ж</td>\n",
       "      <td>63.0</td>\n",
       "      <td>0</td>\n",
       "      <td>NaN</td>\n",
       "      <td>1</td>\n",
       "      <td>1</td>\n",
       "      <td>0</td>\n",
       "      <td>138582.58</td>\n",
       "      <td>0</td>\n",
       "    </tr>\n",
       "    <tr>\n",
       "      <th>8205</th>\n",
       "      <td>227795</td>\n",
       "      <td>840.0</td>\n",
       "      <td>Рыбинск</td>\n",
       "      <td>М</td>\n",
       "      <td>34.0</td>\n",
       "      <td>2</td>\n",
       "      <td>350768.03</td>\n",
       "      <td>1</td>\n",
       "      <td>1</td>\n",
       "      <td>0</td>\n",
       "      <td>102036.14</td>\n",
       "      <td>1</td>\n",
       "    </tr>\n",
       "    <tr>\n",
       "      <th>8497</th>\n",
       "      <td>227795</td>\n",
       "      <td>839.0</td>\n",
       "      <td>Ярославль</td>\n",
       "      <td>М</td>\n",
       "      <td>34.0</td>\n",
       "      <td>2</td>\n",
       "      <td>326593.14</td>\n",
       "      <td>2</td>\n",
       "      <td>1</td>\n",
       "      <td>0</td>\n",
       "      <td>103314.92</td>\n",
       "      <td>0</td>\n",
       "    </tr>\n",
       "  </tbody>\n",
       "</table>\n",
       "<p>100 rows × 12 columns</p>\n",
       "</div>"
      ],
      "text/plain": [
       "      user_id  score       city gender   age  equity      balance  products  \\\n",
       "1893   116540  883.0    Рыбинск      Ж  55.0       1    362756.49         3   \n",
       "7694   116540  887.0  Ярославль      Ж  38.0       0          NaN         1   \n",
       "4866   117943  855.0    Рыбинск      Ж  32.0       6   1036832.93         4   \n",
       "7542   117943  880.0  Ярославль      Ж  40.0       0          NaN         1   \n",
       "5863   120258  908.0    Рыбинск      Ж  38.0       4   2213581.63         2   \n",
       "...       ...    ...        ...    ...   ...     ...          ...       ...   \n",
       "2302   220816  934.0    Рыбинск      Ж  74.0       5   1294285.39         3   \n",
       "2597   226719  990.0  Ярославль      М  37.0       4  14648692.14         2   \n",
       "4216   226719  903.0    Рыбинск      Ж  63.0       0          NaN         1   \n",
       "8205   227795  840.0    Рыбинск      М  34.0       2    350768.03         1   \n",
       "8497   227795  839.0  Ярославль      М  34.0       2    326593.14         2   \n",
       "\n",
       "      credit_card  last_activity  estimated_salary  churn  \n",
       "1893            0              1         175920.48      1  \n",
       "7694            0              1         119247.61      0  \n",
       "4866            1              1         107792.71      1  \n",
       "7542            1              0         137718.93      0  \n",
       "5863            0              1         160327.77      1  \n",
       "...           ...            ...               ...    ...  \n",
       "2302            1              0          95606.80      0  \n",
       "2597            0              0         934412.61      1  \n",
       "4216            1              0         138582.58      0  \n",
       "8205            1              0         102036.14      1  \n",
       "8497            1              0         103314.92      0  \n",
       "\n",
       "[100 rows x 12 columns]"
      ]
     },
     "execution_count": 17,
     "metadata": {},
     "output_type": "execute_result"
    }
   ],
   "source": [
    "df[df.duplicated(subset=['user_id'], keep=False)].sort_values(by = 'user_id')"
   ]
  },
  {
   "cell_type": "markdown",
   "metadata": {},
   "source": [
    "Имеются 50 пар клиентов с одинаковыми user_id."
   ]
  },
  {
   "cell_type": "code",
   "execution_count": 18,
   "metadata": {},
   "outputs": [],
   "source": [
    "df_clear = df.drop_duplicates(subset=['user_id'], keep='first')"
   ]
  },
  {
   "cell_type": "markdown",
   "metadata": {},
   "source": [
    "Дубликаты столбца user_id удалены."
   ]
  },
  {
   "cell_type": "code",
   "execution_count": 19,
   "metadata": {},
   "outputs": [
    {
     "name": "stdout",
     "output_type": "stream",
     "text": [
      "Отношение очищенных данных к первоначальным составляет 0.995.\n"
     ]
    }
   ],
   "source": [
    "print(f'Отношение очищенных данных к первоначальным составляет {round(df_clear.shape[0] / df.shape[0],3)}.')"
   ]
  },
  {
   "cell_type": "code",
   "execution_count": 20,
   "metadata": {},
   "outputs": [],
   "source": [
    "df = df_clear"
   ]
  },
  {
   "cell_type": "markdown",
   "metadata": {},
   "source": [
    "## Исследовательский анализ данных"
   ]
  },
  {
   "cell_type": "markdown",
   "metadata": {},
   "source": [
    "### Изучение интервалов значений характеристик, которые связаны с повышенным оттоком"
   ]
  },
  {
   "cell_type": "code",
   "execution_count": 21,
   "metadata": {},
   "outputs": [],
   "source": [
    "def plot_churn_bar(df, column):\n",
    "    # Функция для построения гистограммы распределения количества пользователей по категориальному столбцу\n",
    "    churned_count = df[df['churn'] == 1][column].value_counts()\n",
    "    stayed_count = df[df['churn'] == 0][column].value_counts()\n",
    "    \n",
    "    fig = go.Figure()\n",
    "    # Бары для ушедших клиентов\n",
    "    fig.add_trace(go.Bar(\n",
    "            x=churned_count.index,\n",
    "            y=churned_count.values,\n",
    "            name='Ушедшие'\n",
    "        ))\n",
    "\n",
    "    # Бары для оставшихся клиентов\n",
    "    fig.add_trace(go.Bar(\n",
    "            x=stayed_count.index,\n",
    "            y=stayed_count.values,\n",
    "            name='Оставшиеся'\n",
    "        ))\n",
    "    fig.update_layout(\n",
    "        barmode='stack',\n",
    "        width=1000, \n",
    "        height=600,\n",
    "        xaxis_title=column,\n",
    "        yaxis_title='Количество пользователей',\n",
    "        title=f'Распределение клиентов по значению признака {column}',\n",
    "        xaxis = dict(\n",
    "            tickmode = 'linear',\n",
    "            ticktext = df[column].values\n",
    "        )\n",
    "    )\n",
    "    \n",
    "    pio.renderers.default = 'png'\n",
    "    pio.write_image(fig, 'graph.png')\n",
    "    fig.show()"
   ]
  },
  {
   "cell_type": "code",
   "execution_count": 22,
   "metadata": {},
   "outputs": [],
   "source": [
    "def plot_churn_percent(df, column):\n",
    "    # Функция для построения гистограммы распределения долей отточных и неотточных клиентов по категориальному столбцу\n",
    "    churned_count = df[df['churn'] == 1][column].value_counts()\n",
    "    stayed_count = df[df['churn'] == 0][column].value_counts()\n",
    "    \n",
    "    # Общее количество клиентов\n",
    "    total_count = churned_count + stayed_count\n",
    "    \n",
    "    # Процент ушедших и оставшихся клиентов\n",
    "    churned_percent = churned_count / total_count * 100\n",
    "    stayed_percent = stayed_count / total_count * 100\n",
    "    \n",
    "    stayed_percent = stayed_percent.fillna(100)\n",
    "    \n",
    "    fig = go.Figure()\n",
    "    \n",
    "\n",
    "    # Добавляем столбцы для ушедших клиентов\n",
    "    fig.add_trace(go.Bar(\n",
    "         x=churned_percent.index,\n",
    "         y=churned_percent.values,\n",
    "         name='Ушедшие'\n",
    "    ))\n",
    "\n",
    "    # Добавляем столбцы для оставшихся клиентов\n",
    "    fig.add_trace(go.Bar(\n",
    "         x=stayed_percent.index,\n",
    "         y=stayed_percent.values,\n",
    "         name='Оставшиеся'\n",
    "    ))\n",
    "\n",
    "    fig.update_layout(\n",
    "        barmode='stack',\n",
    "        width=1000, \n",
    "        height=600,\n",
    "        xaxis_title=column,\n",
    "        yaxis_title='Процент клиентов',\n",
    "        title=f'Доли клиентов по значению признака {column}',\n",
    "        xaxis=dict(\n",
    "            tickmode='linear',\n",
    "            ticktext=df[column].values\n",
    "        )\n",
    "    )\n",
    "    \n",
    "    pio.renderers.default = 'png'\n",
    "    pio.write_image(fig, 'graph.png')\n",
    "    fig.show()"
   ]
  },
  {
   "cell_type": "code",
   "execution_count": 23,
   "metadata": {},
   "outputs": [
    {
     "data": {
      "image/png": "[encoded data removed]"
     },
     "metadata": {},
     "output_type": "display_data"
    }
   ],
   "source": [
    "plot_churn_bar(df, 'city')"
   ]
  },
  {
   "cell_type": "markdown",
   "metadata": {},
   "source": [
    "Больше всего в абсолютном отношении пользователей, ушедших из банка, из Ярославля."
   ]
  },
  {
   "cell_type": "code",
   "execution_count": 24,
   "metadata": {},
   "outputs": [
    {
     "data": {
      "image/png": "[encoded data removed]"
     },
     "metadata": {},
     "output_type": "display_data"
    }
   ],
   "source": [
    "plot_churn_percent(df, 'city')"
   ]
  },
  {
   "cell_type": "markdown",
   "metadata": {},
   "source": [
    "В процентоном соотношении нельзя выделить город лидер по оттоку клиентов."
   ]
  },
  {
   "cell_type": "code",
   "execution_count": 25,
   "metadata": {},
   "outputs": [
    {
     "data": {
      "image/png": "[encoded data removed]"
     },
     "metadata": {},
     "output_type": "display_data"
    }
   ],
   "source": [
    "plot_churn_bar(df, 'gender')"
   ]
  },
  {
   "cell_type": "markdown",
   "metadata": {},
   "source": [
    "Мужчин, ушедших из банка, больше чем женщин."
   ]
  },
  {
   "cell_type": "code",
   "execution_count": 26,
   "metadata": {
    "scrolled": false
   },
   "outputs": [
    {
     "data": {
      "image/png": "[encoded data removed]"
     },
     "metadata": {},
     "output_type": "display_data"
    }
   ],
   "source": [
    "plot_churn_bar(df, 'age')"
   ]
  },
  {
   "cell_type": "markdown",
   "metadata": {},
   "source": [
    "На графике выделяются два \"горба\" наиболее отточных клиентов: клиенты с 26 лет по 39 и клиенты с 50 лет по 60. Небходимо оценить процентное соотношение ушедиших и не ушедих клиентов для каждого возраста, чтобы уточнить интервалы."
   ]
  },
  {
   "cell_type": "code",
   "execution_count": 27,
   "metadata": {},
   "outputs": [
    {
     "data": {
      "image/png": "[encoded data removed]"
     },
     "metadata": {},
     "output_type": "display_data"
    }
   ],
   "source": [
    "plot_churn_percent(df, 'age')"
   ]
  },
  {
   "cell_type": "markdown",
   "metadata": {},
   "source": [
    "График долей также подтвержадет наличие двух наиболее отточных интервалов: клиенты с 26 лет по 39 и клиенты с 50 лет по 60."
   ]
  },
  {
   "cell_type": "code",
   "execution_count": 28,
   "metadata": {
    "scrolled": false
   },
   "outputs": [
    {
     "data": {
      "image/png": "[encoded data removed]"
     },
     "metadata": {},
     "output_type": "display_data"
    }
   ],
   "source": [
    "plot_churn_bar(df, 'equity')"
   ]
  },
  {
   "cell_type": "markdown",
   "metadata": {},
   "source": [
    "Вместе с ростом общего количества клиентов, распределенным по признаку equity, заметен рост и отточных клиентов до значения equity равному 5. "
   ]
  },
  {
   "cell_type": "code",
   "execution_count": 29,
   "metadata": {},
   "outputs": [
    {
     "data": {
      "image/png": "[encoded data removed]"
     },
     "metadata": {},
     "output_type": "display_data"
    }
   ],
   "source": [
    "plot_churn_percent(df, 'equity')"
   ]
  },
  {
   "cell_type": "markdown",
   "metadata": {},
   "source": [
    "Около половины клиентов, имеющих показатель equity от 7 до 9, ушли из банка. Но необходимо понимать, что общее их количество достаточно мало, что не позволяет делать по ним выводы."
   ]
  },
  {
   "cell_type": "code",
   "execution_count": 30,
   "metadata": {
    "scrolled": false
   },
   "outputs": [
    {
     "data": {
      "image/png": "[encoded data removed]"
     },
     "metadata": {},
     "output_type": "display_data"
    }
   ],
   "source": [
    "plot_churn_bar(df, 'products')"
   ]
  },
  {
   "cell_type": "markdown",
   "metadata": {},
   "source": [
    "Наибольшее число отточных клиентов имеют 2 продукта. Клиентов, имеющих 5 продуктов, очень мало."
   ]
  },
  {
   "cell_type": "code",
   "execution_count": 31,
   "metadata": {},
   "outputs": [
    {
     "data": {
      "image/png": "[encoded data removed]"
     },
     "metadata": {},
     "output_type": "display_data"
    }
   ],
   "source": [
    "plot_churn_percent(df, 'products')"
   ]
  },
  {
   "cell_type": "markdown",
   "metadata": {},
   "source": [
    "Чем больше у клиента продуктов, тем выше вероятность его ухода из банка."
   ]
  },
  {
   "cell_type": "code",
   "execution_count": 32,
   "metadata": {},
   "outputs": [
    {
     "data": {
      "image/png": "[encoded data removed]"
     },
     "metadata": {},
     "output_type": "display_data"
    }
   ],
   "source": [
    "plot_churn_bar(df, 'credit_card')"
   ]
  },
  {
   "cell_type": "markdown",
   "metadata": {},
   "source": [
    "Общее количество клиентов с кредитной картой больше, чем без нее."
   ]
  },
  {
   "cell_type": "code",
   "execution_count": 33,
   "metadata": {},
   "outputs": [
    {
     "data": {
      "image/png": "[encoded data removed]"
     },
     "metadata": {},
     "output_type": "display_data"
    }
   ],
   "source": [
    "plot_churn_percent(df, 'credit_card')"
   ]
  },
  {
   "cell_type": "markdown",
   "metadata": {},
   "source": [
    "Клиенты, не имеющие кредитную карту, чаще уходит из банка."
   ]
  },
  {
   "cell_type": "code",
   "execution_count": 34,
   "metadata": {},
   "outputs": [
    {
     "data": {
      "image/png": "[encoded data removed]"
     },
     "metadata": {},
     "output_type": "display_data"
    }
   ],
   "source": [
    "plot_churn_bar(df, 'last_activity')"
   ]
  },
  {
   "cell_type": "markdown",
   "metadata": {},
   "source": [
    "Ушедшие клиенты чаще являются активными."
   ]
  },
  {
   "cell_type": "code",
   "execution_count": 35,
   "metadata": {},
   "outputs": [
    {
     "data": {
      "image/png": "[encoded data removed]"
     },
     "metadata": {},
     "output_type": "display_data"
    }
   ],
   "source": [
    "churned_values = df[df['churn'] == 1]['score']\n",
    "stayed_values = df[df['churn'] == 0]['score']\n",
    "fig = go.Figure()\n",
    "    \n",
    "fig.add_trace(go.Histogram(\n",
    "        x=churned_values,\n",
    "        name='Ушедшие',\n",
    "        nbinsx=300\n",
    "    ))\n",
    "\n",
    "fig.add_trace(go.Histogram(\n",
    "         x=stayed_values,\n",
    "         name='Оставшися',\n",
    "         nbinsx=300\n",
    "     ))\n",
    "\n",
    "fig.update_layout(\n",
    "        barmode='stack',\n",
    "        width=1000, \n",
    "        height=600,\n",
    "        xaxis_title='score',\n",
    "        yaxis_title='Количество пользователей',\n",
    "        title=f'Распределение ушедших и оставшихся пользователей по значению признака score'\n",
    "    )            "
   ]
  },
  {
   "cell_type": "markdown",
   "metadata": {},
   "source": [
    "Практически отсутствуют ушедшие пользователи с низким значением кредитного скоринга. В остальном, распределения значениий кредитного скоринга ушедших и оставшихся пользовтелей, похожи."
   ]
  },
  {
   "cell_type": "code",
   "execution_count": 36,
   "metadata": {},
   "outputs": [
    {
     "data": {
      "image/png": "[encoded data removed]"
     },
     "metadata": {},
     "output_type": "display_data"
    }
   ],
   "source": [
    "churned_values = df[df['churn'] == 1]['balance']\n",
    "stayed_values = df[df['churn'] == 0]['balance']\n",
    "fig = go.Figure()\n",
    "    \n",
    "fig.add_trace(go.Histogram(\n",
    "        x=churned_values,\n",
    "        name='Ушедшие',\n",
    "        nbinsx=5000\n",
    "    ))\n",
    "\n",
    "fig.add_trace(go.Histogram(\n",
    "         x=stayed_values,\n",
    "         name='Оставшися',        \n",
    "         nbinsx=5000\n",
    "     ))\n",
    "\n",
    "fig.update_layout(\n",
    "        barmode='stack',\n",
    "        width=1000, \n",
    "        height=600,\n",
    "        xaxis_title='balance',\n",
    "        yaxis_title='Количество пользователей',\n",
    "        title=f'Распределение ушедших и оставшихся пользователей по значению признака balance',\n",
    "        xaxis=dict(\n",
    "            range=[0, 3000000]\n",
    "        )\n",
    "    )"
   ]
  },
  {
   "cell_type": "markdown",
   "metadata": {},
   "source": [
    "Ушедшие пользователи имеют более плавное распределение баланса на счете, чем оставшиеся, у которых есть ярко выраженный пик возле 400 тысяч. Начиная с показателя баланса около 900000 рублей заметен рост доли отточных клиентов от общего числа клиентов с такии же балансом."
   ]
  },
  {
   "cell_type": "code",
   "execution_count": 37,
   "metadata": {},
   "outputs": [
    {
     "data": {
      "image/png": "[encoded data removed]"
     },
     "metadata": {},
     "output_type": "display_data"
    }
   ],
   "source": [
    "churned_values = df[df['churn'] == 1]['estimated_salary']\n",
    "stayed_values = df[df['churn'] == 0]['estimated_salary']\n",
    "fig = go.Figure()\n",
    "    \n",
    "fig.add_trace(go.Histogram(\n",
    "        x=churned_values,\n",
    "        name='Ушедшие',\n",
    "        nbinsx=500\n",
    "    ))\n",
    "\n",
    "fig.add_trace(go.Histogram(\n",
    "         x=stayed_values,\n",
    "         name='Оставшися',        \n",
    "         nbinsx=500\n",
    "     ))\n",
    "\n",
    "fig.update_layout(\n",
    "        barmode='stack',\n",
    "        width=1000, \n",
    "        height=600,\n",
    "        xaxis_title='estimated_salary',\n",
    "        yaxis_title='Количество пользователей',\n",
    "        title=f'Распределение ушедших и оставшихся пользователей по значению признака estimated_salary',\n",
    "        xaxis=dict(\n",
    "            range=[0, 500000]\n",
    "        )\n",
    "    )"
   ]
  },
  {
   "cell_type": "markdown",
   "metadata": {},
   "source": [
    "Распределения значениий заработной платы ушедших и оставшихся пользовтелей достаточной похожи."
   ]
  },
  {
   "cell_type": "markdown",
   "metadata": {},
   "source": [
    "### Создание портрета клиента, склонного уходить из банка"
   ]
  },
  {
   "cell_type": "markdown",
   "metadata": {},
   "source": [
    "Исходя из всех построенных графиков, можно составить следующий портрет клиента, склонного уходить из банка:\n",
    "\n",
    "- Мужчина\n",
    "- Возрастом с 26 лет по 39 и с 50 лет по 60\n",
    "- Имеющий от 2 до 4 продуктов\n",
    "- Имеющий на балансе более 900000 рублей\n",
    "- Яляющийся активным клиентом"
   ]
  },
  {
   "cell_type": "markdown",
   "metadata": {},
   "source": [
    "## Проверка гипотез"
   ]
  },
  {
   "cell_type": "markdown",
   "metadata": {},
   "source": [
    "Так как размеры выборок несопоставимы, то для проверки гипотез можно использовать непараметрический тест Манна-Уитни.\n",
    "\n",
    "Пороговый уровень статистической значимости - 0.05."
   ]
  },
  {
   "cell_type": "markdown",
   "metadata": {},
   "source": [
    "### Медианный доход ушедших клиентов отличается от медианного дохода оставшихся клиентов"
   ]
  },
  {
   "cell_type": "markdown",
   "metadata": {},
   "source": [
    "Нулевая гипотеза - Медианный доход ушедших клиентов равен медианному доходу оставшихся клиентов.\n",
    "\n",
    "Альтернативная - Медианный доход ушедших клиентов отличается от медианного дохода оставшихся клиентов."
   ]
  },
  {
   "cell_type": "code",
   "execution_count": 38,
   "metadata": {},
   "outputs": [
    {
     "name": "stdout",
     "output_type": "stream",
     "text": [
      "p-значение: 0.0002. Отвергаем нулевую гипотезу.\n"
     ]
    }
   ],
   "source": [
    "churned_salaries = df[df['churn'] == 1]['estimated_salary']\n",
    "stayed_salaries = df[df['churn'] == 0]['estimated_salary']\n",
    "\n",
    "statistics, p_value = stats.mannwhitneyu(churned_salaries, stayed_salaries, alternative='two-sided')\n",
    "\n",
    "# Вывод результатов\n",
    "alpha = 0.05\n",
    "\n",
    "if p_value < alpha:\n",
    "    print(f'p-значение: {p_value:.4f}. Отвергаем нулевую гипотезу.')\n",
    "else:\n",
    "    print(f'p-значение: {p_value:.4f}. Не получилось отвергнуть нулевую гипотезу.')"
   ]
  },
  {
   "cell_type": "markdown",
   "metadata": {},
   "source": [
    "### Медианный кредитный рейтинг ушедших клиентов равен медианному кредитному рейтингу оставшихся клиентов."
   ]
  },
  {
   "cell_type": "markdown",
   "metadata": {},
   "source": [
    "Нулевая гипотеза - Медианный кредитный рейтинг ушедших клиентов равен медианному кредитному рейтингу оставшихся клиентов.\n",
    "\n",
    "Альтернативная - Медианный кредитный рейтинг ушедших клиентов отличается от медианного кредитного рейтинга оставшихся клиентов."
   ]
  },
  {
   "cell_type": "code",
   "execution_count": 39,
   "metadata": {},
   "outputs": [
    {
     "name": "stdout",
     "output_type": "stream",
     "text": [
      "p-значение: 5.9541380859275425e-22. Отвергаем нулевую гипотезу.\n"
     ]
    }
   ],
   "source": [
    "churned_clients  = df[df['churn'] == 1]['score']\n",
    "remaining_clients  = df[df['churn'] == 0]['score']\n",
    "\n",
    "statistics, p_value = stats.mannwhitneyu(churned_clients, remaining_clients, alternative='two-sided')\n",
    "\n",
    "# Вывод результатов\n",
    "alpha = 0.05\n",
    "\n",
    "if p_value < alpha:\n",
    "    print(f'p-значение: {p_value}. Отвергаем нулевую гипотезу.')\n",
    "else:\n",
    "    print(f'p-значение: {p_value}. Не получилось отвергнуть нулевую гипотезу.')"
   ]
  },
  {
   "cell_type": "markdown",
   "metadata": {},
   "source": [
    "Для обоих тестов мы можем отвергнуть нулевые гипотезы."
   ]
  },
  {
   "cell_type": "markdown",
   "metadata": {},
   "source": [
    "## Сегментация"
   ]
  },
  {
   "cell_type": "code",
   "execution_count": 40,
   "metadata": {},
   "outputs": [
    {
     "name": "stdout",
     "output_type": "stream",
     "text": [
      "Уровень оттока по банку равен 18.32%\n"
     ]
    }
   ],
   "source": [
    "bank_churn_level = round(df.churn.sum()/len(df)*100,2)\n",
    "print(f'Уровень оттока по банку равен {bank_churn_level}%')"
   ]
  },
  {
   "cell_type": "markdown",
   "metadata": {},
   "source": [
    "### Сегмент 1 "
   ]
  },
  {
   "cell_type": "markdown",
   "metadata": {},
   "source": [
    "Первый сегмент будут составлять мужчины в возрасте от 26 до 39 лет или от 50 до 60 лет, имеющие от 2 до 4 продуктов, и имеющие на балансе более 900000 рублей."
   ]
  },
  {
   "cell_type": "code",
   "execution_count": 41,
   "metadata": {},
   "outputs": [
    {
     "name": "stdout",
     "output_type": "stream",
     "text": [
      "Объем первого сегмента равен 646 человек, из них 381 являются отточными.\n",
      "Уровень оттока по первому сегменту равен 58.98%.\n"
     ]
    }
   ],
   "source": [
    "segment_1 = df.query('gender == \"М\" and (26 <= age <= 39 or 50 <= age <= 60) and (2 <= products <= 4 ) and balance >= 900000')\n",
    "\n",
    "size_segment_1 = len(segment_1)\n",
    "churn_segment_1 = segment_1['churn'].sum()\n",
    "\n",
    "print(f'Объем первого сегмента равен {size_segment_1} человек, из них {churn_segment_1} являются отточными.')\n",
    "\n",
    "segment_1_churn_level = round(churn_segment_1/size_segment_1*100,2)\n",
    "print(f'Уровень оттока по первому сегменту равен {segment_1_churn_level}%.')"
   ]
  },
  {
   "cell_type": "code",
   "execution_count": 42,
   "metadata": {},
   "outputs": [
    {
     "data": {
      "image/png": "[encoded data removed]"
     },
     "metadata": {},
     "output_type": "display_data"
    }
   ],
   "source": [
    "fig = go.Figure(data=[go.Pie(labels=['Оставшиеся','Ушедшие'],\n",
    "                             values=[size_segment_1 - churn_segment_1, churn_segment_1], \n",
    "                             pull = [0.1, 0],\n",
    "                             marker=dict(colors=['red', 'blue'])\n",
    "                            )]) \n",
    "fig.update_layout(title={'text':'Процент ушедших и оставшихся клиентов для первого сегмента',\n",
    "                         'y': 0.95,\n",
    "                         'x': 0.45, \n",
    "                         'xanchor': 'center',\n",
    "                         'yanchor': 'top'},\n",
    "                  width=900, \n",
    "                  height=600)\n",
    "fig.show()"
   ]
  },
  {
   "cell_type": "markdown",
   "metadata": {},
   "source": [
    "### Сегмент 2"
   ]
  },
  {
   "cell_type": "markdown",
   "metadata": {},
   "source": [
    "Второй сегмент будут составлять мужчины в возрасте от 26 до 39 лет или от 50 до 60 лет, имеющие от 2 до 4 продуктов, и являющиеся активными."
   ]
  },
  {
   "cell_type": "code",
   "execution_count": 43,
   "metadata": {},
   "outputs": [
    {
     "name": "stdout",
     "output_type": "stream",
     "text": [
      "Объем второго сегмента равен 1095 человек, из них 503 являются отточными.\n",
      "Уровень оттока по второму сегменту равен 45.94%.\n"
     ]
    }
   ],
   "source": [
    "segment_2 = df.query('gender == \"М\" and (26 <= age <= 39 or 50 <= age <= 60) and (2 <= products <= 4 ) and last_activity == 1')\n",
    "\n",
    "size_segment_2 = len(segment_2)\n",
    "churn_segment_2 = segment_2['churn'].sum()\n",
    "\n",
    "print(f'Объем второго сегмента равен {size_segment_2} человек, из них {churn_segment_2} являются отточными.')\n",
    "\n",
    "segment_2_churn_level = round(churn_segment_2/size_segment_2*100,2)\n",
    "print(f'Уровень оттока по второму сегменту равен {segment_2_churn_level}%.')"
   ]
  },
  {
   "cell_type": "code",
   "execution_count": 44,
   "metadata": {},
   "outputs": [
    {
     "data": {
      "image/png": "[encoded data removed]"
     },
     "metadata": {},
     "output_type": "display_data"
    }
   ],
   "source": [
    "fig = go.Figure(data=[go.Pie(labels=['Оставшиеся','Ушедшие'],\n",
    "                             values=[size_segment_2 - churn_segment_2, churn_segment_2,], \n",
    "                             pull = [0.1, 0],\n",
    "                             marker=dict(colors=['red', 'blue'])\n",
    "                             )]) \n",
    "fig.update_layout(title={'text':'Процент ушедших и оставшихся клиентов для второго сегмента',\n",
    "                         'y': 0.95,\n",
    "                         'x': 0.45, \n",
    "                         'xanchor': 'center',\n",
    "                         'yanchor': 'top'},\n",
    "                  width=900, \n",
    "                  height=600)\n",
    "fig.show()"
   ]
  },
  {
   "cell_type": "markdown",
   "metadata": {},
   "source": [
    "### Выводы по главе"
   ]
  },
  {
   "cell_type": "markdown",
   "metadata": {},
   "source": [
    "Уровни оттока для первого и второго сегмента выше уровня оттока по банку на 40 и 28 процентных пунктов соответственно. Приоритетным к вниманию следует отнести первый сегмент, а за ним второй."
   ]
  },
  {
   "cell_type": "markdown",
   "metadata": {},
   "source": [
    "## Выводы по проекту"
   ]
  },
  {
   "cell_type": "markdown",
   "metadata": {},
   "source": [
    "В процессе выполнения проекта были проделаны следующие шаги:\n",
    "- Выполнена предобработка данных\n",
    "- Произведен исследовательский анализ данных\n",
    "- Выдвинуты и проверены 2 статистические гипотезы\n",
    "- Сформированы 2 сегмента, связанные с повышенным оттоком.\n",
    "\n",
    "В процессе исследовательского анализа данных были построенные диаграммы распределения ушедших и оставшихся клиентов, выделены интервалы и характеристики, связанные с повышенным оттоком, и составлен портрет клиента, склонного уходить из банка.\n",
    "\n",
    "Обе статистические гипотезы выявили статистическую разницу между ушедшими и оставшимися клиентами.\n",
    "\n",
    "Два выделенных сегмента показывают достаточно высокий уровень оттока клиентов."
   ]
  },
  {
   "cell_type": "markdown",
   "metadata": {},
   "source": [
    "### Рекомендации"
   ]
  },
  {
   "cell_type": "markdown",
   "metadata": {},
   "source": [
    "Я бы выделил следующие рекомендации по отношению к отточным клиентам:\n",
    "\n",
    "- Необходимо повысить уровень удовлетворенности клиентов в каждом сегменте. Например, можно использовать обратную связь клиентов, чтобы понять, какие аспекты нуждаются в улучшении.\n",
    "\n",
    "- Необходимо разработать персонализированные стратегии, чтобы удерживать клиентов в каждом сегменте. Нужно учесть особенности и потребности клиентов в каждом сегменте и, возможно, предоставить им специальные предложения.\n",
    "\n",
    "- Необходимо исследовать конкурентные предложения и стратегии, чтобы понять, почему клиенты уходят к конкурентам. \n",
    "\n",
    "- Необходимо разработать стратегии по привлечению новых клиентов в каждом сегменте. Нужно исследовать источники привлечения новых клиентов, а также проводить рекламные кампании, которые могут привлечь клиентов."
   ]
  },
  {
   "cell_type": "markdown",
   "metadata": {},
   "source": [
    "## Приложение"
   ]
  },
  {
   "cell_type": "markdown",
   "metadata": {},
   "source": [
    "### Презентация"
   ]
  },
  {
   "cell_type": "markdown",
   "metadata": {},
   "source": [
    "https://drive.google.com/file/d/1Ew1MrEdP7wvfvfH27pV5k2leDZlMGZPb/view?usp=sharing"
   ]
  },
  {
   "cell_type": "markdown",
   "metadata": {},
   "source": [
    "### Дашборд"
   ]
  },
  {
   "cell_type": "markdown",
   "metadata": {},
   "source": [
    "https://public.tableau.com/app/profile/yaroslav.brodnev/viz/Dashboard_for_Metanprom/Dashboard1?publish=yes"
   ]
  }
 ],
 "metadata": {
  "ExecuteTimeLog": [
   {
    "duration": 391,
    "start_time": "2023-06-28T12:54:05.716Z"
   },
   {
    "duration": 164,
    "start_time": "2023-06-28T12:54:06.109Z"
   },
   {
    "duration": 112,
    "start_time": "2023-06-28T12:54:25.496Z"
   },
   {
    "duration": 129,
    "start_time": "2023-06-28T12:54:30.825Z"
   },
   {
    "duration": 12,
    "start_time": "2023-06-28T12:54:48.036Z"
   },
   {
    "duration": 5,
    "start_time": "2023-06-28T13:01:33.900Z"
   },
   {
    "duration": 29,
    "start_time": "2023-06-28T13:01:39.195Z"
   },
   {
    "duration": 10,
    "start_time": "2023-06-28T13:03:32.495Z"
   },
   {
    "duration": 40,
    "start_time": "2023-06-28T13:09:16.465Z"
   },
   {
    "duration": 6,
    "start_time": "2023-06-28T14:06:23.905Z"
   },
   {
    "duration": 22,
    "start_time": "2023-06-28T14:06:26.319Z"
   },
   {
    "duration": 7,
    "start_time": "2023-06-28T14:07:03.099Z"
   },
   {
    "duration": 20,
    "start_time": "2023-06-28T14:07:06.260Z"
   },
   {
    "duration": 8,
    "start_time": "2023-06-28T14:07:30.298Z"
   },
   {
    "duration": 16,
    "start_time": "2023-06-28T14:09:57.403Z"
   },
   {
    "duration": 35,
    "start_time": "2023-06-28T14:17:38.796Z"
   },
   {
    "duration": 8,
    "start_time": "2023-06-28T14:20:55.842Z"
   },
   {
    "duration": 87,
    "start_time": "2023-06-28T14:21:52.623Z"
   },
   {
    "duration": 3,
    "start_time": "2023-06-28T14:22:26.921Z"
   },
   {
    "duration": 89,
    "start_time": "2023-06-28T14:22:44.596Z"
   },
   {
    "duration": 79,
    "start_time": "2023-06-28T14:22:55.012Z"
   },
   {
    "duration": 6,
    "start_time": "2023-06-28T14:23:23.407Z"
   },
   {
    "duration": 73,
    "start_time": "2023-06-28T14:24:57.954Z"
   },
   {
    "duration": 1507,
    "start_time": "2023-06-28T14:25:09.912Z"
   },
   {
    "duration": 1218,
    "start_time": "2023-06-28T14:25:18.133Z"
   },
   {
    "duration": 1076,
    "start_time": "2023-06-28T14:25:27.657Z"
   },
   {
    "duration": 1200,
    "start_time": "2023-06-28T14:25:34.130Z"
   },
   {
    "duration": 1093,
    "start_time": "2023-06-28T14:25:42.470Z"
   },
   {
    "duration": 5,
    "start_time": "2023-06-28T14:27:27.981Z"
   },
   {
    "duration": 6,
    "start_time": "2023-06-28T14:27:48.200Z"
   },
   {
    "duration": 8,
    "start_time": "2023-06-28T14:27:59.943Z"
   },
   {
    "duration": 7,
    "start_time": "2023-06-28T14:28:16.513Z"
   },
   {
    "duration": 8,
    "start_time": "2023-06-28T14:28:36.733Z"
   },
   {
    "duration": 7,
    "start_time": "2023-06-28T14:28:42.003Z"
   },
   {
    "duration": 7,
    "start_time": "2023-06-28T14:28:44.410Z"
   },
   {
    "duration": 7,
    "start_time": "2023-06-28T14:28:46.736Z"
   },
   {
    "duration": 7,
    "start_time": "2023-06-28T14:28:56.739Z"
   },
   {
    "duration": 7,
    "start_time": "2023-06-28T14:29:03.422Z"
   },
   {
    "duration": 9,
    "start_time": "2023-06-28T14:29:42.219Z"
   },
   {
    "duration": 8,
    "start_time": "2023-06-28T14:29:52.948Z"
   },
   {
    "duration": 6,
    "start_time": "2023-06-28T14:30:00.625Z"
   },
   {
    "duration": 10,
    "start_time": "2023-06-28T14:30:45.905Z"
   },
   {
    "duration": 546,
    "start_time": "2023-06-28T14:52:09.113Z"
   },
   {
    "duration": 24,
    "start_time": "2023-06-28T14:52:52.603Z"
   },
   {
    "duration": 6,
    "start_time": "2023-06-28T16:34:29.549Z"
   },
   {
    "duration": 1469,
    "start_time": "2023-06-28T16:36:20.151Z"
   },
   {
    "duration": 10,
    "start_time": "2023-06-28T16:36:28.179Z"
   },
   {
    "duration": 506,
    "start_time": "2023-06-28T16:36:53.337Z"
   },
   {
    "duration": 3,
    "start_time": "2023-06-28T16:37:12.722Z"
   },
   {
    "duration": 190,
    "start_time": "2023-06-28T16:37:17.945Z"
   },
   {
    "duration": 26,
    "start_time": "2023-06-28T16:40:15.261Z"
   },
   {
    "duration": 10,
    "start_time": "2023-06-28T16:41:18.642Z"
   },
   {
    "duration": 9,
    "start_time": "2023-06-28T16:41:29.612Z"
   },
   {
    "duration": 14,
    "start_time": "2023-06-28T16:41:32.136Z"
   },
   {
    "duration": 19,
    "start_time": "2023-06-28T16:41:47.819Z"
   },
   {
    "duration": 22,
    "start_time": "2023-06-28T16:43:30.907Z"
   },
   {
    "duration": 20,
    "start_time": "2023-06-28T16:43:44.533Z"
   },
   {
    "duration": 20,
    "start_time": "2023-06-28T16:44:38.190Z"
   },
   {
    "duration": 17,
    "start_time": "2023-06-28T16:51:39.361Z"
   },
   {
    "duration": 17,
    "start_time": "2023-06-28T16:51:42.970Z"
   },
   {
    "duration": 18,
    "start_time": "2023-06-28T16:52:06.904Z"
   },
   {
    "duration": 17,
    "start_time": "2023-06-28T16:52:25.477Z"
   },
   {
    "duration": 9,
    "start_time": "2023-06-28T16:53:57.067Z"
   },
   {
    "duration": 11,
    "start_time": "2023-06-28T16:57:11.388Z"
   },
   {
    "duration": 5,
    "start_time": "2023-06-28T16:57:53.244Z"
   },
   {
    "duration": 5,
    "start_time": "2023-06-28T16:58:36.517Z"
   },
   {
    "duration": 18,
    "start_time": "2023-06-28T16:59:24.173Z"
   },
   {
    "duration": 16,
    "start_time": "2023-06-28T16:59:32.262Z"
   },
   {
    "duration": 20,
    "start_time": "2023-06-28T16:59:41.124Z"
   },
   {
    "duration": 18,
    "start_time": "2023-06-28T17:00:44.674Z"
   },
   {
    "duration": 111,
    "start_time": "2023-06-28T17:02:29.428Z"
   },
   {
    "duration": 4,
    "start_time": "2023-06-28T17:03:50.865Z"
   },
   {
    "duration": 5,
    "start_time": "2023-06-28T17:04:51.036Z"
   },
   {
    "duration": 5,
    "start_time": "2023-06-28T17:05:03.700Z"
   },
   {
    "duration": 20,
    "start_time": "2023-06-28T17:06:57.125Z"
   },
   {
    "duration": 22,
    "start_time": "2023-06-28T17:07:31.937Z"
   },
   {
    "duration": 22,
    "start_time": "2023-06-28T17:07:45.286Z"
   },
   {
    "duration": 21,
    "start_time": "2023-06-28T17:08:03.673Z"
   },
   {
    "duration": 17,
    "start_time": "2023-06-28T17:08:23.527Z"
   },
   {
    "duration": 17,
    "start_time": "2023-06-28T17:08:31.361Z"
   },
   {
    "duration": 27,
    "start_time": "2023-06-28T17:08:35.017Z"
   },
   {
    "duration": 1152,
    "start_time": "2023-06-28T17:10:01.227Z"
   },
   {
    "duration": 198,
    "start_time": "2023-06-28T17:10:02.381Z"
   },
   {
    "duration": 13,
    "start_time": "2023-06-28T17:10:02.580Z"
   },
   {
    "duration": 34,
    "start_time": "2023-06-28T17:10:02.594Z"
   },
   {
    "duration": 27,
    "start_time": "2023-06-28T17:10:02.630Z"
   },
   {
    "duration": 127,
    "start_time": "2023-06-28T17:10:02.659Z"
   },
   {
    "duration": 0,
    "start_time": "2023-06-28T17:10:02.787Z"
   },
   {
    "duration": 0,
    "start_time": "2023-06-28T17:10:02.789Z"
   },
   {
    "duration": 0,
    "start_time": "2023-06-28T17:10:02.790Z"
   },
   {
    "duration": 0,
    "start_time": "2023-06-28T17:10:02.790Z"
   },
   {
    "duration": 0,
    "start_time": "2023-06-28T17:10:02.791Z"
   },
   {
    "duration": 0,
    "start_time": "2023-06-28T17:10:02.792Z"
   },
   {
    "duration": 0,
    "start_time": "2023-06-28T17:10:02.793Z"
   },
   {
    "duration": 0,
    "start_time": "2023-06-28T17:10:02.794Z"
   },
   {
    "duration": 0,
    "start_time": "2023-06-28T17:10:02.795Z"
   },
   {
    "duration": 1047,
    "start_time": "2023-06-28T17:10:40.202Z"
   },
   {
    "duration": 106,
    "start_time": "2023-06-28T17:10:41.251Z"
   },
   {
    "duration": 12,
    "start_time": "2023-06-28T17:10:41.359Z"
   },
   {
    "duration": 4,
    "start_time": "2023-06-28T17:10:41.374Z"
   },
   {
    "duration": 11,
    "start_time": "2023-06-28T17:10:41.379Z"
   },
   {
    "duration": 5,
    "start_time": "2023-06-28T17:10:41.391Z"
   },
   {
    "duration": 30,
    "start_time": "2023-06-28T17:10:41.397Z"
   },
   {
    "duration": 32,
    "start_time": "2023-06-28T17:10:41.429Z"
   },
   {
    "duration": 9,
    "start_time": "2023-06-28T17:10:41.463Z"
   },
   {
    "duration": 7,
    "start_time": "2023-06-28T17:10:41.475Z"
   },
   {
    "duration": 7,
    "start_time": "2023-06-28T17:10:41.484Z"
   },
   {
    "duration": 16,
    "start_time": "2023-06-28T17:10:41.492Z"
   },
   {
    "duration": 48,
    "start_time": "2023-06-28T17:10:41.509Z"
   },
   {
    "duration": 4,
    "start_time": "2023-06-28T17:10:41.560Z"
   },
   {
    "duration": 11,
    "start_time": "2023-06-28T17:10:41.566Z"
   },
   {
    "duration": 22,
    "start_time": "2023-06-28T17:14:23.458Z"
   },
   {
    "duration": 4,
    "start_time": "2023-06-28T17:14:34.788Z"
   },
   {
    "duration": 21,
    "start_time": "2023-06-28T17:14:46.222Z"
   },
   {
    "duration": 21,
    "start_time": "2023-06-28T17:14:49.777Z"
   },
   {
    "duration": 6,
    "start_time": "2023-06-28T17:46:36.561Z"
   },
   {
    "duration": 23,
    "start_time": "2023-06-28T17:46:42.030Z"
   },
   {
    "duration": 11,
    "start_time": "2023-06-28T17:46:57.903Z"
   },
   {
    "duration": 1095,
    "start_time": "2023-06-28T17:47:12.729Z"
   },
   {
    "duration": 93,
    "start_time": "2023-06-28T17:47:13.826Z"
   },
   {
    "duration": 14,
    "start_time": "2023-06-28T17:47:13.920Z"
   },
   {
    "duration": 3,
    "start_time": "2023-06-28T17:47:13.936Z"
   },
   {
    "duration": 11,
    "start_time": "2023-06-28T17:47:13.941Z"
   },
   {
    "duration": 8,
    "start_time": "2023-06-28T17:47:13.954Z"
   },
   {
    "duration": 31,
    "start_time": "2023-06-28T17:47:13.964Z"
   },
   {
    "duration": 25,
    "start_time": "2023-06-28T17:47:13.997Z"
   },
   {
    "duration": 34,
    "start_time": "2023-06-28T17:47:14.024Z"
   },
   {
    "duration": 12,
    "start_time": "2023-06-28T17:47:14.060Z"
   },
   {
    "duration": 9,
    "start_time": "2023-06-28T17:47:14.074Z"
   },
   {
    "duration": 7,
    "start_time": "2023-06-28T17:47:14.085Z"
   },
   {
    "duration": 17,
    "start_time": "2023-06-28T17:47:14.094Z"
   },
   {
    "duration": 57,
    "start_time": "2023-06-28T17:47:14.114Z"
   },
   {
    "duration": 4,
    "start_time": "2023-06-28T17:47:14.173Z"
   },
   {
    "duration": 15,
    "start_time": "2023-06-28T17:47:14.179Z"
   },
   {
    "duration": 101,
    "start_time": "2023-06-28T17:47:47.644Z"
   },
   {
    "duration": 18,
    "start_time": "2023-06-28T17:47:57.689Z"
   },
   {
    "duration": 22,
    "start_time": "2023-06-28T17:48:48.068Z"
   },
   {
    "duration": 16,
    "start_time": "2023-06-28T17:49:40.225Z"
   },
   {
    "duration": 16,
    "start_time": "2023-06-28T17:49:54.516Z"
   },
   {
    "duration": 16,
    "start_time": "2023-06-28T17:50:06.847Z"
   },
   {
    "duration": 10,
    "start_time": "2023-06-28T17:50:24.617Z"
   },
   {
    "duration": 5,
    "start_time": "2023-06-28T17:50:41.446Z"
   },
   {
    "duration": 1152,
    "start_time": "2023-06-28T17:50:56.738Z"
   },
   {
    "duration": 105,
    "start_time": "2023-06-28T17:50:57.892Z"
   },
   {
    "duration": 11,
    "start_time": "2023-06-28T17:50:57.999Z"
   },
   {
    "duration": 7,
    "start_time": "2023-06-28T17:50:58.012Z"
   },
   {
    "duration": 5,
    "start_time": "2023-06-28T17:50:58.021Z"
   },
   {
    "duration": 9,
    "start_time": "2023-06-28T17:50:58.027Z"
   },
   {
    "duration": 40,
    "start_time": "2023-06-28T17:50:58.037Z"
   },
   {
    "duration": 5,
    "start_time": "2023-06-28T17:50:58.079Z"
   },
   {
    "duration": 7,
    "start_time": "2023-06-28T17:50:58.085Z"
   },
   {
    "duration": 9,
    "start_time": "2023-06-28T17:50:58.094Z"
   },
   {
    "duration": 8,
    "start_time": "2023-06-28T17:50:58.105Z"
   },
   {
    "duration": 9,
    "start_time": "2023-06-28T17:50:58.114Z"
   },
   {
    "duration": 17,
    "start_time": "2023-06-28T17:50:58.157Z"
   },
   {
    "duration": 16,
    "start_time": "2023-06-28T17:50:58.176Z"
   },
   {
    "duration": 4,
    "start_time": "2023-06-28T17:50:58.194Z"
   },
   {
    "duration": 16,
    "start_time": "2023-06-28T17:50:58.200Z"
   },
   {
    "duration": 8,
    "start_time": "2023-06-28T17:51:06.707Z"
   },
   {
    "duration": 12,
    "start_time": "2023-06-28T17:51:12.298Z"
   },
   {
    "duration": 1043,
    "start_time": "2023-06-28T17:51:54.558Z"
   },
   {
    "duration": 105,
    "start_time": "2023-06-28T17:51:55.603Z"
   },
   {
    "duration": 11,
    "start_time": "2023-06-28T17:51:55.709Z"
   },
   {
    "duration": 3,
    "start_time": "2023-06-28T17:51:55.722Z"
   },
   {
    "duration": 5,
    "start_time": "2023-06-28T17:51:55.727Z"
   },
   {
    "duration": 10,
    "start_time": "2023-06-28T17:51:55.733Z"
   },
   {
    "duration": 26,
    "start_time": "2023-06-28T17:51:55.745Z"
   },
   {
    "duration": 4,
    "start_time": "2023-06-28T17:51:55.773Z"
   },
   {
    "duration": 7,
    "start_time": "2023-06-28T17:51:55.779Z"
   },
   {
    "duration": 20,
    "start_time": "2023-06-28T17:51:55.788Z"
   },
   {
    "duration": 12,
    "start_time": "2023-06-28T17:51:55.810Z"
   },
   {
    "duration": 9,
    "start_time": "2023-06-28T17:51:55.823Z"
   },
   {
    "duration": 29,
    "start_time": "2023-06-28T17:51:55.833Z"
   },
   {
    "duration": 16,
    "start_time": "2023-06-28T17:51:55.864Z"
   },
   {
    "duration": 5,
    "start_time": "2023-06-28T17:51:55.881Z"
   },
   {
    "duration": 27,
    "start_time": "2023-06-28T17:51:55.887Z"
   },
   {
    "duration": 1074,
    "start_time": "2023-06-28T17:55:19.024Z"
   },
   {
    "duration": 102,
    "start_time": "2023-06-28T17:55:20.100Z"
   },
   {
    "duration": 13,
    "start_time": "2023-06-28T17:55:20.203Z"
   },
   {
    "duration": 3,
    "start_time": "2023-06-28T17:55:20.218Z"
   },
   {
    "duration": 16,
    "start_time": "2023-06-28T17:55:20.223Z"
   },
   {
    "duration": 12,
    "start_time": "2023-06-28T17:55:20.240Z"
   },
   {
    "duration": 7,
    "start_time": "2023-06-28T17:55:20.256Z"
   },
   {
    "duration": 12,
    "start_time": "2023-06-28T17:55:20.264Z"
   },
   {
    "duration": 16,
    "start_time": "2023-06-28T17:55:20.277Z"
   },
   {
    "duration": 17,
    "start_time": "2023-06-28T17:55:20.294Z"
   },
   {
    "duration": 5,
    "start_time": "2023-06-28T17:55:20.313Z"
   },
   {
    "duration": 40,
    "start_time": "2023-06-28T17:55:20.320Z"
   },
   {
    "duration": 21,
    "start_time": "2023-06-28T17:55:20.363Z"
   },
   {
    "duration": 16,
    "start_time": "2023-06-28T17:55:20.388Z"
   },
   {
    "duration": 86,
    "start_time": "2023-06-28T17:55:20.406Z"
   },
   {
    "duration": 0,
    "start_time": "2023-06-28T17:55:20.494Z"
   },
   {
    "duration": 0,
    "start_time": "2023-06-28T17:55:20.496Z"
   },
   {
    "duration": 61,
    "start_time": "2023-06-28T17:55:28.377Z"
   },
   {
    "duration": 22,
    "start_time": "2023-06-28T17:55:30.696Z"
   },
   {
    "duration": 6,
    "start_time": "2023-06-28T17:55:33.755Z"
   },
   {
    "duration": 3,
    "start_time": "2023-06-28T17:57:00.780Z"
   },
   {
    "duration": 3,
    "start_time": "2023-06-28T17:57:17.742Z"
   },
   {
    "duration": 3,
    "start_time": "2023-06-28T17:57:37.890Z"
   },
   {
    "duration": 96,
    "start_time": "2023-06-28T18:04:36.987Z"
   },
   {
    "duration": 29,
    "start_time": "2023-06-28T18:04:49.252Z"
   },
   {
    "duration": 22,
    "start_time": "2023-06-28T18:05:13.012Z"
   },
   {
    "duration": 11,
    "start_time": "2023-06-28T18:05:41.660Z"
   },
   {
    "duration": 12,
    "start_time": "2023-06-28T18:05:45.080Z"
   },
   {
    "duration": 1052,
    "start_time": "2023-06-28T18:05:54.587Z"
   },
   {
    "duration": 95,
    "start_time": "2023-06-28T18:05:55.642Z"
   },
   {
    "duration": 12,
    "start_time": "2023-06-28T18:05:55.738Z"
   },
   {
    "duration": 3,
    "start_time": "2023-06-28T18:05:55.752Z"
   },
   {
    "duration": 9,
    "start_time": "2023-06-28T18:05:55.756Z"
   },
   {
    "duration": 10,
    "start_time": "2023-06-28T18:05:55.766Z"
   },
   {
    "duration": 16,
    "start_time": "2023-06-28T18:05:55.777Z"
   },
   {
    "duration": 21,
    "start_time": "2023-06-28T18:05:55.795Z"
   },
   {
    "duration": 41,
    "start_time": "2023-06-28T18:05:55.817Z"
   },
   {
    "duration": 49,
    "start_time": "2023-06-28T18:05:55.860Z"
   },
   {
    "duration": 10,
    "start_time": "2023-06-28T18:05:55.911Z"
   },
   {
    "duration": 28,
    "start_time": "2023-06-28T18:05:55.923Z"
   },
   {
    "duration": 29,
    "start_time": "2023-06-28T18:05:55.953Z"
   },
   {
    "duration": 25,
    "start_time": "2023-06-28T18:05:55.986Z"
   },
   {
    "duration": 38,
    "start_time": "2023-06-28T18:05:56.014Z"
   },
   {
    "duration": 6,
    "start_time": "2023-06-28T18:05:56.054Z"
   },
   {
    "duration": 8,
    "start_time": "2023-06-28T18:05:56.062Z"
   },
   {
    "duration": 4,
    "start_time": "2023-06-28T18:05:56.072Z"
   },
   {
    "duration": 32,
    "start_time": "2023-06-28T18:05:56.078Z"
   },
   {
    "duration": 100,
    "start_time": "2023-06-28T18:08:01.036Z"
   },
   {
    "duration": 1120,
    "start_time": "2023-06-28T18:08:11.931Z"
   },
   {
    "duration": 89,
    "start_time": "2023-06-28T18:08:13.053Z"
   },
   {
    "duration": 12,
    "start_time": "2023-06-28T18:08:13.144Z"
   },
   {
    "duration": 4,
    "start_time": "2023-06-28T18:08:13.157Z"
   },
   {
    "duration": 28,
    "start_time": "2023-06-28T18:08:13.163Z"
   },
   {
    "duration": 13,
    "start_time": "2023-06-28T18:08:13.192Z"
   },
   {
    "duration": 21,
    "start_time": "2023-06-28T18:08:13.207Z"
   },
   {
    "duration": 25,
    "start_time": "2023-06-28T18:08:13.230Z"
   },
   {
    "duration": 37,
    "start_time": "2023-06-28T18:08:13.257Z"
   },
   {
    "duration": 17,
    "start_time": "2023-06-28T18:08:13.296Z"
   },
   {
    "duration": 4,
    "start_time": "2023-06-28T18:08:13.315Z"
   },
   {
    "duration": 12,
    "start_time": "2023-06-28T18:08:13.321Z"
   },
   {
    "duration": 17,
    "start_time": "2023-06-28T18:08:13.335Z"
   },
   {
    "duration": 5,
    "start_time": "2023-06-28T18:08:13.356Z"
   },
   {
    "duration": 24,
    "start_time": "2023-06-28T18:08:13.362Z"
   },
   {
    "duration": 6,
    "start_time": "2023-06-28T18:08:13.388Z"
   },
   {
    "duration": 5,
    "start_time": "2023-06-28T18:08:13.395Z"
   },
   {
    "duration": 4,
    "start_time": "2023-06-28T18:08:13.402Z"
   },
   {
    "duration": 56,
    "start_time": "2023-06-28T18:08:13.407Z"
   },
   {
    "duration": 92,
    "start_time": "2023-06-28T18:09:24.664Z"
   },
   {
    "duration": 1088,
    "start_time": "2023-06-28T18:09:31.938Z"
   },
   {
    "duration": 80,
    "start_time": "2023-06-28T18:09:33.028Z"
   },
   {
    "duration": 12,
    "start_time": "2023-06-28T18:09:33.110Z"
   },
   {
    "duration": 3,
    "start_time": "2023-06-28T18:09:33.124Z"
   },
   {
    "duration": 12,
    "start_time": "2023-06-28T18:09:33.129Z"
   },
   {
    "duration": 14,
    "start_time": "2023-06-28T18:09:33.143Z"
   },
   {
    "duration": 7,
    "start_time": "2023-06-28T18:09:33.158Z"
   },
   {
    "duration": 7,
    "start_time": "2023-06-28T18:09:33.167Z"
   },
   {
    "duration": 16,
    "start_time": "2023-06-28T18:09:33.175Z"
   },
   {
    "duration": 16,
    "start_time": "2023-06-28T18:09:33.193Z"
   },
   {
    "duration": 4,
    "start_time": "2023-06-28T18:09:33.210Z"
   },
   {
    "duration": 42,
    "start_time": "2023-06-28T18:09:33.216Z"
   },
   {
    "duration": 5,
    "start_time": "2023-06-28T18:09:33.260Z"
   },
   {
    "duration": 13,
    "start_time": "2023-06-28T18:09:33.267Z"
   },
   {
    "duration": 23,
    "start_time": "2023-06-28T18:09:33.282Z"
   },
   {
    "duration": 6,
    "start_time": "2023-06-28T18:09:33.306Z"
   },
   {
    "duration": 3,
    "start_time": "2023-06-28T18:09:33.314Z"
   },
   {
    "duration": 10,
    "start_time": "2023-06-28T18:09:33.319Z"
   },
   {
    "duration": 50,
    "start_time": "2023-06-28T18:09:33.330Z"
   },
   {
    "duration": 1092,
    "start_time": "2023-06-28T18:10:36.015Z"
   },
   {
    "duration": 164,
    "start_time": "2023-06-28T18:10:37.109Z"
   },
   {
    "duration": 12,
    "start_time": "2023-06-28T18:10:37.275Z"
   },
   {
    "duration": 6,
    "start_time": "2023-06-28T18:10:37.289Z"
   },
   {
    "duration": 22,
    "start_time": "2023-06-28T18:10:37.297Z"
   },
   {
    "duration": 19,
    "start_time": "2023-06-28T18:10:37.321Z"
   },
   {
    "duration": 15,
    "start_time": "2023-06-28T18:10:37.342Z"
   },
   {
    "duration": 9,
    "start_time": "2023-06-28T18:10:37.359Z"
   },
   {
    "duration": 18,
    "start_time": "2023-06-28T18:10:37.369Z"
   },
   {
    "duration": 16,
    "start_time": "2023-06-28T18:10:37.389Z"
   },
   {
    "duration": 5,
    "start_time": "2023-06-28T18:10:37.407Z"
   },
   {
    "duration": 14,
    "start_time": "2023-06-28T18:10:37.414Z"
   },
   {
    "duration": 5,
    "start_time": "2023-06-28T18:10:37.457Z"
   },
   {
    "duration": 5,
    "start_time": "2023-06-28T18:10:37.464Z"
   },
   {
    "duration": 21,
    "start_time": "2023-06-28T18:10:37.470Z"
   },
   {
    "duration": 5,
    "start_time": "2023-06-28T18:10:37.493Z"
   },
   {
    "duration": 4,
    "start_time": "2023-06-28T18:10:37.500Z"
   },
   {
    "duration": 7,
    "start_time": "2023-06-28T18:10:37.506Z"
   },
   {
    "duration": 57,
    "start_time": "2023-06-28T18:10:37.515Z"
   },
   {
    "duration": 1061,
    "start_time": "2023-06-28T18:12:16.962Z"
   },
   {
    "duration": 97,
    "start_time": "2023-06-28T18:12:18.024Z"
   },
   {
    "duration": 11,
    "start_time": "2023-06-28T18:12:18.123Z"
   },
   {
    "duration": 7,
    "start_time": "2023-06-28T18:12:18.136Z"
   },
   {
    "duration": 13,
    "start_time": "2023-06-28T18:12:18.144Z"
   },
   {
    "duration": 12,
    "start_time": "2023-06-28T18:12:18.158Z"
   },
   {
    "duration": 7,
    "start_time": "2023-06-28T18:12:18.172Z"
   },
   {
    "duration": 9,
    "start_time": "2023-06-28T18:12:18.180Z"
   },
   {
    "duration": 17,
    "start_time": "2023-06-28T18:12:18.191Z"
   },
   {
    "duration": 16,
    "start_time": "2023-06-28T18:12:18.211Z"
   },
   {
    "duration": 30,
    "start_time": "2023-06-28T18:12:18.229Z"
   },
   {
    "duration": 11,
    "start_time": "2023-06-28T18:12:18.261Z"
   },
   {
    "duration": 10,
    "start_time": "2023-06-28T18:12:18.273Z"
   },
   {
    "duration": 4,
    "start_time": "2023-06-28T18:12:18.284Z"
   },
   {
    "duration": 22,
    "start_time": "2023-06-28T18:12:18.290Z"
   },
   {
    "duration": 4,
    "start_time": "2023-06-28T18:12:18.314Z"
   },
   {
    "duration": 17,
    "start_time": "2023-06-28T18:12:18.320Z"
   },
   {
    "duration": 3,
    "start_time": "2023-06-28T18:12:18.357Z"
   },
   {
    "duration": 42,
    "start_time": "2023-06-28T18:12:18.361Z"
   },
   {
    "duration": 26,
    "start_time": "2023-06-28T18:12:25.167Z"
   },
   {
    "duration": 26,
    "start_time": "2023-06-28T18:12:34.828Z"
   },
   {
    "duration": 12,
    "start_time": "2023-06-28T18:13:40.052Z"
   },
   {
    "duration": 95,
    "start_time": "2023-06-28T18:13:45.102Z"
   },
   {
    "duration": 12,
    "start_time": "2023-06-28T18:13:49.476Z"
   },
   {
    "duration": 14,
    "start_time": "2023-06-28T18:13:58.548Z"
   },
   {
    "duration": 1007,
    "start_time": "2023-06-28T18:14:06.006Z"
   },
   {
    "duration": 95,
    "start_time": "2023-06-28T18:14:07.015Z"
   },
   {
    "duration": 12,
    "start_time": "2023-06-28T18:14:07.112Z"
   },
   {
    "duration": 11,
    "start_time": "2023-06-28T18:14:07.126Z"
   },
   {
    "duration": 8,
    "start_time": "2023-06-28T18:14:07.139Z"
   },
   {
    "duration": 16,
    "start_time": "2023-06-28T18:14:07.149Z"
   },
   {
    "duration": 7,
    "start_time": "2023-06-28T18:14:07.167Z"
   },
   {
    "duration": 15,
    "start_time": "2023-06-28T18:14:07.176Z"
   },
   {
    "duration": 20,
    "start_time": "2023-06-28T18:14:07.193Z"
   },
   {
    "duration": 16,
    "start_time": "2023-06-28T18:14:07.215Z"
   },
   {
    "duration": 4,
    "start_time": "2023-06-28T18:14:07.232Z"
   },
   {
    "duration": 10,
    "start_time": "2023-06-28T18:14:07.256Z"
   },
   {
    "duration": 5,
    "start_time": "2023-06-28T18:14:07.267Z"
   },
   {
    "duration": 4,
    "start_time": "2023-06-28T18:14:07.275Z"
   },
   {
    "duration": 27,
    "start_time": "2023-06-28T18:14:07.280Z"
   },
   {
    "duration": 6,
    "start_time": "2023-06-28T18:14:07.308Z"
   },
   {
    "duration": 16,
    "start_time": "2023-06-28T18:14:07.315Z"
   },
   {
    "duration": 23,
    "start_time": "2023-06-28T18:14:07.333Z"
   },
   {
    "duration": 11,
    "start_time": "2023-06-28T18:14:07.359Z"
   },
   {
    "duration": 20,
    "start_time": "2023-06-28T18:14:15.682Z"
   },
   {
    "duration": 1155,
    "start_time": "2023-06-28T18:16:24.199Z"
   },
   {
    "duration": 1167,
    "start_time": "2023-06-28T18:16:38.551Z"
   },
   {
    "duration": 93,
    "start_time": "2023-06-28T18:16:39.720Z"
   },
   {
    "duration": 13,
    "start_time": "2023-06-28T18:16:39.814Z"
   },
   {
    "duration": 6,
    "start_time": "2023-06-28T18:16:39.828Z"
   },
   {
    "duration": 12,
    "start_time": "2023-06-28T18:16:39.837Z"
   },
   {
    "duration": 9,
    "start_time": "2023-06-28T18:16:39.851Z"
   },
   {
    "duration": 7,
    "start_time": "2023-06-28T18:16:39.862Z"
   },
   {
    "duration": 21,
    "start_time": "2023-06-28T18:16:39.871Z"
   },
   {
    "duration": 20,
    "start_time": "2023-06-28T18:16:39.893Z"
   },
   {
    "duration": 16,
    "start_time": "2023-06-28T18:16:39.915Z"
   },
   {
    "duration": 4,
    "start_time": "2023-06-28T18:16:39.932Z"
   },
   {
    "duration": 25,
    "start_time": "2023-06-28T18:16:39.937Z"
   },
   {
    "duration": 16,
    "start_time": "2023-06-28T18:16:39.964Z"
   },
   {
    "duration": 5,
    "start_time": "2023-06-28T18:16:39.982Z"
   },
   {
    "duration": 23,
    "start_time": "2023-06-28T18:16:39.989Z"
   },
   {
    "duration": 5,
    "start_time": "2023-06-28T18:16:40.013Z"
   },
   {
    "duration": 13,
    "start_time": "2023-06-28T18:16:40.019Z"
   },
   {
    "duration": 9,
    "start_time": "2023-06-28T18:16:40.033Z"
   },
   {
    "duration": 1083,
    "start_time": "2023-06-28T18:16:40.044Z"
   },
   {
    "duration": 1150,
    "start_time": "2023-06-28T18:17:06.868Z"
   },
   {
    "duration": 1152,
    "start_time": "2023-06-28T18:17:15.056Z"
   },
   {
    "duration": 111,
    "start_time": "2023-06-28T18:17:16.210Z"
   },
   {
    "duration": 12,
    "start_time": "2023-06-28T18:17:16.323Z"
   },
   {
    "duration": 4,
    "start_time": "2023-06-28T18:17:16.336Z"
   },
   {
    "duration": 24,
    "start_time": "2023-06-28T18:17:16.341Z"
   },
   {
    "duration": 15,
    "start_time": "2023-06-28T18:17:16.368Z"
   },
   {
    "duration": 7,
    "start_time": "2023-06-28T18:17:16.384Z"
   },
   {
    "duration": 9,
    "start_time": "2023-06-28T18:17:16.393Z"
   },
   {
    "duration": 14,
    "start_time": "2023-06-28T18:17:16.404Z"
   },
   {
    "duration": 36,
    "start_time": "2023-06-28T18:17:16.420Z"
   },
   {
    "duration": 4,
    "start_time": "2023-06-28T18:17:16.458Z"
   },
   {
    "duration": 11,
    "start_time": "2023-06-28T18:17:16.464Z"
   },
   {
    "duration": 4,
    "start_time": "2023-06-28T18:17:16.476Z"
   },
   {
    "duration": 6,
    "start_time": "2023-06-28T18:17:16.482Z"
   },
   {
    "duration": 21,
    "start_time": "2023-06-28T18:17:16.489Z"
   },
   {
    "duration": 4,
    "start_time": "2023-06-28T18:17:16.512Z"
   },
   {
    "duration": 4,
    "start_time": "2023-06-28T18:17:16.518Z"
   },
   {
    "duration": 35,
    "start_time": "2023-06-28T18:17:16.523Z"
   },
   {
    "duration": 12,
    "start_time": "2023-06-28T18:17:16.562Z"
   },
   {
    "duration": 1207,
    "start_time": "2023-06-28T18:17:20.840Z"
   },
   {
    "duration": 1246,
    "start_time": "2023-06-28T18:17:29.976Z"
   },
   {
    "duration": 110,
    "start_time": "2023-06-28T18:17:31.225Z"
   },
   {
    "duration": 12,
    "start_time": "2023-06-28T18:17:31.337Z"
   },
   {
    "duration": 24,
    "start_time": "2023-06-28T18:17:31.350Z"
   },
   {
    "duration": 71,
    "start_time": "2023-06-28T18:17:31.377Z"
   },
   {
    "duration": 62,
    "start_time": "2023-06-28T18:17:31.450Z"
   },
   {
    "duration": 54,
    "start_time": "2023-06-28T18:17:31.514Z"
   },
   {
    "duration": 21,
    "start_time": "2023-06-28T18:17:31.569Z"
   },
   {
    "duration": 36,
    "start_time": "2023-06-28T18:17:31.591Z"
   },
   {
    "duration": 38,
    "start_time": "2023-06-28T18:17:31.629Z"
   },
   {
    "duration": 53,
    "start_time": "2023-06-28T18:17:31.668Z"
   },
   {
    "duration": 50,
    "start_time": "2023-06-28T18:17:31.723Z"
   },
   {
    "duration": 26,
    "start_time": "2023-06-28T18:17:31.774Z"
   },
   {
    "duration": 21,
    "start_time": "2023-06-28T18:17:31.803Z"
   },
   {
    "duration": 51,
    "start_time": "2023-06-28T18:17:31.826Z"
   },
   {
    "duration": 23,
    "start_time": "2023-06-28T18:17:31.878Z"
   },
   {
    "duration": 59,
    "start_time": "2023-06-28T18:17:31.902Z"
   },
   {
    "duration": 64,
    "start_time": "2023-06-28T18:17:31.963Z"
   },
   {
    "duration": 71,
    "start_time": "2023-06-28T18:17:32.029Z"
   },
   {
    "duration": 1094,
    "start_time": "2023-06-28T18:17:55.318Z"
   },
   {
    "duration": 114,
    "start_time": "2023-06-28T18:17:56.414Z"
   },
   {
    "duration": 11,
    "start_time": "2023-06-28T18:17:56.530Z"
   },
   {
    "duration": 3,
    "start_time": "2023-06-28T18:17:56.542Z"
   },
   {
    "duration": 18,
    "start_time": "2023-06-28T18:17:56.548Z"
   },
   {
    "duration": 13,
    "start_time": "2023-06-28T18:17:56.568Z"
   },
   {
    "duration": 14,
    "start_time": "2023-06-28T18:17:56.583Z"
   },
   {
    "duration": 9,
    "start_time": "2023-06-28T18:17:56.598Z"
   },
   {
    "duration": 16,
    "start_time": "2023-06-28T18:17:56.608Z"
   },
   {
    "duration": 15,
    "start_time": "2023-06-28T18:17:56.625Z"
   },
   {
    "duration": 15,
    "start_time": "2023-06-28T18:17:56.641Z"
   },
   {
    "duration": 13,
    "start_time": "2023-06-28T18:17:56.658Z"
   },
   {
    "duration": 14,
    "start_time": "2023-06-28T18:17:56.673Z"
   },
   {
    "duration": 15,
    "start_time": "2023-06-28T18:17:56.689Z"
   },
   {
    "duration": 45,
    "start_time": "2023-06-28T18:17:56.706Z"
   },
   {
    "duration": 7,
    "start_time": "2023-06-28T18:17:56.753Z"
   },
   {
    "duration": 4,
    "start_time": "2023-06-28T18:17:56.762Z"
   },
   {
    "duration": 16,
    "start_time": "2023-06-28T18:17:56.768Z"
   },
   {
    "duration": 35,
    "start_time": "2023-06-28T18:17:56.785Z"
   },
   {
    "duration": 39,
    "start_time": "2023-06-28T18:18:31.136Z"
   },
   {
    "duration": 1080,
    "start_time": "2023-06-28T18:19:04.035Z"
   },
   {
    "duration": 107,
    "start_time": "2023-06-28T18:19:05.117Z"
   },
   {
    "duration": 12,
    "start_time": "2023-06-28T18:19:05.225Z"
   },
   {
    "duration": 16,
    "start_time": "2023-06-28T18:19:05.239Z"
   },
   {
    "duration": 17,
    "start_time": "2023-06-28T18:19:05.257Z"
   },
   {
    "duration": 15,
    "start_time": "2023-06-28T18:19:05.275Z"
   },
   {
    "duration": 18,
    "start_time": "2023-06-28T18:19:05.292Z"
   },
   {
    "duration": 18,
    "start_time": "2023-06-28T18:19:05.312Z"
   },
   {
    "duration": 31,
    "start_time": "2023-06-28T18:19:05.332Z"
   },
   {
    "duration": 22,
    "start_time": "2023-06-28T18:19:05.364Z"
   },
   {
    "duration": 4,
    "start_time": "2023-06-28T18:19:05.388Z"
   },
   {
    "duration": 20,
    "start_time": "2023-06-28T18:19:05.393Z"
   },
   {
    "duration": 9,
    "start_time": "2023-06-28T18:19:05.415Z"
   },
   {
    "duration": 29,
    "start_time": "2023-06-28T18:19:05.426Z"
   },
   {
    "duration": 25,
    "start_time": "2023-06-28T18:19:05.457Z"
   },
   {
    "duration": 10,
    "start_time": "2023-06-28T18:19:05.484Z"
   },
   {
    "duration": 20,
    "start_time": "2023-06-28T18:19:05.496Z"
   },
   {
    "duration": 8,
    "start_time": "2023-06-28T18:19:05.518Z"
   },
   {
    "duration": 34,
    "start_time": "2023-06-28T18:19:05.528Z"
   },
   {
    "duration": 38,
    "start_time": "2023-06-28T18:19:28.505Z"
   },
   {
    "duration": 1066,
    "start_time": "2023-06-28T18:19:42.382Z"
   },
   {
    "duration": 140,
    "start_time": "2023-06-28T18:19:43.450Z"
   },
   {
    "duration": 14,
    "start_time": "2023-06-28T18:19:43.591Z"
   },
   {
    "duration": 4,
    "start_time": "2023-06-28T18:19:43.607Z"
   },
   {
    "duration": 7,
    "start_time": "2023-06-28T18:19:43.613Z"
   },
   {
    "duration": 36,
    "start_time": "2023-06-28T18:19:43.622Z"
   },
   {
    "duration": 12,
    "start_time": "2023-06-28T18:19:43.660Z"
   },
   {
    "duration": 9,
    "start_time": "2023-06-28T18:19:43.674Z"
   },
   {
    "duration": 15,
    "start_time": "2023-06-28T18:19:43.685Z"
   },
   {
    "duration": 16,
    "start_time": "2023-06-28T18:19:43.702Z"
   },
   {
    "duration": 4,
    "start_time": "2023-06-28T18:19:43.720Z"
   },
   {
    "duration": 43,
    "start_time": "2023-06-28T18:19:43.725Z"
   },
   {
    "duration": 6,
    "start_time": "2023-06-28T18:19:43.770Z"
   },
   {
    "duration": 4,
    "start_time": "2023-06-28T18:19:43.779Z"
   },
   {
    "duration": 22,
    "start_time": "2023-06-28T18:19:43.785Z"
   },
   {
    "duration": 5,
    "start_time": "2023-06-28T18:19:43.809Z"
   },
   {
    "duration": 42,
    "start_time": "2023-06-28T18:19:43.816Z"
   },
   {
    "duration": 11,
    "start_time": "2023-06-28T18:19:43.861Z"
   },
   {
    "duration": 28,
    "start_time": "2023-06-28T18:19:43.874Z"
   },
   {
    "duration": 22,
    "start_time": "2023-06-28T18:26:29.447Z"
   },
   {
    "duration": 1050,
    "start_time": "2023-06-28T18:26:56.213Z"
   },
   {
    "duration": 116,
    "start_time": "2023-06-28T18:26:57.265Z"
   },
   {
    "duration": 11,
    "start_time": "2023-06-28T18:26:57.383Z"
   },
   {
    "duration": 3,
    "start_time": "2023-06-28T18:26:57.396Z"
   },
   {
    "duration": 10,
    "start_time": "2023-06-28T18:26:57.401Z"
   },
   {
    "duration": 16,
    "start_time": "2023-06-28T18:26:57.413Z"
   },
   {
    "duration": 25,
    "start_time": "2023-06-28T18:26:57.432Z"
   },
   {
    "duration": 9,
    "start_time": "2023-06-28T18:26:57.459Z"
   },
   {
    "duration": 19,
    "start_time": "2023-06-28T18:26:57.470Z"
   },
   {
    "duration": 17,
    "start_time": "2023-06-28T18:26:57.490Z"
   },
   {
    "duration": 10,
    "start_time": "2023-06-28T18:26:57.509Z"
   },
   {
    "duration": 41,
    "start_time": "2023-06-28T18:26:57.521Z"
   },
   {
    "duration": 5,
    "start_time": "2023-06-28T18:26:57.564Z"
   },
   {
    "duration": 4,
    "start_time": "2023-06-28T18:26:57.572Z"
   },
   {
    "duration": 25,
    "start_time": "2023-06-28T18:26:57.578Z"
   },
   {
    "duration": 5,
    "start_time": "2023-06-28T18:26:57.605Z"
   },
   {
    "duration": 14,
    "start_time": "2023-06-28T18:26:57.611Z"
   },
   {
    "duration": 4,
    "start_time": "2023-06-28T18:26:57.657Z"
   },
   {
    "duration": 3,
    "start_time": "2023-06-28T18:26:57.663Z"
   },
   {
    "duration": 29,
    "start_time": "2023-06-28T18:26:57.668Z"
   },
   {
    "duration": 2532,
    "start_time": "2023-06-29T13:54:56.919Z"
   },
   {
    "duration": 135,
    "start_time": "2023-06-29T13:54:59.454Z"
   },
   {
    "duration": 14,
    "start_time": "2023-06-29T13:54:59.591Z"
   },
   {
    "duration": 4,
    "start_time": "2023-06-29T13:54:59.606Z"
   },
   {
    "duration": 27,
    "start_time": "2023-06-29T13:54:59.612Z"
   },
   {
    "duration": 21,
    "start_time": "2023-06-29T13:54:59.641Z"
   },
   {
    "duration": 9,
    "start_time": "2023-06-29T13:54:59.664Z"
   },
   {
    "duration": 26,
    "start_time": "2023-06-29T13:54:59.675Z"
   },
   {
    "duration": 23,
    "start_time": "2023-06-29T13:54:59.703Z"
   },
   {
    "duration": 15,
    "start_time": "2023-06-29T13:54:59.728Z"
   },
   {
    "duration": 12,
    "start_time": "2023-06-29T13:54:59.744Z"
   },
   {
    "duration": 20,
    "start_time": "2023-06-29T13:54:59.758Z"
   },
   {
    "duration": 14,
    "start_time": "2023-06-29T13:54:59.781Z"
   },
   {
    "duration": 13,
    "start_time": "2023-06-29T13:54:59.797Z"
   },
   {
    "duration": 24,
    "start_time": "2023-06-29T13:54:59.811Z"
   },
   {
    "duration": 17,
    "start_time": "2023-06-29T13:54:59.837Z"
   },
   {
    "duration": 9,
    "start_time": "2023-06-29T13:54:59.857Z"
   },
   {
    "duration": 10,
    "start_time": "2023-06-29T13:54:59.869Z"
   },
   {
    "duration": 41,
    "start_time": "2023-06-29T13:54:59.880Z"
   },
   {
    "duration": 127,
    "start_time": "2023-06-29T15:23:53.078Z"
   },
   {
    "duration": 80,
    "start_time": "2023-06-29T15:24:10.086Z"
   },
   {
    "duration": 91,
    "start_time": "2023-06-29T15:24:19.694Z"
   },
   {
    "duration": 538,
    "start_time": "2023-06-29T15:24:30.274Z"
   },
   {
    "duration": 535,
    "start_time": "2023-06-29T15:25:54.736Z"
   },
   {
    "duration": 2088,
    "start_time": "2023-06-29T15:26:10.632Z"
   },
   {
    "duration": 992,
    "start_time": "2023-06-29T15:26:20.097Z"
   },
   {
    "duration": 1081,
    "start_time": "2023-06-29T15:27:28.605Z"
   },
   {
    "duration": 5,
    "start_time": "2023-06-29T15:34:22.306Z"
   },
   {
    "duration": 164,
    "start_time": "2023-06-29T15:34:31.167Z"
   },
   {
    "duration": 204,
    "start_time": "2023-06-29T15:34:58.365Z"
   },
   {
    "duration": 154,
    "start_time": "2023-06-29T15:36:46.514Z"
   },
   {
    "duration": 5,
    "start_time": "2023-06-29T15:38:12.375Z"
   },
   {
    "duration": 203,
    "start_time": "2023-06-29T15:38:13.687Z"
   },
   {
    "duration": 137,
    "start_time": "2023-06-29T15:38:18.941Z"
   },
   {
    "duration": 245,
    "start_time": "2023-06-29T15:38:49.326Z"
   },
   {
    "duration": 144,
    "start_time": "2023-06-29T15:39:12.644Z"
   },
   {
    "duration": 2670,
    "start_time": "2023-06-29T15:40:48.506Z"
   },
   {
    "duration": 367,
    "start_time": "2023-06-29T15:40:57.417Z"
   },
   {
    "duration": 2510,
    "start_time": "2023-06-29T15:40:59.702Z"
   },
   {
    "duration": 5,
    "start_time": "2023-06-29T15:43:11.916Z"
   },
   {
    "duration": 351,
    "start_time": "2023-06-29T15:43:14.082Z"
   },
   {
    "duration": 5,
    "start_time": "2023-06-29T15:43:21.952Z"
   },
   {
    "duration": 198,
    "start_time": "2023-06-29T15:43:23.705Z"
   },
   {
    "duration": 5,
    "start_time": "2023-06-29T15:43:30.291Z"
   },
   {
    "duration": 4,
    "start_time": "2023-06-29T15:43:32.694Z"
   },
   {
    "duration": 259,
    "start_time": "2023-06-29T15:43:34.587Z"
   },
   {
    "duration": 8,
    "start_time": "2023-06-29T15:45:02.397Z"
   },
   {
    "duration": 219,
    "start_time": "2023-06-29T15:45:04.097Z"
   },
   {
    "duration": 142,
    "start_time": "2023-06-29T15:45:05.844Z"
   },
   {
    "duration": 281,
    "start_time": "2023-06-29T15:45:07.637Z"
   },
   {
    "duration": 127,
    "start_time": "2023-06-29T15:45:11.597Z"
   },
   {
    "duration": 336,
    "start_time": "2023-06-29T15:45:16.355Z"
   },
   {
    "duration": 188,
    "start_time": "2023-06-29T15:45:38.146Z"
   },
   {
    "duration": 270,
    "start_time": "2023-06-29T15:45:41.091Z"
   },
   {
    "duration": 5,
    "start_time": "2023-06-29T15:45:48.335Z"
   },
   {
    "duration": 197,
    "start_time": "2023-06-29T15:45:49.971Z"
   },
   {
    "duration": 152,
    "start_time": "2023-06-29T15:45:51.733Z"
   },
   {
    "duration": 162,
    "start_time": "2023-06-29T15:45:53.627Z"
   },
   {
    "duration": 138,
    "start_time": "2023-06-29T15:45:55.981Z"
   },
   {
    "duration": 149,
    "start_time": "2023-06-29T15:45:58.693Z"
   },
   {
    "duration": 5,
    "start_time": "2023-06-29T15:46:14.814Z"
   },
   {
    "duration": 459,
    "start_time": "2023-06-29T15:46:18.301Z"
   },
   {
    "duration": 396,
    "start_time": "2023-06-29T15:46:23.856Z"
   },
   {
    "duration": 6,
    "start_time": "2023-06-29T15:47:16.302Z"
   },
   {
    "duration": 274,
    "start_time": "2023-06-29T15:47:19.382Z"
   },
   {
    "duration": 269,
    "start_time": "2023-06-29T15:47:25.537Z"
   },
   {
    "duration": 6,
    "start_time": "2023-06-29T15:51:43.068Z"
   },
   {
    "duration": 266,
    "start_time": "2023-06-29T15:51:45.951Z"
   },
   {
    "duration": 364,
    "start_time": "2023-06-29T15:51:52.852Z"
   },
   {
    "duration": 5,
    "start_time": "2023-06-29T15:52:00.692Z"
   },
   {
    "duration": 6,
    "start_time": "2023-06-29T15:52:04.593Z"
   },
   {
    "duration": 272,
    "start_time": "2023-06-29T15:52:06.923Z"
   },
   {
    "duration": 7,
    "start_time": "2023-06-29T15:52:16.991Z"
   },
   {
    "duration": 192,
    "start_time": "2023-06-29T15:52:19.337Z"
   },
   {
    "duration": 200,
    "start_time": "2023-06-29T15:52:24.821Z"
   },
   {
    "duration": 6,
    "start_time": "2023-06-29T15:52:32.442Z"
   },
   {
    "duration": 196,
    "start_time": "2023-06-29T15:52:35.361Z"
   },
   {
    "duration": 202,
    "start_time": "2023-06-29T15:52:41.546Z"
   },
   {
    "duration": 5,
    "start_time": "2023-06-29T15:52:49.917Z"
   },
   {
    "duration": 229,
    "start_time": "2023-06-29T15:52:52.521Z"
   },
   {
    "duration": 5,
    "start_time": "2023-06-29T15:53:10.287Z"
   },
   {
    "duration": 5,
    "start_time": "2023-06-29T15:53:17.271Z"
   },
   {
    "duration": 272,
    "start_time": "2023-06-29T15:53:20.626Z"
   },
   {
    "duration": 5,
    "start_time": "2023-06-29T15:53:29.134Z"
   },
   {
    "duration": 427,
    "start_time": "2023-06-29T15:53:30.921Z"
   },
   {
    "duration": 294,
    "start_time": "2023-06-29T15:53:46.346Z"
   },
   {
    "duration": 6,
    "start_time": "2023-06-29T15:54:12.009Z"
   },
   {
    "duration": 330,
    "start_time": "2023-06-29T15:54:14.256Z"
   },
   {
    "duration": 307,
    "start_time": "2023-06-29T15:54:22.641Z"
   },
   {
    "duration": 5,
    "start_time": "2023-06-29T15:55:03.993Z"
   },
   {
    "duration": 408,
    "start_time": "2023-06-29T15:55:07.900Z"
   },
   {
    "duration": 342,
    "start_time": "2023-06-29T15:55:13.461Z"
   },
   {
    "duration": 5,
    "start_time": "2023-06-29T15:57:24.476Z"
   },
   {
    "duration": 441,
    "start_time": "2023-06-29T15:57:27.145Z"
   },
   {
    "duration": 376,
    "start_time": "2023-06-29T15:57:31.696Z"
   },
   {
    "duration": 5,
    "start_time": "2023-06-29T15:57:39.927Z"
   },
   {
    "duration": 633,
    "start_time": "2023-06-29T15:57:42.029Z"
   },
   {
    "duration": 481,
    "start_time": "2023-06-29T15:57:47.481Z"
   },
   {
    "duration": 5,
    "start_time": "2023-06-29T15:58:06.526Z"
   },
   {
    "duration": 495,
    "start_time": "2023-06-29T15:58:08.651Z"
   },
   {
    "duration": 645,
    "start_time": "2023-06-29T15:58:20.926Z"
   },
   {
    "duration": 5,
    "start_time": "2023-06-29T15:58:43.921Z"
   },
   {
    "duration": 504,
    "start_time": "2023-06-29T15:58:46.376Z"
   },
   {
    "duration": 5,
    "start_time": "2023-06-29T15:59:30.710Z"
   },
   {
    "duration": 579,
    "start_time": "2023-06-29T15:59:32.966Z"
   },
   {
    "duration": 529,
    "start_time": "2023-06-29T15:59:36.105Z"
   },
   {
    "duration": 488,
    "start_time": "2023-06-29T16:00:29.816Z"
   },
   {
    "duration": 567,
    "start_time": "2023-06-29T16:00:33.001Z"
   },
   {
    "duration": 487,
    "start_time": "2023-06-29T16:00:40.021Z"
   },
   {
    "duration": 5,
    "start_time": "2023-06-29T16:05:11.257Z"
   },
   {
    "duration": 5,
    "start_time": "2023-06-29T16:05:26.598Z"
   },
   {
    "duration": 189,
    "start_time": "2023-06-29T16:05:28.173Z"
   },
   {
    "duration": 5,
    "start_time": "2023-06-29T16:05:41.812Z"
   },
   {
    "duration": 207,
    "start_time": "2023-06-29T16:05:42.754Z"
   },
   {
    "duration": 8,
    "start_time": "2023-06-29T16:06:23.531Z"
   },
   {
    "duration": 5,
    "start_time": "2023-06-29T16:06:27.426Z"
   },
   {
    "duration": 188,
    "start_time": "2023-06-29T16:06:29.081Z"
   },
   {
    "duration": 143,
    "start_time": "2023-06-29T16:06:31.234Z"
   },
   {
    "duration": 597,
    "start_time": "2023-06-29T16:06:33.296Z"
   },
   {
    "duration": 139,
    "start_time": "2023-06-29T16:06:35.939Z"
   },
   {
    "duration": 494,
    "start_time": "2023-06-29T16:06:37.575Z"
   },
   {
    "duration": 5,
    "start_time": "2023-06-29T16:07:26.917Z"
   },
   {
    "duration": 183,
    "start_time": "2023-06-29T16:07:29.036Z"
   },
   {
    "duration": 4,
    "start_time": "2023-06-29T16:07:33.962Z"
   },
   {
    "duration": 193,
    "start_time": "2023-06-29T16:07:35.741Z"
   },
   {
    "duration": 6,
    "start_time": "2023-06-29T16:07:53.101Z"
   },
   {
    "duration": 5,
    "start_time": "2023-06-29T16:07:54.971Z"
   },
   {
    "duration": 313,
    "start_time": "2023-06-29T16:07:56.151Z"
   },
   {
    "duration": 4,
    "start_time": "2023-06-29T16:08:07.935Z"
   },
   {
    "duration": 194,
    "start_time": "2023-06-29T16:08:09.621Z"
   },
   {
    "duration": 142,
    "start_time": "2023-06-29T16:08:11.101Z"
   },
   {
    "duration": 505,
    "start_time": "2023-06-29T16:08:13.175Z"
   },
   {
    "duration": 518,
    "start_time": "2023-06-29T16:08:23.937Z"
   },
   {
    "duration": 76,
    "start_time": "2023-06-30T10:40:37.691Z"
   },
   {
    "duration": 5,
    "start_time": "2023-06-30T10:40:58.592Z"
   },
   {
    "duration": 68,
    "start_time": "2023-06-30T10:41:03.395Z"
   },
   {
    "duration": 7,
    "start_time": "2023-06-30T10:41:31.640Z"
   },
   {
    "duration": 6,
    "start_time": "2023-06-30T10:41:36.755Z"
   },
   {
    "duration": 88,
    "start_time": "2023-06-30T10:47:42.608Z"
   },
   {
    "duration": 153,
    "start_time": "2023-06-30T10:48:03.406Z"
   },
   {
    "duration": 24,
    "start_time": "2023-06-30T10:48:18.811Z"
   },
   {
    "duration": 6,
    "start_time": "2023-06-30T10:48:37.974Z"
   },
   {
    "duration": 1318,
    "start_time": "2023-06-30T10:48:58.210Z"
   },
   {
    "duration": 169,
    "start_time": "2023-06-30T10:48:59.531Z"
   },
   {
    "duration": 24,
    "start_time": "2023-06-30T10:48:59.702Z"
   },
   {
    "duration": 12,
    "start_time": "2023-06-30T10:48:59.739Z"
   },
   {
    "duration": 47,
    "start_time": "2023-06-30T10:48:59.753Z"
   },
   {
    "duration": 43,
    "start_time": "2023-06-30T10:48:59.802Z"
   },
   {
    "duration": 19,
    "start_time": "2023-06-30T10:48:59.848Z"
   },
   {
    "duration": 18,
    "start_time": "2023-06-30T10:48:59.869Z"
   },
   {
    "duration": 58,
    "start_time": "2023-06-30T10:48:59.890Z"
   },
   {
    "duration": 21,
    "start_time": "2023-06-30T10:48:59.954Z"
   },
   {
    "duration": 5,
    "start_time": "2023-06-30T10:48:59.978Z"
   },
   {
    "duration": 20,
    "start_time": "2023-06-30T10:48:59.985Z"
   },
   {
    "duration": 27,
    "start_time": "2023-06-30T10:49:00.019Z"
   },
   {
    "duration": 30,
    "start_time": "2023-06-30T10:49:00.048Z"
   },
   {
    "duration": 73,
    "start_time": "2023-06-30T10:49:00.081Z"
   },
   {
    "duration": 15,
    "start_time": "2023-06-30T10:49:00.156Z"
   },
   {
    "duration": 18,
    "start_time": "2023-06-30T10:49:00.173Z"
   },
   {
    "duration": 49,
    "start_time": "2023-06-30T10:49:00.193Z"
   },
   {
    "duration": 52,
    "start_time": "2023-06-30T10:49:00.244Z"
   },
   {
    "duration": 9,
    "start_time": "2023-06-30T10:49:01.167Z"
   },
   {
    "duration": 129,
    "start_time": "2023-06-30T10:49:01.225Z"
   },
   {
    "duration": 0,
    "start_time": "2023-06-30T10:49:01.356Z"
   },
   {
    "duration": 0,
    "start_time": "2023-06-30T10:49:01.357Z"
   },
   {
    "duration": 0,
    "start_time": "2023-06-30T10:49:01.358Z"
   },
   {
    "duration": 0,
    "start_time": "2023-06-30T10:49:01.359Z"
   },
   {
    "duration": 0,
    "start_time": "2023-06-30T10:49:01.360Z"
   },
   {
    "duration": 0,
    "start_time": "2023-06-30T10:49:01.361Z"
   },
   {
    "duration": 4,
    "start_time": "2023-06-30T10:49:06.904Z"
   },
   {
    "duration": 285,
    "start_time": "2023-06-30T10:49:09.621Z"
   },
   {
    "duration": 6,
    "start_time": "2023-06-30T10:51:05.039Z"
   },
   {
    "duration": 16,
    "start_time": "2023-06-30T10:51:32.595Z"
   },
   {
    "duration": 61,
    "start_time": "2023-06-30T10:51:43.250Z"
   },
   {
    "duration": 4,
    "start_time": "2023-06-30T10:51:46.189Z"
   },
   {
    "duration": 20,
    "start_time": "2023-06-30T10:51:47.859Z"
   },
   {
    "duration": 4,
    "start_time": "2023-06-30T10:51:55.880Z"
   },
   {
    "duration": 756,
    "start_time": "2023-06-30T10:51:57.289Z"
   },
   {
    "duration": 4,
    "start_time": "2023-06-30T10:53:30.503Z"
   },
   {
    "duration": 17,
    "start_time": "2023-06-30T10:53:52.828Z"
   },
   {
    "duration": 231,
    "start_time": "2023-06-30T10:53:56.641Z"
   },
   {
    "duration": 5,
    "start_time": "2023-06-30T10:54:35.841Z"
   },
   {
    "duration": 630,
    "start_time": "2023-06-30T10:54:37.670Z"
   },
   {
    "duration": 83,
    "start_time": "2023-06-30T10:56:38.655Z"
   },
   {
    "duration": 11,
    "start_time": "2023-06-30T10:56:42.012Z"
   },
   {
    "duration": 598,
    "start_time": "2023-06-30T10:56:43.491Z"
   },
   {
    "duration": 19,
    "start_time": "2023-06-30T10:57:11.422Z"
   },
   {
    "duration": 634,
    "start_time": "2023-06-30T10:57:12.807Z"
   },
   {
    "duration": 80,
    "start_time": "2023-06-30T11:00:01.232Z"
   },
   {
    "duration": 1144,
    "start_time": "2023-06-30T11:00:05.939Z"
   },
   {
    "duration": 7,
    "start_time": "2023-06-30T11:00:11.336Z"
   },
   {
    "duration": 994,
    "start_time": "2023-06-30T11:00:21.811Z"
   },
   {
    "duration": 4,
    "start_time": "2023-06-30T11:02:17.792Z"
   },
   {
    "duration": 378,
    "start_time": "2023-06-30T11:02:19.600Z"
   },
   {
    "duration": 4,
    "start_time": "2023-06-30T11:06:27.845Z"
   },
   {
    "duration": 1210,
    "start_time": "2023-06-30T11:06:29.138Z"
   },
   {
    "duration": 4,
    "start_time": "2023-06-30T11:06:55.666Z"
   },
   {
    "duration": 249,
    "start_time": "2023-06-30T11:06:57.132Z"
   },
   {
    "duration": 9,
    "start_time": "2023-06-30T11:07:23.430Z"
   },
   {
    "duration": 15,
    "start_time": "2023-06-30T11:07:25.067Z"
   },
   {
    "duration": 263,
    "start_time": "2023-06-30T11:07:30.089Z"
   },
   {
    "duration": 8,
    "start_time": "2023-06-30T11:10:19.737Z"
   },
   {
    "duration": 16,
    "start_time": "2023-06-30T11:10:20.556Z"
   },
   {
    "duration": 14,
    "start_time": "2023-06-30T11:10:29.223Z"
   },
   {
    "duration": 1053,
    "start_time": "2023-06-30T11:10:30.201Z"
   },
   {
    "duration": 6,
    "start_time": "2023-06-30T11:10:36.000Z"
   },
   {
    "duration": 221,
    "start_time": "2023-06-30T11:10:37.330Z"
   },
   {
    "duration": 6,
    "start_time": "2023-06-30T11:13:32.912Z"
   },
   {
    "duration": 364,
    "start_time": "2023-06-30T11:13:34.365Z"
   },
   {
    "duration": 4,
    "start_time": "2023-06-30T11:13:59.458Z"
   },
   {
    "duration": 1012,
    "start_time": "2023-06-30T11:14:00.970Z"
   },
   {
    "duration": 4,
    "start_time": "2023-06-30T11:14:08.331Z"
   },
   {
    "duration": 1032,
    "start_time": "2023-06-30T11:14:09.760Z"
   },
   {
    "duration": 6,
    "start_time": "2023-06-30T11:14:15.403Z"
   },
   {
    "duration": 1009,
    "start_time": "2023-06-30T11:14:16.445Z"
   },
   {
    "duration": 5,
    "start_time": "2023-06-30T11:14:27.551Z"
   },
   {
    "duration": 1117,
    "start_time": "2023-06-30T11:14:27.672Z"
   },
   {
    "duration": 8,
    "start_time": "2023-06-30T11:14:35.612Z"
   },
   {
    "duration": 1252,
    "start_time": "2023-06-30T11:14:37.256Z"
   },
   {
    "duration": 6,
    "start_time": "2023-06-30T11:15:03.390Z"
   },
   {
    "duration": 1057,
    "start_time": "2023-06-30T11:15:04.729Z"
   },
   {
    "duration": 5,
    "start_time": "2023-06-30T11:15:14.349Z"
   },
   {
    "duration": 993,
    "start_time": "2023-06-30T11:15:16.610Z"
   },
   {
    "duration": 5,
    "start_time": "2023-06-30T11:15:24.731Z"
   },
   {
    "duration": 997,
    "start_time": "2023-06-30T11:15:25.891Z"
   },
   {
    "duration": 210,
    "start_time": "2023-06-30T11:17:15.968Z"
   },
   {
    "duration": 153,
    "start_time": "2023-06-30T11:17:47.067Z"
   },
   {
    "duration": 688,
    "start_time": "2023-06-30T11:18:25.331Z"
   },
   {
    "duration": 196,
    "start_time": "2023-06-30T11:19:11.407Z"
   },
   {
    "duration": 196,
    "start_time": "2023-06-30T11:19:26.061Z"
   },
   {
    "duration": 1412,
    "start_time": "2023-06-30T11:21:00.561Z"
   },
   {
    "duration": 124,
    "start_time": "2023-06-30T11:21:01.982Z"
   },
   {
    "duration": 29,
    "start_time": "2023-06-30T11:21:02.107Z"
   },
   {
    "duration": 18,
    "start_time": "2023-06-30T11:21:02.146Z"
   },
   {
    "duration": 31,
    "start_time": "2023-06-30T11:21:02.167Z"
   },
   {
    "duration": 40,
    "start_time": "2023-06-30T11:21:02.199Z"
   },
   {
    "duration": 22,
    "start_time": "2023-06-30T11:21:02.246Z"
   },
   {
    "duration": 23,
    "start_time": "2023-06-30T11:21:02.270Z"
   },
   {
    "duration": 72,
    "start_time": "2023-06-30T11:21:02.295Z"
   },
   {
    "duration": 18,
    "start_time": "2023-06-30T11:21:02.368Z"
   },
   {
    "duration": 61,
    "start_time": "2023-06-30T11:21:02.388Z"
   },
   {
    "duration": 28,
    "start_time": "2023-06-30T11:21:02.451Z"
   },
   {
    "duration": 21,
    "start_time": "2023-06-30T11:21:02.481Z"
   },
   {
    "duration": 42,
    "start_time": "2023-06-30T11:21:02.504Z"
   },
   {
    "duration": 57,
    "start_time": "2023-06-30T11:21:02.548Z"
   },
   {
    "duration": 23,
    "start_time": "2023-06-30T11:21:02.606Z"
   },
   {
    "duration": 10,
    "start_time": "2023-06-30T11:21:02.633Z"
   },
   {
    "duration": 23,
    "start_time": "2023-06-30T11:21:02.645Z"
   },
   {
    "duration": 65,
    "start_time": "2023-06-30T11:21:02.670Z"
   },
   {
    "duration": 28,
    "start_time": "2023-06-30T11:21:02.737Z"
   },
   {
    "duration": 1127,
    "start_time": "2023-06-30T11:21:02.771Z"
   },
   {
    "duration": 288,
    "start_time": "2023-06-30T11:21:03.901Z"
   },
   {
    "duration": 210,
    "start_time": "2023-06-30T11:21:04.191Z"
   },
   {
    "duration": 199,
    "start_time": "2023-06-30T11:21:04.403Z"
   },
   {
    "duration": 5,
    "start_time": "2023-06-30T11:22:00.692Z"
   },
   {
    "duration": 1186,
    "start_time": "2023-06-30T11:22:02.001Z"
   },
   {
    "duration": 238,
    "start_time": "2023-06-30T11:22:05.754Z"
   },
   {
    "duration": 338,
    "start_time": "2023-06-30T11:22:08.244Z"
   },
   {
    "duration": 251,
    "start_time": "2023-06-30T11:22:10.291Z"
   },
   {
    "duration": 1563,
    "start_time": "2023-06-30T11:30:42.473Z"
   },
   {
    "duration": 210,
    "start_time": "2023-06-30T11:30:44.038Z"
   },
   {
    "duration": 25,
    "start_time": "2023-06-30T11:30:44.250Z"
   },
   {
    "duration": 62,
    "start_time": "2023-06-30T11:30:44.279Z"
   },
   {
    "duration": 53,
    "start_time": "2023-06-30T11:30:44.347Z"
   },
   {
    "duration": 83,
    "start_time": "2023-06-30T11:30:44.403Z"
   },
   {
    "duration": 67,
    "start_time": "2023-06-30T11:30:44.488Z"
   },
   {
    "duration": 35,
    "start_time": "2023-06-30T11:30:44.558Z"
   },
   {
    "duration": 88,
    "start_time": "2023-06-30T11:30:44.596Z"
   },
   {
    "duration": 97,
    "start_time": "2023-06-30T11:30:44.686Z"
   },
   {
    "duration": 6,
    "start_time": "2023-06-30T11:30:44.788Z"
   },
   {
    "duration": 22,
    "start_time": "2023-06-30T11:30:44.796Z"
   },
   {
    "duration": 49,
    "start_time": "2023-06-30T11:30:44.820Z"
   },
   {
    "duration": 35,
    "start_time": "2023-06-30T11:30:44.873Z"
   },
   {
    "duration": 55,
    "start_time": "2023-06-30T11:30:44.911Z"
   },
   {
    "duration": 15,
    "start_time": "2023-06-30T11:30:44.969Z"
   },
   {
    "duration": 60,
    "start_time": "2023-06-30T11:30:44.990Z"
   },
   {
    "duration": 66,
    "start_time": "2023-06-30T11:30:45.053Z"
   },
   {
    "duration": 116,
    "start_time": "2023-06-30T11:30:45.122Z"
   },
   {
    "duration": 8,
    "start_time": "2023-06-30T11:30:45.245Z"
   },
   {
    "duration": 1669,
    "start_time": "2023-06-30T11:30:45.260Z"
   },
   {
    "duration": 316,
    "start_time": "2023-06-30T11:30:46.935Z"
   },
   {
    "duration": 262,
    "start_time": "2023-06-30T11:30:47.258Z"
   },
   {
    "duration": 263,
    "start_time": "2023-06-30T11:30:47.526Z"
   },
   {
    "duration": 238,
    "start_time": "2023-06-30T11:30:47.792Z"
   },
   {
    "duration": 22,
    "start_time": "2023-06-30T11:32:58.443Z"
   },
   {
    "duration": 328,
    "start_time": "2023-06-30T11:46:56.961Z"
   },
   {
    "duration": 38,
    "start_time": "2023-06-30T11:50:21.435Z"
   },
   {
    "duration": 4,
    "start_time": "2023-06-30T11:51:33.466Z"
   },
   {
    "duration": 5,
    "start_time": "2023-06-30T11:53:06.295Z"
   },
   {
    "duration": 408,
    "start_time": "2023-06-30T11:53:09.185Z"
   },
   {
    "duration": 458,
    "start_time": "2023-06-30T11:53:20.538Z"
   },
   {
    "duration": 90,
    "start_time": "2023-06-30T11:59:33.146Z"
   },
   {
    "duration": 12,
    "start_time": "2023-06-30T11:59:58.550Z"
   },
   {
    "duration": 985,
    "start_time": "2023-06-30T12:01:33.794Z"
   },
   {
    "duration": 5,
    "start_time": "2023-06-30T12:01:38.506Z"
   },
   {
    "duration": 11,
    "start_time": "2023-06-30T12:01:39.860Z"
   },
   {
    "duration": 1271,
    "start_time": "2023-06-30T12:01:41.538Z"
   },
   {
    "duration": 208,
    "start_time": "2023-06-30T12:01:51.246Z"
   },
   {
    "duration": 1338,
    "start_time": "2023-06-30T12:02:27.561Z"
   },
   {
    "duration": 169,
    "start_time": "2023-06-30T12:02:28.901Z"
   },
   {
    "duration": 17,
    "start_time": "2023-06-30T12:02:29.072Z"
   },
   {
    "duration": 3,
    "start_time": "2023-06-30T12:02:29.091Z"
   },
   {
    "duration": 20,
    "start_time": "2023-06-30T12:02:29.096Z"
   },
   {
    "duration": 20,
    "start_time": "2023-06-30T12:02:29.118Z"
   },
   {
    "duration": 12,
    "start_time": "2023-06-30T12:02:29.140Z"
   },
   {
    "duration": 9,
    "start_time": "2023-06-30T12:02:29.153Z"
   },
   {
    "duration": 26,
    "start_time": "2023-06-30T12:02:29.166Z"
   },
   {
    "duration": 52,
    "start_time": "2023-06-30T12:02:29.194Z"
   },
   {
    "duration": 9,
    "start_time": "2023-06-30T12:02:29.251Z"
   },
   {
    "duration": 25,
    "start_time": "2023-06-30T12:02:29.263Z"
   },
   {
    "duration": 14,
    "start_time": "2023-06-30T12:02:29.290Z"
   },
   {
    "duration": 8,
    "start_time": "2023-06-30T12:02:29.307Z"
   },
   {
    "duration": 51,
    "start_time": "2023-06-30T12:02:29.317Z"
   },
   {
    "duration": 10,
    "start_time": "2023-06-30T12:02:29.373Z"
   },
   {
    "duration": 5,
    "start_time": "2023-06-30T12:02:29.385Z"
   },
   {
    "duration": 11,
    "start_time": "2023-06-30T12:02:29.392Z"
   },
   {
    "duration": 63,
    "start_time": "2023-06-30T12:02:29.404Z"
   },
   {
    "duration": 7,
    "start_time": "2023-06-30T12:02:29.471Z"
   },
   {
    "duration": 16,
    "start_time": "2023-06-30T12:02:29.479Z"
   },
   {
    "duration": 1166,
    "start_time": "2023-06-30T12:02:29.496Z"
   },
   {
    "duration": 1135,
    "start_time": "2023-06-30T12:02:30.665Z"
   },
   {
    "duration": 30,
    "start_time": "2023-06-30T12:02:31.802Z"
   },
   {
    "duration": 147,
    "start_time": "2023-06-30T12:02:31.839Z"
   },
   {
    "duration": 0,
    "start_time": "2023-06-30T12:02:31.988Z"
   },
   {
    "duration": 0,
    "start_time": "2023-06-30T12:02:31.989Z"
   },
   {
    "duration": 8,
    "start_time": "2023-06-30T12:03:18.241Z"
   },
   {
    "duration": 5,
    "start_time": "2023-06-30T12:03:20.104Z"
   },
   {
    "duration": 1053,
    "start_time": "2023-06-30T12:03:22.191Z"
   },
   {
    "duration": 8,
    "start_time": "2023-06-30T12:05:27.142Z"
   },
   {
    "duration": 1003,
    "start_time": "2023-06-30T12:05:30.977Z"
   },
   {
    "duration": 5,
    "start_time": "2023-06-30T12:06:58.752Z"
   },
   {
    "duration": 434,
    "start_time": "2023-06-30T12:07:00.533Z"
   },
   {
    "duration": 8,
    "start_time": "2023-06-30T12:07:17.540Z"
   },
   {
    "duration": 1209,
    "start_time": "2023-06-30T12:07:19.695Z"
   },
   {
    "duration": 7,
    "start_time": "2023-06-30T12:08:32.858Z"
   },
   {
    "duration": 59,
    "start_time": "2023-06-30T12:08:35.699Z"
   },
   {
    "duration": 5,
    "start_time": "2023-06-30T12:08:49.304Z"
   },
   {
    "duration": 30,
    "start_time": "2023-06-30T12:08:51.127Z"
   },
   {
    "duration": 9,
    "start_time": "2023-06-30T12:08:58.860Z"
   },
   {
    "duration": 1016,
    "start_time": "2023-06-30T12:09:00.690Z"
   },
   {
    "duration": 5,
    "start_time": "2023-06-30T12:11:55.795Z"
   },
   {
    "duration": 1125,
    "start_time": "2023-06-30T12:11:58.550Z"
   },
   {
    "duration": 6,
    "start_time": "2023-06-30T12:12:18.964Z"
   },
   {
    "duration": 1233,
    "start_time": "2023-06-30T12:12:20.659Z"
   },
   {
    "duration": 5,
    "start_time": "2023-06-30T13:33:19.560Z"
   },
   {
    "duration": 14,
    "start_time": "2023-06-30T13:37:33.628Z"
   },
   {
    "duration": 10,
    "start_time": "2023-06-30T13:37:38.809Z"
   },
   {
    "duration": 5,
    "start_time": "2023-06-30T13:38:00.387Z"
   },
   {
    "duration": 13,
    "start_time": "2023-06-30T13:38:03.704Z"
   },
   {
    "duration": 5,
    "start_time": "2023-06-30T13:38:11.040Z"
   },
   {
    "duration": 21,
    "start_time": "2023-06-30T13:38:32.809Z"
   },
   {
    "duration": 5,
    "start_time": "2023-06-30T13:38:48.568Z"
   },
   {
    "duration": 192,
    "start_time": "2023-06-30T13:38:50.250Z"
   },
   {
    "duration": 6,
    "start_time": "2023-06-30T13:39:38.664Z"
   },
   {
    "duration": 16,
    "start_time": "2023-06-30T13:39:40.207Z"
   },
   {
    "duration": 4,
    "start_time": "2023-06-30T13:39:50.727Z"
   },
   {
    "duration": 36,
    "start_time": "2023-06-30T13:39:51.787Z"
   },
   {
    "duration": 5,
    "start_time": "2023-06-30T13:39:57.237Z"
   },
   {
    "duration": 5,
    "start_time": "2023-06-30T13:40:47.499Z"
   },
   {
    "duration": 17,
    "start_time": "2023-06-30T13:40:49.094Z"
   },
   {
    "duration": 53,
    "start_time": "2023-06-30T13:41:29.765Z"
   },
   {
    "duration": 14,
    "start_time": "2023-06-30T13:41:37.776Z"
   },
   {
    "duration": 4,
    "start_time": "2023-06-30T13:41:54.045Z"
   },
   {
    "duration": 19,
    "start_time": "2023-06-30T13:41:55.755Z"
   },
   {
    "duration": 6,
    "start_time": "2023-06-30T13:42:02.197Z"
   },
   {
    "duration": 18,
    "start_time": "2023-06-30T13:42:03.910Z"
   },
   {
    "duration": 16,
    "start_time": "2023-06-30T13:42:57.385Z"
   },
   {
    "duration": 5,
    "start_time": "2023-06-30T13:43:36.176Z"
   },
   {
    "duration": 16,
    "start_time": "2023-06-30T13:43:37.259Z"
   },
   {
    "duration": 16,
    "start_time": "2023-06-30T13:45:08.315Z"
   },
   {
    "duration": 17,
    "start_time": "2023-06-30T13:45:36.140Z"
   },
   {
    "duration": 9,
    "start_time": "2023-06-30T13:51:39.230Z"
   },
   {
    "duration": 21,
    "start_time": "2023-06-30T13:52:07.360Z"
   },
   {
    "duration": 8,
    "start_time": "2023-06-30T13:53:29.793Z"
   },
   {
    "duration": 21,
    "start_time": "2023-06-30T13:53:32.339Z"
   },
   {
    "duration": 7,
    "start_time": "2023-06-30T13:53:45.405Z"
   },
   {
    "duration": 181,
    "start_time": "2023-06-30T13:53:46.968Z"
   },
   {
    "duration": 7,
    "start_time": "2023-06-30T13:54:00.571Z"
   },
   {
    "duration": 165,
    "start_time": "2023-06-30T13:54:02.565Z"
   },
   {
    "duration": 74,
    "start_time": "2023-06-30T13:54:28.906Z"
   },
   {
    "duration": 66,
    "start_time": "2023-06-30T13:54:41.772Z"
   },
   {
    "duration": 6,
    "start_time": "2023-06-30T13:55:10.266Z"
   },
   {
    "duration": 5,
    "start_time": "2023-06-30T13:56:36.688Z"
   },
   {
    "duration": 16,
    "start_time": "2023-06-30T13:56:38.371Z"
   },
   {
    "duration": 6,
    "start_time": "2023-06-30T13:56:46.996Z"
   },
   {
    "duration": 26,
    "start_time": "2023-06-30T13:56:48.592Z"
   },
   {
    "duration": 25,
    "start_time": "2023-06-30T13:56:55.246Z"
   },
   {
    "duration": 27,
    "start_time": "2023-06-30T13:57:24.588Z"
   },
   {
    "duration": 1157,
    "start_time": "2023-06-30T13:57:48.047Z"
   },
   {
    "duration": 85,
    "start_time": "2023-06-30T13:57:49.206Z"
   },
   {
    "duration": 13,
    "start_time": "2023-06-30T13:57:49.292Z"
   },
   {
    "duration": 4,
    "start_time": "2023-06-30T13:57:49.307Z"
   },
   {
    "duration": 17,
    "start_time": "2023-06-30T13:57:49.313Z"
   },
   {
    "duration": 12,
    "start_time": "2023-06-30T13:57:49.332Z"
   },
   {
    "duration": 8,
    "start_time": "2023-06-30T13:57:49.345Z"
   },
   {
    "duration": 9,
    "start_time": "2023-06-30T13:57:49.355Z"
   },
   {
    "duration": 31,
    "start_time": "2023-06-30T13:57:49.366Z"
   },
   {
    "duration": 18,
    "start_time": "2023-06-30T13:57:49.412Z"
   },
   {
    "duration": 4,
    "start_time": "2023-06-30T13:57:49.431Z"
   },
   {
    "duration": 36,
    "start_time": "2023-06-30T13:57:49.437Z"
   },
   {
    "duration": 30,
    "start_time": "2023-06-30T13:57:49.475Z"
   },
   {
    "duration": 44,
    "start_time": "2023-06-30T13:57:49.507Z"
   },
   {
    "duration": 65,
    "start_time": "2023-06-30T13:57:49.552Z"
   },
   {
    "duration": 8,
    "start_time": "2023-06-30T13:57:49.619Z"
   },
   {
    "duration": 7,
    "start_time": "2023-06-30T13:57:49.629Z"
   },
   {
    "duration": 11,
    "start_time": "2023-06-30T13:57:49.638Z"
   },
   {
    "duration": 47,
    "start_time": "2023-06-30T13:57:49.651Z"
   },
   {
    "duration": 14,
    "start_time": "2023-06-30T13:57:49.700Z"
   },
   {
    "duration": 11,
    "start_time": "2023-06-30T13:57:49.716Z"
   },
   {
    "duration": 887,
    "start_time": "2023-06-30T13:57:49.729Z"
   },
   {
    "duration": 908,
    "start_time": "2023-06-30T13:57:50.618Z"
   },
   {
    "duration": 111,
    "start_time": "2023-06-30T13:57:51.528Z"
   },
   {
    "duration": 0,
    "start_time": "2023-06-30T13:57:51.641Z"
   },
   {
    "duration": 0,
    "start_time": "2023-06-30T13:57:51.642Z"
   },
   {
    "duration": 6,
    "start_time": "2023-06-30T13:58:31.541Z"
   },
   {
    "duration": 49,
    "start_time": "2023-06-30T13:58:33.233Z"
   },
   {
    "duration": 5,
    "start_time": "2023-06-30T13:58:59.873Z"
   },
   {
    "duration": 26,
    "start_time": "2023-06-30T13:59:00.725Z"
   },
   {
    "duration": 4,
    "start_time": "2023-06-30T13:59:31.731Z"
   },
   {
    "duration": 28,
    "start_time": "2023-06-30T13:59:33.097Z"
   },
   {
    "duration": 5,
    "start_time": "2023-06-30T14:00:41.650Z"
   },
   {
    "duration": 26,
    "start_time": "2023-06-30T14:00:43.270Z"
   },
   {
    "duration": 5,
    "start_time": "2023-06-30T14:01:13.545Z"
   },
   {
    "duration": 167,
    "start_time": "2023-06-30T14:01:15.239Z"
   },
   {
    "duration": 5,
    "start_time": "2023-06-30T14:01:30.511Z"
   },
   {
    "duration": 15,
    "start_time": "2023-06-30T14:01:32.078Z"
   },
   {
    "duration": 6,
    "start_time": "2023-06-30T14:03:27.020Z"
   },
   {
    "duration": 25,
    "start_time": "2023-06-30T14:03:34.413Z"
   },
   {
    "duration": 5,
    "start_time": "2023-06-30T14:03:44.130Z"
   },
   {
    "duration": 18,
    "start_time": "2023-06-30T14:03:45.670Z"
   },
   {
    "duration": 5,
    "start_time": "2023-06-30T14:06:12.414Z"
   },
   {
    "duration": 19,
    "start_time": "2023-06-30T14:06:14.245Z"
   },
   {
    "duration": 6,
    "start_time": "2023-06-30T14:06:24.521Z"
   },
   {
    "duration": 18,
    "start_time": "2023-06-30T14:06:25.914Z"
   },
   {
    "duration": 6,
    "start_time": "2023-06-30T14:07:09.970Z"
   },
   {
    "duration": 6,
    "start_time": "2023-06-30T14:08:20.182Z"
   },
   {
    "duration": 18,
    "start_time": "2023-06-30T14:08:21.645Z"
   },
   {
    "duration": 16,
    "start_time": "2023-06-30T14:09:53.160Z"
   },
   {
    "duration": 6,
    "start_time": "2023-06-30T14:17:29.229Z"
   },
   {
    "duration": 16,
    "start_time": "2023-06-30T14:17:31.407Z"
   },
   {
    "duration": 1016,
    "start_time": "2023-06-30T14:17:37.599Z"
   },
   {
    "duration": 55,
    "start_time": "2023-06-30T14:17:52.071Z"
   },
   {
    "duration": 55,
    "start_time": "2023-06-30T14:18:12.116Z"
   },
   {
    "duration": 8,
    "start_time": "2023-06-30T14:18:32.409Z"
   },
   {
    "duration": 53,
    "start_time": "2023-06-30T14:18:34.695Z"
   },
   {
    "duration": 75,
    "start_time": "2023-06-30T14:19:52.227Z"
   },
   {
    "duration": 6,
    "start_time": "2023-06-30T14:19:57.107Z"
   },
   {
    "duration": 48,
    "start_time": "2023-06-30T14:19:58.667Z"
   },
   {
    "duration": 66,
    "start_time": "2023-06-30T14:20:19.712Z"
   },
   {
    "duration": 47,
    "start_time": "2023-06-30T14:20:54.436Z"
   },
   {
    "duration": 7,
    "start_time": "2023-06-30T14:24:12.310Z"
   },
   {
    "duration": 45,
    "start_time": "2023-06-30T14:24:14.645Z"
   },
   {
    "duration": 8,
    "start_time": "2023-06-30T14:24:23.616Z"
   },
   {
    "duration": 48,
    "start_time": "2023-06-30T14:24:25.055Z"
   },
   {
    "duration": 7,
    "start_time": "2023-06-30T14:24:34.259Z"
   },
   {
    "duration": 48,
    "start_time": "2023-06-30T14:24:35.416Z"
   },
   {
    "duration": 42,
    "start_time": "2023-06-30T14:25:17.751Z"
   },
   {
    "duration": 46,
    "start_time": "2023-06-30T14:25:25.198Z"
   },
   {
    "duration": 7,
    "start_time": "2023-06-30T14:25:39.910Z"
   },
   {
    "duration": 48,
    "start_time": "2023-06-30T14:25:42.426Z"
   },
   {
    "duration": 42,
    "start_time": "2023-06-30T14:25:47.941Z"
   },
   {
    "duration": 9,
    "start_time": "2023-06-30T14:26:31.646Z"
   },
   {
    "duration": 54,
    "start_time": "2023-06-30T14:26:34.895Z"
   },
   {
    "duration": 44,
    "start_time": "2023-06-30T14:26:52.998Z"
   },
   {
    "duration": 8,
    "start_time": "2023-06-30T14:27:32.615Z"
   },
   {
    "duration": 125,
    "start_time": "2023-06-30T14:27:36.525Z"
   },
   {
    "duration": 59,
    "start_time": "2023-06-30T14:27:39.625Z"
   },
   {
    "duration": 7,
    "start_time": "2023-06-30T14:28:35.290Z"
   },
   {
    "duration": 48,
    "start_time": "2023-06-30T14:28:36.701Z"
   },
   {
    "duration": 50,
    "start_time": "2023-06-30T14:28:39.816Z"
   },
   {
    "duration": 7,
    "start_time": "2023-06-30T14:28:53.149Z"
   },
   {
    "duration": 935,
    "start_time": "2023-06-30T14:28:54.319Z"
   },
   {
    "duration": 42,
    "start_time": "2023-06-30T14:28:57.550Z"
   },
   {
    "duration": 36,
    "start_time": "2023-06-30T14:31:58.298Z"
   },
   {
    "duration": 8,
    "start_time": "2023-06-30T14:32:09.087Z"
   },
   {
    "duration": 35,
    "start_time": "2023-06-30T14:32:10.640Z"
   },
   {
    "duration": 69,
    "start_time": "2023-06-30T14:33:46.232Z"
   },
   {
    "duration": 63,
    "start_time": "2023-06-30T14:34:02.903Z"
   },
   {
    "duration": 5,
    "start_time": "2023-06-30T14:35:12.759Z"
   },
   {
    "duration": 16,
    "start_time": "2023-06-30T14:35:19.370Z"
   },
   {
    "duration": 15,
    "start_time": "2023-06-30T14:35:38.598Z"
   },
   {
    "duration": 14,
    "start_time": "2023-06-30T14:35:55.015Z"
   },
   {
    "duration": 6,
    "start_time": "2023-06-30T14:36:06.502Z"
   },
   {
    "duration": 17,
    "start_time": "2023-06-30T14:36:08.200Z"
   },
   {
    "duration": 16,
    "start_time": "2023-06-30T14:36:10.438Z"
   },
   {
    "duration": 15,
    "start_time": "2023-06-30T14:36:12.560Z"
   },
   {
    "duration": 6,
    "start_time": "2023-06-30T14:36:21.431Z"
   },
   {
    "duration": 20,
    "start_time": "2023-06-30T14:36:22.421Z"
   },
   {
    "duration": 14,
    "start_time": "2023-06-30T14:36:24.350Z"
   },
   {
    "duration": 19,
    "start_time": "2023-06-30T14:36:25.708Z"
   },
   {
    "duration": 17,
    "start_time": "2023-06-30T14:36:36.198Z"
   },
   {
    "duration": 15,
    "start_time": "2023-06-30T14:37:19.500Z"
   },
   {
    "duration": 18,
    "start_time": "2023-06-30T14:37:49.901Z"
   },
   {
    "duration": 16,
    "start_time": "2023-06-30T14:38:32.690Z"
   },
   {
    "duration": 14,
    "start_time": "2023-06-30T14:38:48.304Z"
   },
   {
    "duration": 5,
    "start_time": "2023-06-30T15:05:08.070Z"
   },
   {
    "duration": 36,
    "start_time": "2023-06-30T15:05:12.955Z"
   },
   {
    "duration": 22,
    "start_time": "2023-06-30T15:05:43.967Z"
   },
   {
    "duration": 5,
    "start_time": "2023-06-30T15:06:35.695Z"
   },
   {
    "duration": 24,
    "start_time": "2023-06-30T15:06:36.806Z"
   },
   {
    "duration": 5,
    "start_time": "2023-06-30T15:07:18.890Z"
   },
   {
    "duration": 24,
    "start_time": "2023-06-30T15:07:20.399Z"
   },
   {
    "duration": 32,
    "start_time": "2023-06-30T15:07:22.837Z"
   },
   {
    "duration": 64,
    "start_time": "2023-06-30T15:08:44.225Z"
   },
   {
    "duration": 5,
    "start_time": "2023-06-30T15:09:29.399Z"
   },
   {
    "duration": 55,
    "start_time": "2023-06-30T15:09:31.258Z"
   },
   {
    "duration": 20,
    "start_time": "2023-06-30T15:09:38.994Z"
   },
   {
    "duration": 6,
    "start_time": "2023-06-30T15:10:16.594Z"
   },
   {
    "duration": 18,
    "start_time": "2023-06-30T15:10:18.254Z"
   },
   {
    "duration": 6,
    "start_time": "2023-06-30T15:10:33.426Z"
   },
   {
    "duration": 24,
    "start_time": "2023-06-30T15:10:35.106Z"
   },
   {
    "duration": 21,
    "start_time": "2023-06-30T15:10:46.299Z"
   },
   {
    "duration": 15,
    "start_time": "2023-06-30T15:10:58.703Z"
   },
   {
    "duration": 20,
    "start_time": "2023-06-30T15:11:03.803Z"
   },
   {
    "duration": 8,
    "start_time": "2023-06-30T15:11:13.050Z"
   },
   {
    "duration": 21,
    "start_time": "2023-06-30T15:11:14.140Z"
   },
   {
    "duration": 20,
    "start_time": "2023-06-30T15:11:17.417Z"
   },
   {
    "duration": 18,
    "start_time": "2023-06-30T15:11:18.735Z"
   },
   {
    "duration": 15,
    "start_time": "2023-06-30T15:11:20.736Z"
   },
   {
    "duration": 15,
    "start_time": "2023-06-30T15:11:26.121Z"
   },
   {
    "duration": 6,
    "start_time": "2023-06-30T15:12:38.295Z"
   },
   {
    "duration": 106,
    "start_time": "2023-06-30T15:12:40.506Z"
   },
   {
    "duration": 36,
    "start_time": "2023-06-30T15:12:45.295Z"
   },
   {
    "duration": 9,
    "start_time": "2023-06-30T15:13:31.728Z"
   },
   {
    "duration": 20,
    "start_time": "2023-06-30T15:13:33.294Z"
   },
   {
    "duration": 23,
    "start_time": "2023-06-30T15:13:38.757Z"
   },
   {
    "duration": 83,
    "start_time": "2023-06-30T15:14:16.417Z"
   },
   {
    "duration": 79,
    "start_time": "2023-06-30T15:14:21.795Z"
   },
   {
    "duration": 75,
    "start_time": "2023-06-30T15:14:57.008Z"
   },
   {
    "duration": 9,
    "start_time": "2023-06-30T15:15:06.273Z"
   },
   {
    "duration": 36,
    "start_time": "2023-06-30T15:15:07.898Z"
   },
   {
    "duration": 73,
    "start_time": "2023-06-30T15:15:22.202Z"
   },
   {
    "duration": 74,
    "start_time": "2023-06-30T15:15:39.755Z"
   },
   {
    "duration": 7,
    "start_time": "2023-06-30T15:17:02.524Z"
   },
   {
    "duration": 51,
    "start_time": "2023-06-30T15:17:04.502Z"
   },
   {
    "duration": 37,
    "start_time": "2023-06-30T15:17:10.399Z"
   },
   {
    "duration": 75,
    "start_time": "2023-06-30T15:22:48.917Z"
   },
   {
    "duration": 66,
    "start_time": "2023-06-30T15:23:02.745Z"
   },
   {
    "duration": 66,
    "start_time": "2023-06-30T15:23:07.677Z"
   },
   {
    "duration": 89,
    "start_time": "2023-06-30T15:23:22.094Z"
   },
   {
    "duration": 7,
    "start_time": "2023-06-30T15:23:42.387Z"
   },
   {
    "duration": 52,
    "start_time": "2023-06-30T15:23:43.704Z"
   },
   {
    "duration": 6,
    "start_time": "2023-06-30T15:24:06.435Z"
   },
   {
    "duration": 21,
    "start_time": "2023-06-30T15:24:07.879Z"
   },
   {
    "duration": 7,
    "start_time": "2023-06-30T15:24:21.899Z"
   },
   {
    "duration": 27,
    "start_time": "2023-06-30T15:24:23.699Z"
   },
   {
    "duration": 6,
    "start_time": "2023-06-30T15:24:28.695Z"
   },
   {
    "duration": 23,
    "start_time": "2023-06-30T15:24:29.921Z"
   },
   {
    "duration": 72,
    "start_time": "2023-06-30T15:46:13.028Z"
   },
   {
    "duration": 3,
    "start_time": "2023-06-30T15:46:23.128Z"
   },
   {
    "duration": 19,
    "start_time": "2023-06-30T15:46:32.637Z"
   },
   {
    "duration": 1467,
    "start_time": "2023-07-01T12:50:15.475Z"
   },
   {
    "duration": 356,
    "start_time": "2023-07-01T12:50:16.944Z"
   },
   {
    "duration": 13,
    "start_time": "2023-07-01T12:50:17.301Z"
   },
   {
    "duration": 3,
    "start_time": "2023-07-01T12:50:17.316Z"
   },
   {
    "duration": 10,
    "start_time": "2023-07-01T12:50:17.321Z"
   },
   {
    "duration": 11,
    "start_time": "2023-07-01T12:50:17.332Z"
   },
   {
    "duration": 12,
    "start_time": "2023-07-01T12:50:17.367Z"
   },
   {
    "duration": 10,
    "start_time": "2023-07-01T12:50:17.381Z"
   },
   {
    "duration": 41,
    "start_time": "2023-07-01T12:50:17.393Z"
   },
   {
    "duration": 17,
    "start_time": "2023-07-01T12:50:17.436Z"
   },
   {
    "duration": 3,
    "start_time": "2023-07-01T12:50:17.455Z"
   },
   {
    "duration": 22,
    "start_time": "2023-07-01T12:50:17.467Z"
   },
   {
    "duration": 24,
    "start_time": "2023-07-01T12:50:17.491Z"
   },
   {
    "duration": 5,
    "start_time": "2023-07-01T12:50:17.519Z"
   },
   {
    "duration": 42,
    "start_time": "2023-07-01T12:50:17.526Z"
   },
   {
    "duration": 11,
    "start_time": "2023-07-01T12:50:17.572Z"
   },
   {
    "duration": 9,
    "start_time": "2023-07-01T12:50:17.585Z"
   },
   {
    "duration": 19,
    "start_time": "2023-07-01T12:50:17.596Z"
   },
   {
    "duration": 34,
    "start_time": "2023-07-01T12:50:17.617Z"
   },
   {
    "duration": 5,
    "start_time": "2023-07-01T12:50:17.652Z"
   },
   {
    "duration": 17,
    "start_time": "2023-07-01T12:50:17.658Z"
   },
   {
    "duration": 197,
    "start_time": "2023-07-01T12:50:17.677Z"
   },
   {
    "duration": 25,
    "start_time": "2023-07-01T12:50:17.876Z"
   },
   {
    "duration": 13,
    "start_time": "2023-07-01T12:50:17.903Z"
   },
   {
    "duration": 272,
    "start_time": "2023-07-01T12:50:17.918Z"
   },
   {
    "duration": 7,
    "start_time": "2023-07-01T13:08:03.944Z"
   },
   {
    "duration": 29,
    "start_time": "2023-07-01T13:08:05.399Z"
   },
   {
    "duration": 71,
    "start_time": "2023-07-01T13:11:58.427Z"
   },
   {
    "duration": 6,
    "start_time": "2023-07-01T13:12:13.190Z"
   },
   {
    "duration": 36,
    "start_time": "2023-07-01T13:12:14.735Z"
   },
   {
    "duration": 5,
    "start_time": "2023-07-01T13:12:51.536Z"
   },
   {
    "duration": 22,
    "start_time": "2023-07-01T13:12:53.319Z"
   },
   {
    "duration": 6,
    "start_time": "2023-07-01T13:13:02.088Z"
   },
   {
    "duration": 30,
    "start_time": "2023-07-01T13:13:04.239Z"
   },
   {
    "duration": 111,
    "start_time": "2023-07-01T13:13:48.167Z"
   },
   {
    "duration": 6,
    "start_time": "2023-07-01T13:13:52.265Z"
   },
   {
    "duration": 31,
    "start_time": "2023-07-01T13:13:54.735Z"
   },
   {
    "duration": 6,
    "start_time": "2023-07-01T13:14:09.081Z"
   },
   {
    "duration": 46,
    "start_time": "2023-07-01T13:14:10.559Z"
   },
   {
    "duration": 6,
    "start_time": "2023-07-01T13:14:18.449Z"
   },
   {
    "duration": 31,
    "start_time": "2023-07-01T13:14:20.206Z"
   },
   {
    "duration": 7,
    "start_time": "2023-07-01T13:14:33.468Z"
   },
   {
    "duration": 28,
    "start_time": "2023-07-01T13:14:35.185Z"
   },
   {
    "duration": 8,
    "start_time": "2023-07-01T13:14:45.745Z"
   },
   {
    "duration": 30,
    "start_time": "2023-07-01T13:14:46.639Z"
   },
   {
    "duration": 6,
    "start_time": "2023-07-01T13:15:53.767Z"
   },
   {
    "duration": 31,
    "start_time": "2023-07-01T13:15:55.144Z"
   },
   {
    "duration": 6,
    "start_time": "2023-07-01T13:16:01.655Z"
   },
   {
    "duration": 65,
    "start_time": "2023-07-01T13:16:03.128Z"
   },
   {
    "duration": 6,
    "start_time": "2023-07-01T13:16:16.424Z"
   },
   {
    "duration": 1020,
    "start_time": "2023-07-01T13:16:17.455Z"
   },
   {
    "duration": 5,
    "start_time": "2023-07-01T13:16:23.527Z"
   },
   {
    "duration": 45,
    "start_time": "2023-07-01T13:16:24.639Z"
   },
   {
    "duration": 29,
    "start_time": "2023-07-01T13:16:44.586Z"
   },
   {
    "duration": 6,
    "start_time": "2023-07-01T13:17:05.471Z"
   },
   {
    "duration": 54,
    "start_time": "2023-07-01T13:17:06.430Z"
   },
   {
    "duration": 5,
    "start_time": "2023-07-01T13:18:09.135Z"
   },
   {
    "duration": 46,
    "start_time": "2023-07-01T13:18:10.495Z"
   },
   {
    "duration": 28,
    "start_time": "2023-07-01T13:18:15.927Z"
   },
   {
    "duration": 35,
    "start_time": "2023-07-01T13:18:32.357Z"
   },
   {
    "duration": 32,
    "start_time": "2023-07-01T13:18:41.903Z"
   },
   {
    "duration": 1006,
    "start_time": "2023-07-01T13:19:05.733Z"
   },
   {
    "duration": 44,
    "start_time": "2023-07-01T13:20:42.422Z"
   },
   {
    "duration": 228,
    "start_time": "2023-07-01T13:21:22.559Z"
   },
   {
    "duration": 4,
    "start_time": "2023-07-01T13:21:31.127Z"
   },
   {
    "duration": 1174,
    "start_time": "2023-07-01T13:21:34.985Z"
   },
   {
    "duration": 219,
    "start_time": "2023-07-01T13:21:42.786Z"
   },
   {
    "duration": 225,
    "start_time": "2023-07-01T13:22:05.767Z"
   },
   {
    "duration": 218,
    "start_time": "2023-07-01T13:22:14.567Z"
   },
   {
    "duration": 195,
    "start_time": "2023-07-01T13:23:26.754Z"
   },
   {
    "duration": 50,
    "start_time": "2023-07-01T13:24:06.705Z"
   },
   {
    "duration": 56,
    "start_time": "2023-07-01T13:24:28.744Z"
   },
   {
    "duration": 34,
    "start_time": "2023-07-01T13:24:37.314Z"
   },
   {
    "duration": 30,
    "start_time": "2023-07-01T13:25:09.199Z"
   },
   {
    "duration": 17,
    "start_time": "2023-07-01T13:26:30.800Z"
   },
   {
    "duration": 6,
    "start_time": "2023-07-01T13:31:05.737Z"
   },
   {
    "duration": 73,
    "start_time": "2023-07-01T13:31:07.463Z"
   },
   {
    "duration": 44,
    "start_time": "2023-07-01T13:31:11.045Z"
   },
   {
    "duration": 63,
    "start_time": "2023-07-01T13:31:12.652Z"
   },
   {
    "duration": 43,
    "start_time": "2023-07-01T13:31:15.674Z"
   },
   {
    "duration": 27,
    "start_time": "2023-07-01T13:31:17.515Z"
   },
   {
    "duration": 28,
    "start_time": "2023-07-01T13:31:19.575Z"
   },
   {
    "duration": 30,
    "start_time": "2023-07-01T13:31:21.277Z"
   },
   {
    "duration": 7,
    "start_time": "2023-07-01T13:31:59.176Z"
   },
   {
    "duration": 51,
    "start_time": "2023-07-01T13:32:00.424Z"
   },
   {
    "duration": 35,
    "start_time": "2023-07-01T13:32:02.656Z"
   },
   {
    "duration": 44,
    "start_time": "2023-07-01T13:32:04.175Z"
   },
   {
    "duration": 30,
    "start_time": "2023-07-01T13:32:05.929Z"
   },
   {
    "duration": 32,
    "start_time": "2023-07-01T13:32:07.178Z"
   },
   {
    "duration": 31,
    "start_time": "2023-07-01T13:32:08.814Z"
   },
   {
    "duration": 39,
    "start_time": "2023-07-01T13:32:10.042Z"
   },
   {
    "duration": 64,
    "start_time": "2023-07-01T14:09:06.649Z"
   },
   {
    "duration": 22,
    "start_time": "2023-07-01T14:09:13.449Z"
   },
   {
    "duration": 43,
    "start_time": "2023-07-01T14:09:24.866Z"
   },
   {
    "duration": 43,
    "start_time": "2023-07-01T14:09:39.109Z"
   },
   {
    "duration": 45,
    "start_time": "2023-07-01T14:10:08.296Z"
   },
   {
    "duration": 44,
    "start_time": "2023-07-01T14:10:25.583Z"
   },
   {
    "duration": 54,
    "start_time": "2023-07-01T14:11:09.841Z"
   },
   {
    "duration": 1032,
    "start_time": "2023-07-01T14:11:47.620Z"
   },
   {
    "duration": 49,
    "start_time": "2023-07-01T14:12:12.610Z"
   },
   {
    "duration": 61,
    "start_time": "2023-07-01T14:12:28.660Z"
   },
   {
    "duration": 46,
    "start_time": "2023-07-01T14:12:30.343Z"
   },
   {
    "duration": 77,
    "start_time": "2023-07-01T14:12:57.550Z"
   },
   {
    "duration": 90,
    "start_time": "2023-07-01T14:13:02.058Z"
   },
   {
    "duration": 49,
    "start_time": "2023-07-01T14:13:04.617Z"
   },
   {
    "duration": 51,
    "start_time": "2023-07-01T14:13:23.181Z"
   },
   {
    "duration": 51,
    "start_time": "2023-07-01T14:13:25.850Z"
   },
   {
    "duration": 4,
    "start_time": "2023-07-01T17:30:14.379Z"
   },
   {
    "duration": 6,
    "start_time": "2023-07-01T17:30:18.133Z"
   },
   {
    "duration": 50,
    "start_time": "2023-07-01T17:30:19.418Z"
   },
   {
    "duration": 76,
    "start_time": "2023-07-01T17:30:47.039Z"
   },
   {
    "duration": 63,
    "start_time": "2023-07-01T17:31:43.197Z"
   },
   {
    "duration": 6,
    "start_time": "2023-07-01T17:31:50.937Z"
   },
   {
    "duration": 55,
    "start_time": "2023-07-01T17:31:52.266Z"
   },
   {
    "duration": 35,
    "start_time": "2023-07-01T17:32:00.969Z"
   },
   {
    "duration": 43,
    "start_time": "2023-07-01T17:32:20.197Z"
   },
   {
    "duration": 30,
    "start_time": "2023-07-01T17:32:32.159Z"
   },
   {
    "duration": 30,
    "start_time": "2023-07-01T17:32:38.809Z"
   },
   {
    "duration": 30,
    "start_time": "2023-07-01T17:32:50.489Z"
   },
   {
    "duration": 31,
    "start_time": "2023-07-01T17:32:57.929Z"
   },
   {
    "duration": 6,
    "start_time": "2023-07-01T17:33:22.617Z"
   },
   {
    "duration": 45,
    "start_time": "2023-07-01T17:33:24.519Z"
   },
   {
    "duration": 36,
    "start_time": "2023-07-01T17:33:27.849Z"
   },
   {
    "duration": 45,
    "start_time": "2023-07-01T17:33:42.998Z"
   },
   {
    "duration": 34,
    "start_time": "2023-07-01T17:33:52.788Z"
   },
   {
    "duration": 5,
    "start_time": "2023-07-01T17:34:29.769Z"
   },
   {
    "duration": 45,
    "start_time": "2023-07-01T17:34:30.729Z"
   },
   {
    "duration": 34,
    "start_time": "2023-07-01T17:34:33.049Z"
   },
   {
    "duration": 40,
    "start_time": "2023-07-01T17:34:35.250Z"
   },
   {
    "duration": 7,
    "start_time": "2023-07-01T17:36:31.727Z"
   },
   {
    "duration": 33,
    "start_time": "2023-07-01T17:36:51.800Z"
   },
   {
    "duration": 6,
    "start_time": "2023-07-01T17:37:10.438Z"
   },
   {
    "duration": 44,
    "start_time": "2023-07-01T17:37:12.197Z"
   },
   {
    "duration": 6,
    "start_time": "2023-07-01T17:38:01.649Z"
   },
   {
    "duration": 50,
    "start_time": "2023-07-01T17:38:04.460Z"
   },
   {
    "duration": 35,
    "start_time": "2023-07-01T17:38:25.987Z"
   },
   {
    "duration": 45,
    "start_time": "2023-07-01T17:38:43.258Z"
   },
   {
    "duration": 29,
    "start_time": "2023-07-01T17:39:07.898Z"
   },
   {
    "duration": 28,
    "start_time": "2023-07-01T17:39:13.778Z"
   },
   {
    "duration": 29,
    "start_time": "2023-07-01T17:39:29.579Z"
   },
   {
    "duration": 34,
    "start_time": "2023-07-01T17:39:52.048Z"
   },
   {
    "duration": 28,
    "start_time": "2023-07-01T17:40:06.749Z"
   },
   {
    "duration": 28,
    "start_time": "2023-07-01T17:40:20.169Z"
   },
   {
    "duration": 28,
    "start_time": "2023-07-01T17:40:42.219Z"
   },
   {
    "duration": 29,
    "start_time": "2023-07-01T17:41:05.791Z"
   },
   {
    "duration": 5,
    "start_time": "2023-07-01T17:41:33.586Z"
   },
   {
    "duration": 42,
    "start_time": "2023-07-01T17:41:39.176Z"
   },
   {
    "duration": 18,
    "start_time": "2023-07-01T17:41:43.626Z"
   },
   {
    "duration": 6,
    "start_time": "2023-07-01T17:41:50.777Z"
   },
   {
    "duration": 43,
    "start_time": "2023-07-01T17:41:54.888Z"
   },
   {
    "duration": 6,
    "start_time": "2023-07-01T17:44:11.619Z"
   },
   {
    "duration": 5,
    "start_time": "2023-07-01T17:44:20.610Z"
   },
   {
    "duration": 5,
    "start_time": "2023-07-01T17:44:22.048Z"
   },
   {
    "duration": 6,
    "start_time": "2023-07-01T17:50:07.559Z"
   },
   {
    "duration": 1205,
    "start_time": "2023-07-01T17:50:17.102Z"
   },
   {
    "duration": 162,
    "start_time": "2023-07-01T17:50:18.308Z"
   },
   {
    "duration": 13,
    "start_time": "2023-07-01T17:50:18.471Z"
   },
   {
    "duration": 3,
    "start_time": "2023-07-01T17:50:18.487Z"
   },
   {
    "duration": 10,
    "start_time": "2023-07-01T17:50:18.492Z"
   },
   {
    "duration": 8,
    "start_time": "2023-07-01T17:50:18.504Z"
   },
   {
    "duration": 13,
    "start_time": "2023-07-01T17:50:18.514Z"
   },
   {
    "duration": 39,
    "start_time": "2023-07-01T17:50:18.528Z"
   },
   {
    "duration": 8,
    "start_time": "2023-07-01T17:50:18.569Z"
   },
   {
    "duration": 26,
    "start_time": "2023-07-01T17:50:18.580Z"
   },
   {
    "duration": 18,
    "start_time": "2023-07-01T17:50:18.608Z"
   },
   {
    "duration": 5,
    "start_time": "2023-07-01T17:50:18.628Z"
   },
   {
    "duration": 38,
    "start_time": "2023-07-01T17:50:18.635Z"
   },
   {
    "duration": 6,
    "start_time": "2023-07-01T17:50:18.675Z"
   },
   {
    "duration": 5,
    "start_time": "2023-07-01T17:50:18.682Z"
   },
   {
    "duration": 26,
    "start_time": "2023-07-01T17:50:18.689Z"
   },
   {
    "duration": 9,
    "start_time": "2023-07-01T17:50:18.717Z"
   },
   {
    "duration": 40,
    "start_time": "2023-07-01T17:50:18.727Z"
   },
   {
    "duration": 3,
    "start_time": "2023-07-01T17:50:18.769Z"
   },
   {
    "duration": 34,
    "start_time": "2023-07-01T17:50:18.773Z"
   },
   {
    "duration": 5,
    "start_time": "2023-07-01T17:50:18.809Z"
   },
   {
    "duration": 8,
    "start_time": "2023-07-01T17:50:18.816Z"
   },
   {
    "duration": 99,
    "start_time": "2023-07-01T17:50:19.069Z"
   },
   {
    "duration": 1217,
    "start_time": "2023-07-01T17:51:22.295Z"
   },
   {
    "duration": 94,
    "start_time": "2023-07-01T17:51:23.515Z"
   },
   {
    "duration": 17,
    "start_time": "2023-07-01T17:51:23.612Z"
   },
   {
    "duration": 4,
    "start_time": "2023-07-01T17:51:23.631Z"
   },
   {
    "duration": 15,
    "start_time": "2023-07-01T17:51:23.639Z"
   },
   {
    "duration": 15,
    "start_time": "2023-07-01T17:51:23.656Z"
   },
   {
    "duration": 18,
    "start_time": "2023-07-01T17:51:23.673Z"
   },
   {
    "duration": 9,
    "start_time": "2023-07-01T17:51:23.693Z"
   },
   {
    "duration": 24,
    "start_time": "2023-07-01T17:51:23.704Z"
   },
   {
    "duration": 57,
    "start_time": "2023-07-01T17:51:23.730Z"
   },
   {
    "duration": 26,
    "start_time": "2023-07-01T17:51:23.790Z"
   },
   {
    "duration": 8,
    "start_time": "2023-07-01T17:51:23.818Z"
   },
   {
    "duration": 28,
    "start_time": "2023-07-01T17:51:23.827Z"
   },
   {
    "duration": 12,
    "start_time": "2023-07-01T17:51:23.859Z"
   },
   {
    "duration": 10,
    "start_time": "2023-07-01T17:51:23.873Z"
   },
   {
    "duration": 41,
    "start_time": "2023-07-01T17:51:23.886Z"
   },
   {
    "duration": 10,
    "start_time": "2023-07-01T17:51:23.929Z"
   },
   {
    "duration": 39,
    "start_time": "2023-07-01T17:51:23.942Z"
   },
   {
    "duration": 13,
    "start_time": "2023-07-01T17:51:23.983Z"
   },
   {
    "duration": 46,
    "start_time": "2023-07-01T17:51:23.998Z"
   },
   {
    "duration": 6,
    "start_time": "2023-07-01T17:51:24.047Z"
   },
   {
    "duration": 12,
    "start_time": "2023-07-01T17:51:24.055Z"
   },
   {
    "duration": 1209,
    "start_time": "2023-07-01T17:55:04.008Z"
   },
   {
    "duration": 111,
    "start_time": "2023-07-01T17:55:05.219Z"
   },
   {
    "duration": 18,
    "start_time": "2023-07-01T17:55:05.331Z"
   },
   {
    "duration": 11,
    "start_time": "2023-07-01T17:55:05.352Z"
   },
   {
    "duration": 18,
    "start_time": "2023-07-01T17:55:05.366Z"
   },
   {
    "duration": 13,
    "start_time": "2023-07-01T17:55:05.386Z"
   },
   {
    "duration": 17,
    "start_time": "2023-07-01T17:55:05.401Z"
   },
   {
    "duration": 10,
    "start_time": "2023-07-01T17:55:05.419Z"
   },
   {
    "duration": 14,
    "start_time": "2023-07-01T17:55:05.430Z"
   },
   {
    "duration": 33,
    "start_time": "2023-07-01T17:55:05.446Z"
   },
   {
    "duration": 20,
    "start_time": "2023-07-01T17:55:05.480Z"
   },
   {
    "duration": 4,
    "start_time": "2023-07-01T17:55:05.502Z"
   },
   {
    "duration": 26,
    "start_time": "2023-07-01T17:55:05.507Z"
   },
   {
    "duration": 6,
    "start_time": "2023-07-01T17:55:05.536Z"
   },
   {
    "duration": 26,
    "start_time": "2023-07-01T17:55:05.544Z"
   },
   {
    "duration": 38,
    "start_time": "2023-07-01T17:55:05.572Z"
   },
   {
    "duration": 7,
    "start_time": "2023-07-01T17:55:05.611Z"
   },
   {
    "duration": 21,
    "start_time": "2023-07-01T17:55:05.620Z"
   },
   {
    "duration": 12,
    "start_time": "2023-07-01T17:55:05.644Z"
   },
   {
    "duration": 60,
    "start_time": "2023-07-01T17:55:05.658Z"
   },
   {
    "duration": 7,
    "start_time": "2023-07-01T17:55:05.720Z"
   },
   {
    "duration": 7,
    "start_time": "2023-07-01T17:55:05.730Z"
   },
   {
    "duration": 241,
    "start_time": "2023-07-01T17:55:05.740Z"
   },
   {
    "duration": 118,
    "start_time": "2023-07-01T17:55:05.983Z"
   },
   {
    "duration": 84,
    "start_time": "2023-07-01T17:55:06.103Z"
   },
   {
    "duration": 90,
    "start_time": "2023-07-01T17:55:06.189Z"
   },
   {
    "duration": 47,
    "start_time": "2023-07-01T17:55:06.281Z"
   },
   {
    "duration": 30,
    "start_time": "2023-07-01T17:55:06.366Z"
   },
   {
    "duration": 32,
    "start_time": "2023-07-01T17:55:06.398Z"
   },
   {
    "duration": 58,
    "start_time": "2023-07-01T17:55:06.432Z"
   },
   {
    "duration": 32,
    "start_time": "2023-07-01T17:55:06.491Z"
   },
   {
    "duration": 55,
    "start_time": "2023-07-01T17:55:06.525Z"
   },
   {
    "duration": 30,
    "start_time": "2023-07-01T17:55:06.581Z"
   },
   {
    "duration": 59,
    "start_time": "2023-07-01T17:55:06.613Z"
   },
   {
    "duration": 30,
    "start_time": "2023-07-01T17:55:06.673Z"
   },
   {
    "duration": 62,
    "start_time": "2023-07-01T17:55:06.705Z"
   },
   {
    "duration": 56,
    "start_time": "2023-07-01T17:55:06.769Z"
   },
   {
    "duration": 76,
    "start_time": "2023-07-01T17:55:06.827Z"
   },
   {
    "duration": 9,
    "start_time": "2023-07-01T18:00:37.694Z"
   },
   {
    "duration": 6,
    "start_time": "2023-07-01T18:00:41.022Z"
   },
   {
    "duration": 6,
    "start_time": "2023-07-01T18:00:41.863Z"
   },
   {
    "duration": 29,
    "start_time": "2023-07-01T18:00:46.436Z"
   },
   {
    "duration": 52,
    "start_time": "2023-07-01T18:00:48.431Z"
   },
   {
    "duration": 11,
    "start_time": "2023-07-01T18:01:00.516Z"
   },
   {
    "duration": 6,
    "start_time": "2023-07-01T18:11:27.744Z"
   },
   {
    "duration": 130,
    "start_time": "2023-07-01T18:11:31.720Z"
   },
   {
    "duration": 7,
    "start_time": "2023-07-01T18:11:47.791Z"
   },
   {
    "duration": 36,
    "start_time": "2023-07-01T18:11:51.069Z"
   },
   {
    "duration": 6,
    "start_time": "2023-07-01T18:12:16.641Z"
   },
   {
    "duration": 36,
    "start_time": "2023-07-01T18:12:26.085Z"
   },
   {
    "duration": 34,
    "start_time": "2023-07-01T18:12:51.059Z"
   },
   {
    "duration": 31,
    "start_time": "2023-07-01T18:12:55.377Z"
   },
   {
    "duration": 29,
    "start_time": "2023-07-01T18:13:14.590Z"
   },
   {
    "duration": 31,
    "start_time": "2023-07-01T18:13:20.949Z"
   },
   {
    "duration": 34,
    "start_time": "2023-07-01T18:15:03.398Z"
   },
   {
    "duration": 60,
    "start_time": "2023-07-01T18:15:45.156Z"
   },
   {
    "duration": 29,
    "start_time": "2023-07-01T18:15:54.568Z"
   },
   {
    "duration": 6,
    "start_time": "2023-07-01T18:17:09.275Z"
   },
   {
    "duration": 7,
    "start_time": "2023-07-01T18:17:11.191Z"
   },
   {
    "duration": 55,
    "start_time": "2023-07-01T18:17:12.968Z"
   },
   {
    "duration": 45,
    "start_time": "2023-07-01T18:17:15.120Z"
   },
   {
    "duration": 41,
    "start_time": "2023-07-01T18:17:26.599Z"
   },
   {
    "duration": 31,
    "start_time": "2023-07-01T18:17:30.348Z"
   },
   {
    "duration": 64,
    "start_time": "2023-07-01T18:17:32.239Z"
   },
   {
    "duration": 37,
    "start_time": "2023-07-01T18:17:34.131Z"
   },
   {
    "duration": 32,
    "start_time": "2023-07-01T18:17:35.979Z"
   },
   {
    "duration": 28,
    "start_time": "2023-07-01T18:17:37.929Z"
   },
   {
    "duration": 28,
    "start_time": "2023-07-01T18:17:45.257Z"
   },
   {
    "duration": 34,
    "start_time": "2023-07-01T18:17:46.588Z"
   },
   {
    "duration": 29,
    "start_time": "2023-07-01T18:17:48.679Z"
   },
   {
    "duration": 30,
    "start_time": "2023-07-01T18:17:50.458Z"
   },
   {
    "duration": 30,
    "start_time": "2023-07-01T18:17:51.969Z"
   },
   {
    "duration": 35,
    "start_time": "2023-07-01T18:17:53.242Z"
   },
   {
    "duration": 6,
    "start_time": "2023-07-01T18:18:25.393Z"
   },
   {
    "duration": 33,
    "start_time": "2023-07-01T18:18:30.710Z"
   },
   {
    "duration": 29,
    "start_time": "2023-07-01T18:18:38.119Z"
   },
   {
    "duration": 32,
    "start_time": "2023-07-01T18:18:41.279Z"
   },
   {
    "duration": 5,
    "start_time": "2023-07-01T18:19:41.301Z"
   },
   {
    "duration": 6,
    "start_time": "2023-07-01T18:19:43.119Z"
   },
   {
    "duration": 39,
    "start_time": "2023-07-01T18:19:48.389Z"
   },
   {
    "duration": 35,
    "start_time": "2023-07-01T18:19:52.619Z"
   },
   {
    "duration": 31,
    "start_time": "2023-07-01T18:19:54.639Z"
   },
   {
    "duration": 32,
    "start_time": "2023-07-01T18:19:56.816Z"
   },
   {
    "duration": 35,
    "start_time": "2023-07-01T18:19:58.489Z"
   },
   {
    "duration": 92,
    "start_time": "2023-07-01T18:20:13.955Z"
   },
   {
    "duration": 7,
    "start_time": "2023-07-01T18:20:18.489Z"
   },
   {
    "duration": 27,
    "start_time": "2023-07-01T18:20:21.379Z"
   },
   {
    "duration": 26,
    "start_time": "2023-07-01T18:20:28.923Z"
   },
   {
    "duration": 25,
    "start_time": "2023-07-01T18:20:38.439Z"
   },
   {
    "duration": 8,
    "start_time": "2023-07-01T18:20:45.570Z"
   },
   {
    "duration": 1323,
    "start_time": "2023-07-01T18:20:51.443Z"
   },
   {
    "duration": 99,
    "start_time": "2023-07-01T18:20:52.769Z"
   },
   {
    "duration": 23,
    "start_time": "2023-07-01T18:20:52.870Z"
   },
   {
    "duration": 4,
    "start_time": "2023-07-01T18:20:52.896Z"
   },
   {
    "duration": 16,
    "start_time": "2023-07-01T18:20:52.902Z"
   },
   {
    "duration": 9,
    "start_time": "2023-07-01T18:20:52.920Z"
   },
   {
    "duration": 40,
    "start_time": "2023-07-01T18:20:52.931Z"
   },
   {
    "duration": 10,
    "start_time": "2023-07-01T18:20:52.973Z"
   },
   {
    "duration": 28,
    "start_time": "2023-07-01T18:20:52.985Z"
   },
   {
    "duration": 35,
    "start_time": "2023-07-01T18:20:53.018Z"
   },
   {
    "duration": 38,
    "start_time": "2023-07-01T18:20:53.054Z"
   },
   {
    "duration": 6,
    "start_time": "2023-07-01T18:20:53.094Z"
   },
   {
    "duration": 16,
    "start_time": "2023-07-01T18:20:53.102Z"
   },
   {
    "duration": 8,
    "start_time": "2023-07-01T18:20:53.120Z"
   },
   {
    "duration": 41,
    "start_time": "2023-07-01T18:20:53.130Z"
   },
   {
    "duration": 38,
    "start_time": "2023-07-01T18:20:53.174Z"
   },
   {
    "duration": 8,
    "start_time": "2023-07-01T18:20:53.214Z"
   },
   {
    "duration": 10,
    "start_time": "2023-07-01T18:20:53.225Z"
   },
   {
    "duration": 9,
    "start_time": "2023-07-01T18:20:53.238Z"
   },
   {
    "duration": 62,
    "start_time": "2023-07-01T18:20:53.250Z"
   },
   {
    "duration": 6,
    "start_time": "2023-07-01T18:20:53.315Z"
   },
   {
    "duration": 11,
    "start_time": "2023-07-01T18:20:53.324Z"
   },
   {
    "duration": 244,
    "start_time": "2023-07-01T18:20:53.337Z"
   },
   {
    "duration": 105,
    "start_time": "2023-07-01T18:20:53.584Z"
   },
   {
    "duration": 110,
    "start_time": "2023-07-01T18:20:53.692Z"
   },
   {
    "duration": 111,
    "start_time": "2023-07-01T18:20:53.804Z"
   },
   {
    "duration": 110,
    "start_time": "2023-07-01T18:20:53.918Z"
   },
   {
    "duration": 71,
    "start_time": "2023-07-01T18:20:54.033Z"
   },
   {
    "duration": 60,
    "start_time": "2023-07-01T18:20:54.107Z"
   },
   {
    "duration": 41,
    "start_time": "2023-07-01T18:20:54.169Z"
   },
   {
    "duration": 82,
    "start_time": "2023-07-01T18:20:54.213Z"
   },
   {
    "duration": 27,
    "start_time": "2023-07-01T18:20:54.298Z"
   },
   {
    "duration": 57,
    "start_time": "2023-07-01T18:20:54.327Z"
   },
   {
    "duration": 27,
    "start_time": "2023-07-01T18:20:54.385Z"
   },
   {
    "duration": 32,
    "start_time": "2023-07-01T18:20:54.414Z"
   },
   {
    "duration": 42,
    "start_time": "2023-07-01T18:20:54.466Z"
   },
   {
    "duration": 86,
    "start_time": "2023-07-01T18:20:54.510Z"
   },
   {
    "duration": 46,
    "start_time": "2023-07-01T18:20:54.597Z"
   },
   {
    "duration": 14,
    "start_time": "2023-07-01T18:34:40.191Z"
   },
   {
    "duration": 8,
    "start_time": "2023-07-01T18:34:55.086Z"
   },
   {
    "duration": 10,
    "start_time": "2023-07-01T18:34:58.290Z"
   },
   {
    "duration": 10,
    "start_time": "2023-07-01T18:41:31.291Z"
   },
   {
    "duration": 44,
    "start_time": "2023-07-01T18:41:34.691Z"
   },
   {
    "duration": 10,
    "start_time": "2023-07-01T18:41:56.637Z"
   },
   {
    "duration": 69,
    "start_time": "2023-07-01T18:42:03.719Z"
   },
   {
    "duration": 16,
    "start_time": "2023-07-01T18:43:41.107Z"
   },
   {
    "duration": 10,
    "start_time": "2023-07-01T18:44:04.758Z"
   },
   {
    "duration": 7,
    "start_time": "2023-07-01T18:44:09.509Z"
   },
   {
    "duration": 9,
    "start_time": "2023-07-01T18:44:26.748Z"
   },
   {
    "duration": 19,
    "start_time": "2023-07-01T18:45:33.918Z"
   },
   {
    "duration": 13,
    "start_time": "2023-07-01T18:46:02.928Z"
   },
   {
    "duration": 16,
    "start_time": "2023-07-01T18:47:31.590Z"
   },
   {
    "duration": 15,
    "start_time": "2023-07-01T18:47:40.738Z"
   },
   {
    "duration": 15,
    "start_time": "2023-07-01T18:47:48.708Z"
   },
   {
    "duration": 24,
    "start_time": "2023-07-01T18:48:42.188Z"
   },
   {
    "duration": 24,
    "start_time": "2023-07-01T18:49:32.003Z"
   },
   {
    "duration": 20,
    "start_time": "2023-07-01T18:49:35.128Z"
   },
   {
    "duration": 18,
    "start_time": "2023-07-01T18:49:45.597Z"
   },
   {
    "duration": 23,
    "start_time": "2023-07-01T18:49:56.507Z"
   },
   {
    "duration": 1515,
    "start_time": "2023-07-01T18:51:05.599Z"
   },
   {
    "duration": 7,
    "start_time": "2023-07-01T18:53:07.782Z"
   },
   {
    "duration": 59,
    "start_time": "2023-07-01T18:53:11.256Z"
   },
   {
    "duration": 9,
    "start_time": "2023-07-01T18:53:51.284Z"
   },
   {
    "duration": 51,
    "start_time": "2023-07-01T18:53:54.593Z"
   },
   {
    "duration": 35,
    "start_time": "2023-07-01T18:54:09.837Z"
   },
   {
    "duration": 17,
    "start_time": "2023-07-01T18:54:41.357Z"
   },
   {
    "duration": 24,
    "start_time": "2023-07-01T18:57:46.597Z"
   },
   {
    "duration": 9,
    "start_time": "2023-07-01T18:59:00.894Z"
   },
   {
    "duration": 47,
    "start_time": "2023-07-01T18:59:06.449Z"
   },
   {
    "duration": 49,
    "start_time": "2023-07-01T18:59:11.391Z"
   },
   {
    "duration": 22,
    "start_time": "2023-07-01T18:59:53.626Z"
   },
   {
    "duration": 7,
    "start_time": "2023-07-01T19:00:25.410Z"
   },
   {
    "duration": 51,
    "start_time": "2023-07-01T19:00:27.026Z"
   },
   {
    "duration": 81,
    "start_time": "2023-07-01T19:00:29.173Z"
   },
   {
    "duration": 84,
    "start_time": "2023-07-01T19:03:00.926Z"
   },
   {
    "duration": 54,
    "start_time": "2023-07-01T19:03:14.946Z"
   },
   {
    "duration": 50,
    "start_time": "2023-07-01T19:03:20.317Z"
   },
   {
    "duration": 77,
    "start_time": "2023-07-01T19:03:26.625Z"
   },
   {
    "duration": 84,
    "start_time": "2023-07-01T19:03:34.310Z"
   },
   {
    "duration": 68,
    "start_time": "2023-07-01T19:04:06.993Z"
   },
   {
    "duration": 64,
    "start_time": "2023-07-01T19:04:11.120Z"
   },
   {
    "duration": 88,
    "start_time": "2023-07-01T19:04:19.338Z"
   },
   {
    "duration": 81,
    "start_time": "2023-07-01T19:04:24.509Z"
   },
   {
    "duration": 64,
    "start_time": "2023-07-01T19:04:33.638Z"
   },
   {
    "duration": 97,
    "start_time": "2023-07-01T19:04:43.593Z"
   },
   {
    "duration": 44,
    "start_time": "2023-07-01T19:05:26.501Z"
   },
   {
    "duration": 52,
    "start_time": "2023-07-01T19:05:34.428Z"
   },
   {
    "duration": 67,
    "start_time": "2023-07-01T19:05:43.219Z"
   },
   {
    "duration": 49,
    "start_time": "2023-07-01T19:05:56.558Z"
   },
   {
    "duration": 61,
    "start_time": "2023-07-01T19:09:10.058Z"
   },
   {
    "duration": 31,
    "start_time": "2023-07-01T19:10:35.041Z"
   },
   {
    "duration": 49,
    "start_time": "2023-07-01T19:15:47.238Z"
   },
   {
    "duration": 87,
    "start_time": "2023-07-01T19:44:26.939Z"
   },
   {
    "duration": 20,
    "start_time": "2023-07-01T19:48:22.409Z"
   },
   {
    "duration": 17,
    "start_time": "2023-07-01T19:48:31.500Z"
   },
   {
    "duration": 12,
    "start_time": "2023-07-01T19:50:32.530Z"
   },
   {
    "duration": 22,
    "start_time": "2023-07-01T19:51:45.487Z"
   },
   {
    "duration": 12,
    "start_time": "2023-07-01T19:51:47.018Z"
   },
   {
    "duration": 21,
    "start_time": "2023-07-01T19:52:47.197Z"
   },
   {
    "duration": 21,
    "start_time": "2023-07-01T19:53:03.440Z"
   },
   {
    "duration": 18,
    "start_time": "2023-07-01T19:53:11.422Z"
   },
   {
    "duration": 24,
    "start_time": "2023-07-01T19:53:18.098Z"
   },
   {
    "duration": 21,
    "start_time": "2023-07-01T19:53:40.070Z"
   },
   {
    "duration": 22,
    "start_time": "2023-07-01T19:53:45.110Z"
   },
   {
    "duration": 18,
    "start_time": "2023-07-01T19:53:49.003Z"
   },
   {
    "duration": 16,
    "start_time": "2023-07-01T19:53:56.479Z"
   },
   {
    "duration": 6,
    "start_time": "2023-07-01T19:54:04.106Z"
   },
   {
    "duration": 9,
    "start_time": "2023-07-01T19:54:06.649Z"
   },
   {
    "duration": 11,
    "start_time": "2023-07-01T19:54:17.616Z"
   },
   {
    "duration": 9,
    "start_time": "2023-07-01T19:54:39.659Z"
   },
   {
    "duration": 42,
    "start_time": "2023-07-01T19:58:49.739Z"
   },
   {
    "duration": 13,
    "start_time": "2023-07-01T19:59:25.248Z"
   },
   {
    "duration": 38,
    "start_time": "2023-07-01T19:59:54.520Z"
   },
   {
    "duration": 30,
    "start_time": "2023-07-01T20:00:19.919Z"
   },
   {
    "duration": 17,
    "start_time": "2023-07-01T20:06:00.853Z"
   },
   {
    "duration": 21,
    "start_time": "2023-07-01T20:06:02.681Z"
   },
   {
    "duration": 16,
    "start_time": "2023-07-01T20:07:05.849Z"
   },
   {
    "duration": 17,
    "start_time": "2023-07-01T20:09:10.656Z"
   },
   {
    "duration": 24,
    "start_time": "2023-07-01T20:10:43.249Z"
   },
   {
    "duration": 16,
    "start_time": "2023-07-01T20:11:26.032Z"
   },
   {
    "duration": 1185,
    "start_time": "2023-07-01T20:14:27.048Z"
   },
   {
    "duration": 63,
    "start_time": "2023-07-01T20:14:50.321Z"
   },
   {
    "duration": 26,
    "start_time": "2023-07-01T20:15:00.098Z"
   },
   {
    "duration": 6,
    "start_time": "2023-07-01T20:20:47.619Z"
   },
   {
    "duration": 5,
    "start_time": "2023-07-01T20:21:17.838Z"
   },
   {
    "duration": 17,
    "start_time": "2023-07-01T20:22:17.839Z"
   },
   {
    "duration": 22,
    "start_time": "2023-07-01T20:22:24.580Z"
   },
   {
    "duration": 15,
    "start_time": "2023-07-01T20:22:37.090Z"
   },
   {
    "duration": 14,
    "start_time": "2023-07-01T20:22:49.408Z"
   },
   {
    "duration": 8,
    "start_time": "2023-07-01T20:23:12.846Z"
   },
   {
    "duration": 7,
    "start_time": "2023-07-01T20:23:30.230Z"
   },
   {
    "duration": 6,
    "start_time": "2023-07-01T20:24:47.450Z"
   },
   {
    "duration": 11,
    "start_time": "2023-07-01T20:32:17.283Z"
   },
   {
    "duration": 11,
    "start_time": "2023-07-01T20:32:24.401Z"
   },
   {
    "duration": 19,
    "start_time": "2023-07-01T20:33:02.346Z"
   },
   {
    "duration": 15,
    "start_time": "2023-07-01T20:33:36.809Z"
   },
   {
    "duration": 11,
    "start_time": "2023-07-01T20:34:21.074Z"
   },
   {
    "duration": 15,
    "start_time": "2023-07-01T20:34:40.153Z"
   },
   {
    "duration": 14,
    "start_time": "2023-07-01T20:34:59.077Z"
   },
   {
    "duration": 1552,
    "start_time": "2023-07-02T10:34:07.915Z"
   },
   {
    "duration": 99,
    "start_time": "2023-07-02T10:34:09.470Z"
   },
   {
    "duration": 18,
    "start_time": "2023-07-02T10:34:09.571Z"
   },
   {
    "duration": 4,
    "start_time": "2023-07-02T10:34:09.591Z"
   },
   {
    "duration": 12,
    "start_time": "2023-07-02T10:34:09.598Z"
   },
   {
    "duration": 10,
    "start_time": "2023-07-02T10:34:09.612Z"
   },
   {
    "duration": 46,
    "start_time": "2023-07-02T10:34:09.624Z"
   },
   {
    "duration": 15,
    "start_time": "2023-07-02T10:34:09.672Z"
   },
   {
    "duration": 12,
    "start_time": "2023-07-02T10:34:09.689Z"
   },
   {
    "duration": 19,
    "start_time": "2023-07-02T10:34:09.703Z"
   },
   {
    "duration": 43,
    "start_time": "2023-07-02T10:34:09.724Z"
   },
   {
    "duration": 5,
    "start_time": "2023-07-02T10:34:09.769Z"
   },
   {
    "duration": 29,
    "start_time": "2023-07-02T10:34:09.776Z"
   },
   {
    "duration": 7,
    "start_time": "2023-07-02T10:34:09.810Z"
   },
   {
    "duration": 25,
    "start_time": "2023-07-02T10:34:09.819Z"
   },
   {
    "duration": 26,
    "start_time": "2023-07-02T10:34:09.846Z"
   },
   {
    "duration": 30,
    "start_time": "2023-07-02T10:34:09.874Z"
   },
   {
    "duration": 5,
    "start_time": "2023-07-02T10:34:09.906Z"
   },
   {
    "duration": 5,
    "start_time": "2023-07-02T10:34:09.912Z"
   },
   {
    "duration": 8,
    "start_time": "2023-07-02T10:34:09.919Z"
   },
   {
    "duration": 53,
    "start_time": "2023-07-02T10:34:09.929Z"
   },
   {
    "duration": 7,
    "start_time": "2023-07-02T10:34:09.984Z"
   },
   {
    "duration": 8,
    "start_time": "2023-07-02T10:34:09.993Z"
   },
   {
    "duration": 289,
    "start_time": "2023-07-02T10:34:10.003Z"
   },
   {
    "duration": 1329,
    "start_time": "2023-07-02T10:37:18.472Z"
   },
   {
    "duration": 124,
    "start_time": "2023-07-02T10:37:19.804Z"
   },
   {
    "duration": 18,
    "start_time": "2023-07-02T10:37:19.931Z"
   },
   {
    "duration": 10,
    "start_time": "2023-07-02T10:37:19.951Z"
   },
   {
    "duration": 24,
    "start_time": "2023-07-02T10:37:19.965Z"
   },
   {
    "duration": 8,
    "start_time": "2023-07-02T10:37:19.991Z"
   },
   {
    "duration": 13,
    "start_time": "2023-07-02T10:37:20.000Z"
   },
   {
    "duration": 15,
    "start_time": "2023-07-02T10:37:20.015Z"
   },
   {
    "duration": 12,
    "start_time": "2023-07-02T10:37:20.032Z"
   },
   {
    "duration": 22,
    "start_time": "2023-07-02T10:37:20.054Z"
   },
   {
    "duration": 19,
    "start_time": "2023-07-02T10:37:20.078Z"
   },
   {
    "duration": 4,
    "start_time": "2023-07-02T10:37:20.099Z"
   },
   {
    "duration": 52,
    "start_time": "2023-07-02T10:37:20.105Z"
   },
   {
    "duration": 22,
    "start_time": "2023-07-02T10:37:20.167Z"
   },
   {
    "duration": 21,
    "start_time": "2023-07-02T10:37:20.191Z"
   },
   {
    "duration": 7,
    "start_time": "2023-07-02T10:37:20.214Z"
   },
   {
    "duration": 44,
    "start_time": "2023-07-02T10:37:20.223Z"
   },
   {
    "duration": 7,
    "start_time": "2023-07-02T10:37:20.273Z"
   },
   {
    "duration": 7,
    "start_time": "2023-07-02T10:37:20.282Z"
   },
   {
    "duration": 12,
    "start_time": "2023-07-02T10:37:20.291Z"
   },
   {
    "duration": 60,
    "start_time": "2023-07-02T10:37:20.305Z"
   },
   {
    "duration": 7,
    "start_time": "2023-07-02T10:37:20.367Z"
   },
   {
    "duration": 14,
    "start_time": "2023-07-02T10:37:20.376Z"
   },
   {
    "duration": 312,
    "start_time": "2023-07-02T10:37:20.392Z"
   },
   {
    "duration": 150,
    "start_time": "2023-07-02T10:37:20.707Z"
   },
   {
    "duration": 100,
    "start_time": "2023-07-02T10:37:20.859Z"
   },
   {
    "duration": 37,
    "start_time": "2023-07-02T10:37:20.966Z"
   },
   {
    "duration": 89,
    "start_time": "2023-07-02T10:37:21.005Z"
   },
   {
    "duration": 60,
    "start_time": "2023-07-02T10:37:21.096Z"
   },
   {
    "duration": 45,
    "start_time": "2023-07-02T10:37:21.157Z"
   },
   {
    "duration": 72,
    "start_time": "2023-07-02T10:37:21.205Z"
   },
   {
    "duration": 32,
    "start_time": "2023-07-02T10:37:21.279Z"
   },
   {
    "duration": 91,
    "start_time": "2023-07-02T10:37:21.313Z"
   },
   {
    "duration": 0,
    "start_time": "2023-07-02T10:37:21.406Z"
   },
   {
    "duration": 0,
    "start_time": "2023-07-02T10:37:21.407Z"
   },
   {
    "duration": 0,
    "start_time": "2023-07-02T10:37:21.408Z"
   },
   {
    "duration": 0,
    "start_time": "2023-07-02T10:37:21.410Z"
   },
   {
    "duration": 0,
    "start_time": "2023-07-02T10:37:21.411Z"
   },
   {
    "duration": 0,
    "start_time": "2023-07-02T10:37:21.412Z"
   },
   {
    "duration": 0,
    "start_time": "2023-07-02T10:37:21.412Z"
   },
   {
    "duration": 0,
    "start_time": "2023-07-02T10:37:21.414Z"
   },
   {
    "duration": 4,
    "start_time": "2023-07-02T11:01:57.790Z"
   },
   {
    "duration": 150,
    "start_time": "2023-07-02T11:02:03.619Z"
   },
   {
    "duration": 4,
    "start_time": "2023-07-02T11:02:12.511Z"
   },
   {
    "duration": 325,
    "start_time": "2023-07-02T11:02:14.235Z"
   },
   {
    "duration": 6,
    "start_time": "2023-07-02T11:04:24.739Z"
   },
   {
    "duration": 60,
    "start_time": "2023-07-02T11:04:27.302Z"
   },
   {
    "duration": 7,
    "start_time": "2023-07-02T11:04:48.600Z"
   },
   {
    "duration": 46,
    "start_time": "2023-07-02T11:04:51.198Z"
   },
   {
    "duration": 284,
    "start_time": "2023-07-02T11:07:55.940Z"
   },
   {
    "duration": 27,
    "start_time": "2023-07-02T11:09:20.810Z"
   },
   {
    "duration": 43,
    "start_time": "2023-07-02T11:09:22.647Z"
   },
   {
    "duration": 28,
    "start_time": "2023-07-02T11:09:25.190Z"
   },
   {
    "duration": 52,
    "start_time": "2023-07-02T11:09:27.616Z"
   },
   {
    "duration": 59,
    "start_time": "2023-07-02T11:09:29.237Z"
   },
   {
    "duration": 45,
    "start_time": "2023-07-02T11:09:31.164Z"
   },
   {
    "duration": 10,
    "start_time": "2023-07-02T11:16:17.207Z"
   },
   {
    "duration": 1805,
    "start_time": "2023-07-02T11:16:18.190Z"
   },
   {
    "duration": 29,
    "start_time": "2023-07-02T11:17:22.095Z"
   },
   {
    "duration": 13,
    "start_time": "2023-07-02T11:17:33.649Z"
   },
   {
    "duration": 5,
    "start_time": "2023-07-02T11:17:38.815Z"
   },
   {
    "duration": 104,
    "start_time": "2023-07-02T11:58:12.505Z"
   },
   {
    "duration": 7,
    "start_time": "2023-07-02T11:58:20.440Z"
   },
   {
    "duration": 28,
    "start_time": "2023-07-02T11:58:24.235Z"
   },
   {
    "duration": 40,
    "start_time": "2023-07-02T12:05:34.203Z"
   },
   {
    "duration": 44,
    "start_time": "2023-07-02T12:05:43.220Z"
   },
   {
    "duration": 11,
    "start_time": "2023-07-02T12:05:59.309Z"
   },
   {
    "duration": 37,
    "start_time": "2023-07-02T12:06:03.541Z"
   },
   {
    "duration": 30,
    "start_time": "2023-07-02T12:08:01.837Z"
   },
   {
    "duration": 12,
    "start_time": "2023-07-02T12:08:07.294Z"
   },
   {
    "duration": 11,
    "start_time": "2023-07-02T12:08:46.215Z"
   },
   {
    "duration": 8,
    "start_time": "2023-07-02T12:10:10.699Z"
   },
   {
    "duration": 6,
    "start_time": "2023-07-02T12:10:24.253Z"
   },
   {
    "duration": 75,
    "start_time": "2023-07-02T12:12:53.973Z"
   },
   {
    "duration": 6,
    "start_time": "2023-07-02T12:13:05.900Z"
   },
   {
    "duration": 128,
    "start_time": "2023-07-02T12:13:29.600Z"
   },
   {
    "duration": 6,
    "start_time": "2023-07-02T12:13:43.119Z"
   },
   {
    "duration": 16,
    "start_time": "2023-07-02T12:13:54.179Z"
   },
   {
    "duration": 12,
    "start_time": "2023-07-02T12:13:59.872Z"
   },
   {
    "duration": 17,
    "start_time": "2023-07-02T12:14:44.807Z"
   },
   {
    "duration": 13,
    "start_time": "2023-07-02T12:14:55.838Z"
   },
   {
    "duration": 22,
    "start_time": "2023-07-02T12:16:38.455Z"
   },
   {
    "duration": 17,
    "start_time": "2023-07-02T12:16:42.739Z"
   },
   {
    "duration": 7,
    "start_time": "2023-07-02T12:17:40.088Z"
   },
   {
    "duration": 18,
    "start_time": "2023-07-02T12:18:21.193Z"
   },
   {
    "duration": 8,
    "start_time": "2023-07-02T12:18:22.549Z"
   },
   {
    "duration": 12,
    "start_time": "2023-07-02T12:18:47.227Z"
   },
   {
    "duration": 11,
    "start_time": "2023-07-02T12:18:49.147Z"
   },
   {
    "duration": 12,
    "start_time": "2023-07-02T12:19:25.221Z"
   },
   {
    "duration": 6,
    "start_time": "2023-07-02T12:19:26.798Z"
   },
   {
    "duration": 19,
    "start_time": "2023-07-02T12:19:35.895Z"
   },
   {
    "duration": 5,
    "start_time": "2023-07-02T12:19:38.995Z"
   },
   {
    "duration": 7,
    "start_time": "2023-07-02T12:20:23.226Z"
   },
   {
    "duration": 13,
    "start_time": "2023-07-02T12:23:23.619Z"
   },
   {
    "duration": 9,
    "start_time": "2023-07-02T12:23:25.098Z"
   },
   {
    "duration": 13,
    "start_time": "2023-07-02T12:23:39.619Z"
   },
   {
    "duration": 13,
    "start_time": "2023-07-02T12:23:40.994Z"
   },
   {
    "duration": 5,
    "start_time": "2023-07-02T12:23:42.530Z"
   },
   {
    "duration": 14,
    "start_time": "2023-07-02T12:23:44.026Z"
   },
   {
    "duration": 5,
    "start_time": "2023-07-02T12:23:46.597Z"
   },
   {
    "duration": 12,
    "start_time": "2023-07-02T12:24:15.799Z"
   },
   {
    "duration": 6,
    "start_time": "2023-07-02T12:24:16.809Z"
   },
   {
    "duration": 19,
    "start_time": "2023-07-02T12:24:22.270Z"
   },
   {
    "duration": 6,
    "start_time": "2023-07-02T12:24:23.293Z"
   },
   {
    "duration": 17,
    "start_time": "2023-07-02T12:24:36.080Z"
   },
   {
    "duration": 8,
    "start_time": "2023-07-02T12:24:37.708Z"
   },
   {
    "duration": 25,
    "start_time": "2023-07-02T12:24:50.963Z"
   },
   {
    "duration": 6,
    "start_time": "2023-07-02T12:24:53.207Z"
   },
   {
    "duration": 13,
    "start_time": "2023-07-02T12:24:55.027Z"
   },
   {
    "duration": 7,
    "start_time": "2023-07-02T12:24:56.938Z"
   },
   {
    "duration": 22,
    "start_time": "2023-07-02T12:25:12.919Z"
   },
   {
    "duration": 7,
    "start_time": "2023-07-02T12:25:14.228Z"
   },
   {
    "duration": 11,
    "start_time": "2023-07-02T12:25:23.203Z"
   },
   {
    "duration": 11,
    "start_time": "2023-07-02T12:25:29.676Z"
   },
   {
    "duration": 13,
    "start_time": "2023-07-02T12:25:30.866Z"
   },
   {
    "duration": 23,
    "start_time": "2023-07-02T12:25:36.247Z"
   },
   {
    "duration": 21,
    "start_time": "2023-07-02T12:25:37.816Z"
   },
   {
    "duration": 6,
    "start_time": "2023-07-02T12:25:40.659Z"
   },
   {
    "duration": 20,
    "start_time": "2023-07-02T12:25:53.574Z"
   },
   {
    "duration": 15,
    "start_time": "2023-07-02T12:25:54.748Z"
   },
   {
    "duration": 6,
    "start_time": "2023-07-02T12:25:56.289Z"
   },
   {
    "duration": 5,
    "start_time": "2023-07-02T12:25:57.607Z"
   },
   {
    "duration": 21,
    "start_time": "2023-07-02T12:31:55.799Z"
   },
   {
    "duration": 21,
    "start_time": "2023-07-02T12:32:24.571Z"
   },
   {
    "duration": 5,
    "start_time": "2023-07-02T12:32:26.006Z"
   },
   {
    "duration": 8,
    "start_time": "2023-07-02T12:32:28.636Z"
   },
   {
    "duration": 11,
    "start_time": "2023-07-02T12:33:31.390Z"
   },
   {
    "duration": 12,
    "start_time": "2023-07-02T12:34:06.339Z"
   },
   {
    "duration": 22,
    "start_time": "2023-07-02T12:35:00.071Z"
   },
   {
    "duration": 5,
    "start_time": "2023-07-02T12:35:30.517Z"
   },
   {
    "duration": 23,
    "start_time": "2023-07-02T12:37:17.348Z"
   },
   {
    "duration": 13,
    "start_time": "2023-07-02T12:37:47.284Z"
   },
   {
    "duration": 5,
    "start_time": "2023-07-02T12:40:36.530Z"
   },
   {
    "duration": 1409,
    "start_time": "2023-07-02T12:40:44.398Z"
   },
   {
    "duration": 205,
    "start_time": "2023-07-02T12:40:45.811Z"
   },
   {
    "duration": 15,
    "start_time": "2023-07-02T12:40:46.018Z"
   },
   {
    "duration": 11,
    "start_time": "2023-07-02T12:40:46.036Z"
   },
   {
    "duration": 59,
    "start_time": "2023-07-02T12:40:46.051Z"
   },
   {
    "duration": 20,
    "start_time": "2023-07-02T12:40:46.112Z"
   },
   {
    "duration": 29,
    "start_time": "2023-07-02T12:40:46.134Z"
   },
   {
    "duration": 43,
    "start_time": "2023-07-02T12:40:46.169Z"
   },
   {
    "duration": 37,
    "start_time": "2023-07-02T12:40:46.215Z"
   },
   {
    "duration": 63,
    "start_time": "2023-07-02T12:40:46.254Z"
   },
   {
    "duration": 21,
    "start_time": "2023-07-02T12:40:46.320Z"
   },
   {
    "duration": 6,
    "start_time": "2023-07-02T12:40:46.344Z"
   },
   {
    "duration": 57,
    "start_time": "2023-07-02T12:40:46.360Z"
   },
   {
    "duration": 10,
    "start_time": "2023-07-02T12:40:46.421Z"
   },
   {
    "duration": 14,
    "start_time": "2023-07-02T12:40:46.434Z"
   },
   {
    "duration": 41,
    "start_time": "2023-07-02T12:40:46.451Z"
   },
   {
    "duration": 35,
    "start_time": "2023-07-02T12:40:46.496Z"
   },
   {
    "duration": 7,
    "start_time": "2023-07-02T12:40:46.533Z"
   },
   {
    "duration": 15,
    "start_time": "2023-07-02T12:40:46.542Z"
   },
   {
    "duration": 42,
    "start_time": "2023-07-02T12:40:46.562Z"
   },
   {
    "duration": 36,
    "start_time": "2023-07-02T12:40:46.606Z"
   },
   {
    "duration": 10,
    "start_time": "2023-07-02T12:40:46.645Z"
   },
   {
    "duration": 41,
    "start_time": "2023-07-02T12:40:46.657Z"
   },
   {
    "duration": 312,
    "start_time": "2023-07-02T12:40:46.700Z"
   },
   {
    "duration": 147,
    "start_time": "2023-07-02T12:40:47.015Z"
   },
   {
    "duration": 109,
    "start_time": "2023-07-02T12:40:47.164Z"
   },
   {
    "duration": 77,
    "start_time": "2023-07-02T12:40:47.279Z"
   },
   {
    "duration": 71,
    "start_time": "2023-07-02T12:40:47.362Z"
   },
   {
    "duration": 62,
    "start_time": "2023-07-02T12:40:47.435Z"
   },
   {
    "duration": 58,
    "start_time": "2023-07-02T12:40:47.499Z"
   },
   {
    "duration": 44,
    "start_time": "2023-07-02T12:40:47.561Z"
   },
   {
    "duration": 83,
    "start_time": "2023-07-02T12:40:47.608Z"
   },
   {
    "duration": 30,
    "start_time": "2023-07-02T12:40:47.694Z"
   },
   {
    "duration": 60,
    "start_time": "2023-07-02T12:40:47.726Z"
   },
   {
    "duration": 45,
    "start_time": "2023-07-02T12:40:47.790Z"
   },
   {
    "duration": 61,
    "start_time": "2023-07-02T12:40:47.854Z"
   },
   {
    "duration": 122,
    "start_time": "2023-07-02T12:40:47.917Z"
   },
   {
    "duration": 110,
    "start_time": "2023-07-02T12:40:48.042Z"
   },
   {
    "duration": 21,
    "start_time": "2023-07-02T12:40:48.155Z"
   },
   {
    "duration": 46,
    "start_time": "2023-07-02T12:40:48.180Z"
   },
   {
    "duration": 6,
    "start_time": "2023-07-02T12:40:48.231Z"
   },
   {
    "duration": 64,
    "start_time": "2023-07-02T12:40:48.258Z"
   },
   {
    "duration": 26,
    "start_time": "2023-07-02T12:40:48.324Z"
   },
   {
    "duration": 45,
    "start_time": "2023-07-02T12:45:57.406Z"
   },
   {
    "duration": 12,
    "start_time": "2023-07-02T12:46:08.136Z"
   },
   {
    "duration": 12,
    "start_time": "2023-07-02T12:46:27.236Z"
   },
   {
    "duration": 17,
    "start_time": "2023-07-02T12:46:29.002Z"
   },
   {
    "duration": 86,
    "start_time": "2023-07-02T12:47:50.540Z"
   },
   {
    "duration": 70,
    "start_time": "2023-07-02T12:48:00.910Z"
   },
   {
    "duration": 15,
    "start_time": "2023-07-02T12:48:09.404Z"
   },
   {
    "duration": 15,
    "start_time": "2023-07-02T12:48:21.826Z"
   },
   {
    "duration": 27,
    "start_time": "2023-07-02T12:48:27.145Z"
   },
   {
    "duration": 18,
    "start_time": "2023-07-02T12:48:36.599Z"
   },
   {
    "duration": 23,
    "start_time": "2023-07-02T12:48:54.027Z"
   },
   {
    "duration": 15,
    "start_time": "2023-07-02T12:49:06.082Z"
   },
   {
    "duration": 15,
    "start_time": "2023-07-02T12:49:08.035Z"
   },
   {
    "duration": 32,
    "start_time": "2023-07-02T12:49:56.486Z"
   },
   {
    "duration": 32,
    "start_time": "2023-07-02T12:50:10.838Z"
   },
   {
    "duration": 37,
    "start_time": "2023-07-02T12:50:20.250Z"
   },
   {
    "duration": 21,
    "start_time": "2023-07-02T12:50:34.548Z"
   },
   {
    "duration": 25,
    "start_time": "2023-07-02T12:50:39.936Z"
   },
   {
    "duration": 11,
    "start_time": "2023-07-02T12:51:03.196Z"
   },
   {
    "duration": 13,
    "start_time": "2023-07-02T12:51:05.139Z"
   },
   {
    "duration": 16,
    "start_time": "2023-07-02T12:51:23.619Z"
   },
   {
    "duration": 14,
    "start_time": "2023-07-02T12:51:25.112Z"
   },
   {
    "duration": 12,
    "start_time": "2023-07-02T12:52:14.599Z"
   },
   {
    "duration": 17,
    "start_time": "2023-07-02T12:52:21.671Z"
   },
   {
    "duration": 16,
    "start_time": "2023-07-02T12:53:16.304Z"
   },
   {
    "duration": 17,
    "start_time": "2023-07-02T12:53:25.108Z"
   },
   {
    "duration": 15,
    "start_time": "2023-07-02T12:53:29.311Z"
   },
   {
    "duration": 15,
    "start_time": "2023-07-02T12:53:37.319Z"
   },
   {
    "duration": 16,
    "start_time": "2023-07-02T12:53:55.275Z"
   },
   {
    "duration": 15,
    "start_time": "2023-07-02T12:53:56.390Z"
   },
   {
    "duration": 13,
    "start_time": "2023-07-02T12:54:03.208Z"
   },
   {
    "duration": 17,
    "start_time": "2023-07-02T12:54:56.442Z"
   },
   {
    "duration": 20,
    "start_time": "2023-07-02T12:55:18.537Z"
   },
   {
    "duration": 13,
    "start_time": "2023-07-02T12:55:28.120Z"
   },
   {
    "duration": 15,
    "start_time": "2023-07-02T12:55:32.100Z"
   },
   {
    "duration": 14,
    "start_time": "2023-07-02T12:55:59.675Z"
   },
   {
    "duration": 13,
    "start_time": "2023-07-02T12:56:04.519Z"
   },
   {
    "duration": 14,
    "start_time": "2023-07-02T12:56:15.000Z"
   },
   {
    "duration": 29,
    "start_time": "2023-07-02T12:56:24.644Z"
   },
   {
    "duration": 17,
    "start_time": "2023-07-02T12:56:38.964Z"
   },
   {
    "duration": 13,
    "start_time": "2023-07-02T12:56:43.075Z"
   },
   {
    "duration": 22,
    "start_time": "2023-07-02T12:56:56.551Z"
   },
   {
    "duration": 25,
    "start_time": "2023-07-02T12:56:59.361Z"
   },
   {
    "duration": 14,
    "start_time": "2023-07-02T12:57:15.804Z"
   },
   {
    "duration": 12,
    "start_time": "2023-07-02T12:57:34.023Z"
   },
   {
    "duration": 23,
    "start_time": "2023-07-02T12:57:37.874Z"
   },
   {
    "duration": 84,
    "start_time": "2023-07-02T12:58:01.304Z"
   },
   {
    "duration": 161,
    "start_time": "2023-07-02T12:58:17.099Z"
   },
   {
    "duration": 24,
    "start_time": "2023-07-02T12:58:26.180Z"
   },
   {
    "duration": 16,
    "start_time": "2023-07-02T12:58:39.875Z"
   },
   {
    "duration": 18,
    "start_time": "2023-07-02T12:58:45.616Z"
   },
   {
    "duration": 28,
    "start_time": "2023-07-02T12:58:51.942Z"
   },
   {
    "duration": 16,
    "start_time": "2023-07-02T12:59:17.474Z"
   },
   {
    "duration": 22,
    "start_time": "2023-07-02T12:59:20.446Z"
   },
   {
    "duration": 23,
    "start_time": "2023-07-02T12:59:34.552Z"
   },
   {
    "duration": 22,
    "start_time": "2023-07-02T12:59:44.340Z"
   },
   {
    "duration": 23,
    "start_time": "2023-07-02T13:00:24.444Z"
   },
   {
    "duration": 27,
    "start_time": "2023-07-02T13:00:38.748Z"
   },
   {
    "duration": 19,
    "start_time": "2023-07-02T13:01:08.873Z"
   },
   {
    "duration": 18,
    "start_time": "2023-07-02T13:01:11.840Z"
   },
   {
    "duration": 16,
    "start_time": "2023-07-02T13:03:52.401Z"
   },
   {
    "duration": 22,
    "start_time": "2023-07-02T13:03:55.851Z"
   },
   {
    "duration": 19,
    "start_time": "2023-07-02T13:04:34.149Z"
   },
   {
    "duration": 20,
    "start_time": "2023-07-02T13:04:45.772Z"
   },
   {
    "duration": 16,
    "start_time": "2023-07-02T13:04:55.104Z"
   },
   {
    "duration": 18,
    "start_time": "2023-07-02T13:04:58.800Z"
   },
   {
    "duration": 23,
    "start_time": "2023-07-02T13:05:03.525Z"
   },
   {
    "duration": 13,
    "start_time": "2023-07-02T13:06:05.700Z"
   },
   {
    "duration": 17,
    "start_time": "2023-07-02T13:06:07.379Z"
   },
   {
    "duration": 22,
    "start_time": "2023-07-02T13:07:57.668Z"
   },
   {
    "duration": 21,
    "start_time": "2023-07-02T13:08:00.129Z"
   },
   {
    "duration": 22,
    "start_time": "2023-07-02T13:08:05.304Z"
   },
   {
    "duration": 21,
    "start_time": "2023-07-02T13:08:06.349Z"
   },
   {
    "duration": 26,
    "start_time": "2023-07-02T13:08:09.637Z"
   },
   {
    "duration": 18,
    "start_time": "2023-07-02T13:08:13.101Z"
   },
   {
    "duration": 17,
    "start_time": "2023-07-02T13:08:13.913Z"
   },
   {
    "duration": 15,
    "start_time": "2023-07-02T13:09:27.104Z"
   },
   {
    "duration": 13,
    "start_time": "2023-07-02T13:09:37.797Z"
   },
   {
    "duration": 16,
    "start_time": "2023-07-02T13:09:46.416Z"
   },
   {
    "duration": 14,
    "start_time": "2023-07-02T13:10:00.920Z"
   },
   {
    "duration": 20,
    "start_time": "2023-07-02T13:11:54.363Z"
   },
   {
    "duration": 15,
    "start_time": "2023-07-02T13:12:03.505Z"
   },
   {
    "duration": 24,
    "start_time": "2023-07-02T13:12:14.648Z"
   },
   {
    "duration": 14,
    "start_time": "2023-07-02T13:12:17.521Z"
   },
   {
    "duration": 19,
    "start_time": "2023-07-02T13:14:58.910Z"
   },
   {
    "duration": 21,
    "start_time": "2023-07-02T13:15:02.876Z"
   },
   {
    "duration": 1283,
    "start_time": "2023-07-02T14:00:49.205Z"
   },
   {
    "duration": 151,
    "start_time": "2023-07-02T14:00:50.493Z"
   },
   {
    "duration": 17,
    "start_time": "2023-07-02T14:00:50.645Z"
   },
   {
    "duration": 28,
    "start_time": "2023-07-02T14:00:50.664Z"
   },
   {
    "duration": 10,
    "start_time": "2023-07-02T14:00:50.695Z"
   },
   {
    "duration": 8,
    "start_time": "2023-07-02T14:00:50.707Z"
   },
   {
    "duration": 11,
    "start_time": "2023-07-02T14:00:50.718Z"
   },
   {
    "duration": 9,
    "start_time": "2023-07-02T14:00:50.730Z"
   },
   {
    "duration": 55,
    "start_time": "2023-07-02T14:00:50.741Z"
   },
   {
    "duration": 49,
    "start_time": "2023-07-02T14:00:50.798Z"
   },
   {
    "duration": 32,
    "start_time": "2023-07-02T14:00:50.849Z"
   },
   {
    "duration": 13,
    "start_time": "2023-07-02T14:00:50.887Z"
   },
   {
    "duration": 19,
    "start_time": "2023-07-02T14:00:50.902Z"
   },
   {
    "duration": 6,
    "start_time": "2023-07-02T14:00:50.925Z"
   },
   {
    "duration": 10,
    "start_time": "2023-07-02T14:00:50.933Z"
   },
   {
    "duration": 45,
    "start_time": "2023-07-02T14:00:50.945Z"
   },
   {
    "duration": 31,
    "start_time": "2023-07-02T14:00:50.992Z"
   },
   {
    "duration": 6,
    "start_time": "2023-07-02T14:00:51.025Z"
   },
   {
    "duration": 9,
    "start_time": "2023-07-02T14:00:51.032Z"
   },
   {
    "duration": 6,
    "start_time": "2023-07-02T14:00:51.042Z"
   },
   {
    "duration": 62,
    "start_time": "2023-07-02T14:00:51.050Z"
   },
   {
    "duration": 6,
    "start_time": "2023-07-02T14:00:51.114Z"
   },
   {
    "duration": 10,
    "start_time": "2023-07-02T14:00:51.121Z"
   },
   {
    "duration": 272,
    "start_time": "2023-07-02T14:00:51.133Z"
   },
   {
    "duration": 147,
    "start_time": "2023-07-02T14:00:51.407Z"
   },
   {
    "duration": 102,
    "start_time": "2023-07-02T14:00:51.556Z"
   },
   {
    "duration": 44,
    "start_time": "2023-07-02T14:00:51.667Z"
   },
   {
    "duration": 88,
    "start_time": "2023-07-02T14:00:51.713Z"
   },
   {
    "duration": 59,
    "start_time": "2023-07-02T14:00:51.802Z"
   },
   {
    "duration": 41,
    "start_time": "2023-07-02T14:00:51.862Z"
   },
   {
    "duration": 67,
    "start_time": "2023-07-02T14:00:51.905Z"
   },
   {
    "duration": 37,
    "start_time": "2023-07-02T14:00:51.976Z"
   },
   {
    "duration": 70,
    "start_time": "2023-07-02T14:00:52.016Z"
   },
   {
    "duration": 41,
    "start_time": "2023-07-02T14:00:52.088Z"
   },
   {
    "duration": 49,
    "start_time": "2023-07-02T14:00:52.131Z"
   },
   {
    "duration": 42,
    "start_time": "2023-07-02T14:00:52.182Z"
   },
   {
    "duration": 89,
    "start_time": "2023-07-02T14:00:52.226Z"
   },
   {
    "duration": 83,
    "start_time": "2023-07-02T14:00:52.317Z"
   },
   {
    "duration": 16,
    "start_time": "2023-07-02T14:00:52.402Z"
   },
   {
    "duration": 60,
    "start_time": "2023-07-02T14:00:52.420Z"
   },
   {
    "duration": 12,
    "start_time": "2023-07-02T14:00:52.485Z"
   },
   {
    "duration": 17,
    "start_time": "2023-07-02T14:00:52.498Z"
   },
   {
    "duration": 29,
    "start_time": "2023-07-02T14:00:52.516Z"
   },
   {
    "duration": 101,
    "start_time": "2023-07-02T14:06:50.847Z"
   },
   {
    "duration": 80,
    "start_time": "2023-07-02T14:06:56.170Z"
   },
   {
    "duration": 94,
    "start_time": "2023-07-02T14:07:01.948Z"
   },
   {
    "duration": 53,
    "start_time": "2023-07-02T14:07:44.738Z"
   },
   {
    "duration": 15,
    "start_time": "2023-07-02T14:08:20.512Z"
   },
   {
    "duration": 16,
    "start_time": "2023-07-02T14:09:13.340Z"
   },
   {
    "duration": 19,
    "start_time": "2023-07-02T14:09:28.430Z"
   },
   {
    "duration": 12,
    "start_time": "2023-07-02T14:09:30.326Z"
   },
   {
    "duration": 18,
    "start_time": "2023-07-02T14:09:37.320Z"
   },
   {
    "duration": 12,
    "start_time": "2023-07-02T14:09:38.896Z"
   },
   {
    "duration": 16,
    "start_time": "2023-07-02T14:10:15.874Z"
   },
   {
    "duration": 14,
    "start_time": "2023-07-02T14:10:27.720Z"
   },
   {
    "duration": 12,
    "start_time": "2023-07-02T14:10:56.500Z"
   },
   {
    "duration": 108,
    "start_time": "2023-07-02T14:11:27.140Z"
   },
   {
    "duration": 11,
    "start_time": "2023-07-02T14:12:10.300Z"
   },
   {
    "duration": 12,
    "start_time": "2023-07-02T14:12:34.016Z"
   },
   {
    "duration": 23,
    "start_time": "2023-07-02T14:13:01.347Z"
   },
   {
    "duration": 15,
    "start_time": "2023-07-02T14:13:28.432Z"
   },
   {
    "duration": 17,
    "start_time": "2023-07-02T14:14:21.471Z"
   },
   {
    "duration": 13,
    "start_time": "2023-07-02T14:14:28.204Z"
   },
   {
    "duration": 27,
    "start_time": "2023-07-02T14:17:17.291Z"
   },
   {
    "duration": 15,
    "start_time": "2023-07-02T14:18:11.098Z"
   },
   {
    "duration": 19,
    "start_time": "2023-07-02T14:18:14.379Z"
   },
   {
    "duration": 6,
    "start_time": "2023-07-02T14:18:30.912Z"
   },
   {
    "duration": 29,
    "start_time": "2023-07-02T14:19:04.051Z"
   },
   {
    "duration": 1279,
    "start_time": "2023-07-02T14:21:59.344Z"
   },
   {
    "duration": 160,
    "start_time": "2023-07-02T14:22:00.626Z"
   },
   {
    "duration": 16,
    "start_time": "2023-07-02T14:22:00.788Z"
   },
   {
    "duration": 33,
    "start_time": "2023-07-02T14:22:00.807Z"
   },
   {
    "duration": 35,
    "start_time": "2023-07-02T14:22:00.843Z"
   },
   {
    "duration": 31,
    "start_time": "2023-07-02T14:22:00.880Z"
   },
   {
    "duration": 48,
    "start_time": "2023-07-02T14:22:00.913Z"
   },
   {
    "duration": 47,
    "start_time": "2023-07-02T14:22:00.963Z"
   },
   {
    "duration": 64,
    "start_time": "2023-07-02T14:22:01.012Z"
   },
   {
    "duration": 41,
    "start_time": "2023-07-02T14:22:01.078Z"
   },
   {
    "duration": 50,
    "start_time": "2023-07-02T14:22:01.120Z"
   },
   {
    "duration": 29,
    "start_time": "2023-07-02T14:22:01.172Z"
   },
   {
    "duration": 56,
    "start_time": "2023-07-02T14:22:01.203Z"
   },
   {
    "duration": 46,
    "start_time": "2023-07-02T14:22:01.262Z"
   },
   {
    "duration": 25,
    "start_time": "2023-07-02T14:22:01.310Z"
   },
   {
    "duration": 52,
    "start_time": "2023-07-02T14:22:01.338Z"
   },
   {
    "duration": 41,
    "start_time": "2023-07-02T14:22:01.392Z"
   },
   {
    "duration": 12,
    "start_time": "2023-07-02T14:22:01.435Z"
   },
   {
    "duration": 46,
    "start_time": "2023-07-02T14:22:01.448Z"
   },
   {
    "duration": 32,
    "start_time": "2023-07-02T14:22:01.496Z"
   },
   {
    "duration": 86,
    "start_time": "2023-07-02T14:22:01.530Z"
   },
   {
    "duration": 22,
    "start_time": "2023-07-02T14:22:01.618Z"
   },
   {
    "duration": 51,
    "start_time": "2023-07-02T14:22:01.642Z"
   },
   {
    "duration": 306,
    "start_time": "2023-07-02T14:22:01.695Z"
   },
   {
    "duration": 161,
    "start_time": "2023-07-02T14:22:02.003Z"
   },
   {
    "duration": 94,
    "start_time": "2023-07-02T14:22:02.173Z"
   },
   {
    "duration": 44,
    "start_time": "2023-07-02T14:22:02.269Z"
   },
   {
    "duration": 81,
    "start_time": "2023-07-02T14:22:02.316Z"
   },
   {
    "duration": 72,
    "start_time": "2023-07-02T14:22:02.399Z"
   },
   {
    "duration": 71,
    "start_time": "2023-07-02T14:22:02.473Z"
   },
   {
    "duration": 38,
    "start_time": "2023-07-02T14:22:02.546Z"
   },
   {
    "duration": 36,
    "start_time": "2023-07-02T14:22:02.585Z"
   },
   {
    "duration": 61,
    "start_time": "2023-07-02T14:22:02.623Z"
   },
   {
    "duration": 104,
    "start_time": "2023-07-02T14:22:02.686Z"
   },
   {
    "duration": 111,
    "start_time": "2023-07-02T14:22:02.793Z"
   },
   {
    "duration": 84,
    "start_time": "2023-07-02T14:22:02.906Z"
   },
   {
    "duration": 70,
    "start_time": "2023-07-02T14:22:02.992Z"
   },
   {
    "duration": 52,
    "start_time": "2023-07-02T14:22:03.064Z"
   },
   {
    "duration": 57,
    "start_time": "2023-07-02T14:22:03.118Z"
   },
   {
    "duration": 17,
    "start_time": "2023-07-02T14:22:03.177Z"
   },
   {
    "duration": 5,
    "start_time": "2023-07-02T14:22:03.198Z"
   },
   {
    "duration": 39,
    "start_time": "2023-07-02T14:22:03.205Z"
   },
   {
    "duration": 33,
    "start_time": "2023-07-02T14:22:03.251Z"
   },
   {
    "duration": 12,
    "start_time": "2023-07-02T14:22:03.286Z"
   },
   {
    "duration": 23,
    "start_time": "2023-07-02T14:22:03.300Z"
   },
   {
    "duration": 1252,
    "start_time": "2023-07-02T14:31:32.635Z"
   },
   {
    "duration": 95,
    "start_time": "2023-07-02T14:31:33.889Z"
   },
   {
    "duration": 14,
    "start_time": "2023-07-02T14:31:33.985Z"
   },
   {
    "duration": 4,
    "start_time": "2023-07-02T14:31:34.001Z"
   },
   {
    "duration": 39,
    "start_time": "2023-07-02T14:31:34.007Z"
   },
   {
    "duration": 18,
    "start_time": "2023-07-02T14:31:34.048Z"
   },
   {
    "duration": 25,
    "start_time": "2023-07-02T14:31:34.072Z"
   },
   {
    "duration": 10,
    "start_time": "2023-07-02T14:31:34.099Z"
   },
   {
    "duration": 22,
    "start_time": "2023-07-02T14:31:34.111Z"
   },
   {
    "duration": 28,
    "start_time": "2023-07-02T14:31:34.135Z"
   },
   {
    "duration": 22,
    "start_time": "2023-07-02T14:31:34.164Z"
   },
   {
    "duration": 4,
    "start_time": "2023-07-02T14:31:34.188Z"
   },
   {
    "duration": 39,
    "start_time": "2023-07-02T14:31:34.194Z"
   },
   {
    "duration": 20,
    "start_time": "2023-07-02T14:31:34.237Z"
   },
   {
    "duration": 20,
    "start_time": "2023-07-02T14:31:34.259Z"
   },
   {
    "duration": 10,
    "start_time": "2023-07-02T14:31:34.281Z"
   },
   {
    "duration": 49,
    "start_time": "2023-07-02T14:31:34.293Z"
   },
   {
    "duration": 6,
    "start_time": "2023-07-02T14:31:34.344Z"
   },
   {
    "duration": 10,
    "start_time": "2023-07-02T14:31:34.351Z"
   },
   {
    "duration": 17,
    "start_time": "2023-07-02T14:31:34.368Z"
   },
   {
    "duration": 39,
    "start_time": "2023-07-02T14:31:34.387Z"
   },
   {
    "duration": 7,
    "start_time": "2023-07-02T14:31:34.427Z"
   },
   {
    "duration": 11,
    "start_time": "2023-07-02T14:31:34.436Z"
   },
   {
    "duration": 277,
    "start_time": "2023-07-02T14:31:34.449Z"
   },
   {
    "duration": 128,
    "start_time": "2023-07-02T14:31:34.728Z"
   },
   {
    "duration": 110,
    "start_time": "2023-07-02T14:31:34.858Z"
   },
   {
    "duration": 37,
    "start_time": "2023-07-02T14:31:34.971Z"
   },
   {
    "duration": 47,
    "start_time": "2023-07-02T14:31:35.052Z"
   },
   {
    "duration": 77,
    "start_time": "2023-07-02T14:31:35.101Z"
   },
   {
    "duration": 30,
    "start_time": "2023-07-02T14:31:35.180Z"
   },
   {
    "duration": 71,
    "start_time": "2023-07-02T14:31:35.212Z"
   },
   {
    "duration": 40,
    "start_time": "2023-07-02T14:31:35.285Z"
   },
   {
    "duration": 79,
    "start_time": "2023-07-02T14:31:35.328Z"
   },
   {
    "duration": 59,
    "start_time": "2023-07-02T14:31:35.409Z"
   },
   {
    "duration": 39,
    "start_time": "2023-07-02T14:31:35.471Z"
   },
   {
    "duration": 77,
    "start_time": "2023-07-02T14:31:35.512Z"
   },
   {
    "duration": 80,
    "start_time": "2023-07-02T14:31:35.591Z"
   },
   {
    "duration": 52,
    "start_time": "2023-07-02T14:31:35.674Z"
   },
   {
    "duration": 46,
    "start_time": "2023-07-02T14:31:35.728Z"
   },
   {
    "duration": 28,
    "start_time": "2023-07-02T14:31:35.776Z"
   },
   {
    "duration": 39,
    "start_time": "2023-07-02T14:31:35.808Z"
   },
   {
    "duration": 34,
    "start_time": "2023-07-02T14:31:35.848Z"
   },
   {
    "duration": 22,
    "start_time": "2023-07-02T14:31:35.884Z"
   },
   {
    "duration": 11,
    "start_time": "2023-07-02T14:31:35.908Z"
   },
   {
    "duration": 36,
    "start_time": "2023-07-02T14:31:35.922Z"
   },
   {
    "duration": 1276,
    "start_time": "2023-07-02T18:33:16.554Z"
   },
   {
    "duration": 110,
    "start_time": "2023-07-02T18:33:17.832Z"
   },
   {
    "duration": 14,
    "start_time": "2023-07-02T18:33:17.943Z"
   },
   {
    "duration": 3,
    "start_time": "2023-07-02T18:33:17.960Z"
   },
   {
    "duration": 32,
    "start_time": "2023-07-02T18:33:17.965Z"
   },
   {
    "duration": 7,
    "start_time": "2023-07-02T18:33:17.999Z"
   },
   {
    "duration": 10,
    "start_time": "2023-07-02T18:33:18.007Z"
   },
   {
    "duration": 8,
    "start_time": "2023-07-02T18:33:18.019Z"
   },
   {
    "duration": 7,
    "start_time": "2023-07-02T18:33:18.028Z"
   },
   {
    "duration": 15,
    "start_time": "2023-07-02T18:33:18.038Z"
   },
   {
    "duration": 21,
    "start_time": "2023-07-02T18:33:18.073Z"
   },
   {
    "duration": 5,
    "start_time": "2023-07-02T18:33:18.098Z"
   },
   {
    "duration": 17,
    "start_time": "2023-07-02T18:33:18.104Z"
   },
   {
    "duration": 14,
    "start_time": "2023-07-02T18:33:18.122Z"
   },
   {
    "duration": 5,
    "start_time": "2023-07-02T18:33:18.138Z"
   },
   {
    "duration": 6,
    "start_time": "2023-07-02T18:33:18.145Z"
   },
   {
    "duration": 34,
    "start_time": "2023-07-02T18:33:18.171Z"
   },
   {
    "duration": 7,
    "start_time": "2023-07-02T18:33:18.207Z"
   },
   {
    "duration": 7,
    "start_time": "2023-07-02T18:33:18.215Z"
   },
   {
    "duration": 5,
    "start_time": "2023-07-02T18:33:18.224Z"
   },
   {
    "duration": 70,
    "start_time": "2023-07-02T18:33:18.231Z"
   },
   {
    "duration": 5,
    "start_time": "2023-07-02T18:33:18.303Z"
   },
   {
    "duration": 11,
    "start_time": "2023-07-02T18:33:18.310Z"
   },
   {
    "duration": 378,
    "start_time": "2023-07-02T18:33:18.323Z"
   },
   {
    "duration": 174,
    "start_time": "2023-07-02T18:33:18.703Z"
   },
   {
    "duration": 94,
    "start_time": "2023-07-02T18:33:18.880Z"
   },
   {
    "duration": 42,
    "start_time": "2023-07-02T18:33:18.978Z"
   },
   {
    "duration": 85,
    "start_time": "2023-07-02T18:33:19.023Z"
   },
   {
    "duration": 24,
    "start_time": "2023-07-02T18:33:19.110Z"
   },
   {
    "duration": 72,
    "start_time": "2023-07-02T18:33:19.135Z"
   },
   {
    "duration": 36,
    "start_time": "2023-07-02T18:33:19.208Z"
   },
   {
    "duration": 54,
    "start_time": "2023-07-02T18:33:19.245Z"
   },
   {
    "duration": 25,
    "start_time": "2023-07-02T18:33:19.302Z"
   },
   {
    "duration": 56,
    "start_time": "2023-07-02T18:33:19.329Z"
   },
   {
    "duration": 32,
    "start_time": "2023-07-02T18:33:19.397Z"
   },
   {
    "duration": 65,
    "start_time": "2023-07-02T18:33:19.431Z"
   },
   {
    "duration": 47,
    "start_time": "2023-07-02T18:33:19.499Z"
   },
   {
    "duration": 76,
    "start_time": "2023-07-02T18:33:19.547Z"
   },
   {
    "duration": 48,
    "start_time": "2023-07-02T18:33:19.624Z"
   },
   {
    "duration": 20,
    "start_time": "2023-07-02T18:33:19.682Z"
   },
   {
    "duration": 6,
    "start_time": "2023-07-02T18:33:19.704Z"
   },
   {
    "duration": 11,
    "start_time": "2023-07-02T18:33:19.711Z"
   },
   {
    "duration": 80,
    "start_time": "2023-07-02T18:33:19.724Z"
   },
   {
    "duration": 10,
    "start_time": "2023-07-02T18:33:19.806Z"
   },
   {
    "duration": 12,
    "start_time": "2023-07-02T18:33:19.818Z"
   },
   {
    "duration": 1716,
    "start_time": "2023-07-03T13:04:33.332Z"
   },
   {
    "duration": 142,
    "start_time": "2023-07-03T13:04:35.051Z"
   },
   {
    "duration": 21,
    "start_time": "2023-07-03T13:04:35.195Z"
   },
   {
    "duration": 25,
    "start_time": "2023-07-03T13:04:35.224Z"
   },
   {
    "duration": 26,
    "start_time": "2023-07-03T13:04:35.252Z"
   },
   {
    "duration": 13,
    "start_time": "2023-07-03T13:04:35.280Z"
   },
   {
    "duration": 23,
    "start_time": "2023-07-03T13:04:35.295Z"
   },
   {
    "duration": 16,
    "start_time": "2023-07-03T13:04:35.321Z"
   },
   {
    "duration": 22,
    "start_time": "2023-07-03T13:04:35.340Z"
   },
   {
    "duration": 19,
    "start_time": "2023-07-03T13:04:35.364Z"
   },
   {
    "duration": 38,
    "start_time": "2023-07-03T13:04:35.386Z"
   },
   {
    "duration": 5,
    "start_time": "2023-07-03T13:04:35.426Z"
   },
   {
    "duration": 26,
    "start_time": "2023-07-03T13:04:35.432Z"
   },
   {
    "duration": 25,
    "start_time": "2023-07-03T13:04:35.463Z"
   },
   {
    "duration": 34,
    "start_time": "2023-07-03T13:04:35.490Z"
   },
   {
    "duration": 26,
    "start_time": "2023-07-03T13:04:35.526Z"
   },
   {
    "duration": 29,
    "start_time": "2023-07-03T13:04:35.553Z"
   },
   {
    "duration": 5,
    "start_time": "2023-07-03T13:04:35.584Z"
   },
   {
    "duration": 7,
    "start_time": "2023-07-03T13:04:35.591Z"
   },
   {
    "duration": 38,
    "start_time": "2023-07-03T13:04:35.603Z"
   },
   {
    "duration": 53,
    "start_time": "2023-07-03T13:04:35.643Z"
   },
   {
    "duration": 7,
    "start_time": "2023-07-03T13:04:35.697Z"
   },
   {
    "duration": 42,
    "start_time": "2023-07-03T13:04:35.706Z"
   },
   {
    "duration": 307,
    "start_time": "2023-07-03T13:04:35.750Z"
   },
   {
    "duration": 158,
    "start_time": "2023-07-03T13:04:36.059Z"
   },
   {
    "duration": 108,
    "start_time": "2023-07-03T13:04:36.219Z"
   },
   {
    "duration": 36,
    "start_time": "2023-07-03T13:04:36.329Z"
   },
   {
    "duration": 78,
    "start_time": "2023-07-03T13:04:36.366Z"
   },
   {
    "duration": 79,
    "start_time": "2023-07-03T13:04:36.447Z"
   },
   {
    "duration": 31,
    "start_time": "2023-07-03T13:04:36.528Z"
   },
   {
    "duration": 69,
    "start_time": "2023-07-03T13:04:36.561Z"
   },
   {
    "duration": 30,
    "start_time": "2023-07-03T13:04:36.632Z"
   },
   {
    "duration": 59,
    "start_time": "2023-07-03T13:04:36.663Z"
   },
   {
    "duration": 43,
    "start_time": "2023-07-03T13:04:36.723Z"
   },
   {
    "duration": 64,
    "start_time": "2023-07-03T13:04:36.767Z"
   },
   {
    "duration": 68,
    "start_time": "2023-07-03T13:04:36.833Z"
   },
   {
    "duration": 56,
    "start_time": "2023-07-03T13:04:36.909Z"
   },
   {
    "duration": 92,
    "start_time": "2023-07-03T13:04:36.967Z"
   },
   {
    "duration": 49,
    "start_time": "2023-07-03T13:04:37.061Z"
   },
   {
    "duration": 17,
    "start_time": "2023-07-03T13:04:37.117Z"
   },
   {
    "duration": 8,
    "start_time": "2023-07-03T13:04:37.138Z"
   },
   {
    "duration": 14,
    "start_time": "2023-07-03T13:04:37.148Z"
   },
   {
    "duration": 96,
    "start_time": "2023-07-03T13:04:37.164Z"
   },
   {
    "duration": 14,
    "start_time": "2023-07-03T13:04:37.262Z"
   },
   {
    "duration": 16,
    "start_time": "2023-07-03T13:04:37.278Z"
   },
   {
    "duration": 5,
    "start_time": "2023-07-03T13:11:52.757Z"
   },
   {
    "duration": 6,
    "start_time": "2023-07-03T13:11:56.272Z"
   },
   {
    "duration": 54,
    "start_time": "2023-07-03T13:12:00.598Z"
   },
   {
    "duration": 58,
    "start_time": "2023-07-03T13:12:04.267Z"
   },
   {
    "duration": 35,
    "start_time": "2023-07-03T13:12:16.621Z"
   },
   {
    "duration": 41,
    "start_time": "2023-07-03T13:12:18.422Z"
   },
   {
    "duration": 28,
    "start_time": "2023-07-03T13:12:20.060Z"
   },
   {
    "duration": 35,
    "start_time": "2023-07-03T13:12:21.603Z"
   },
   {
    "duration": 29,
    "start_time": "2023-07-03T13:12:23.065Z"
   },
   {
    "duration": 45,
    "start_time": "2023-07-03T13:12:24.973Z"
   },
   {
    "duration": 43,
    "start_time": "2023-07-03T13:12:26.422Z"
   },
   {
    "duration": 40,
    "start_time": "2023-07-03T13:12:27.919Z"
   },
   {
    "duration": 43,
    "start_time": "2023-07-03T13:12:29.231Z"
   },
   {
    "duration": 41,
    "start_time": "2023-07-03T13:16:36.593Z"
   },
   {
    "duration": 57,
    "start_time": "2023-07-03T13:27:09.275Z"
   },
   {
    "duration": 61,
    "start_time": "2023-07-03T13:28:46.922Z"
   },
   {
    "duration": 83,
    "start_time": "2023-07-03T13:29:53.806Z"
   },
   {
    "duration": 85,
    "start_time": "2023-07-03T13:30:49.196Z"
   },
   {
    "duration": 63,
    "start_time": "2023-07-03T13:31:56.165Z"
   },
   {
    "duration": 13,
    "start_time": "2023-07-03T13:39:26.807Z"
   },
   {
    "duration": 15,
    "start_time": "2023-07-03T13:40:44.116Z"
   },
   {
    "duration": 48,
    "start_time": "2023-07-03T13:44:20.791Z"
   },
   {
    "duration": 88,
    "start_time": "2023-07-03T13:44:23.213Z"
   },
   {
    "duration": 1319,
    "start_time": "2023-07-03T13:44:32.204Z"
   },
   {
    "duration": 107,
    "start_time": "2023-07-03T13:44:33.525Z"
   },
   {
    "duration": 21,
    "start_time": "2023-07-03T13:44:33.635Z"
   },
   {
    "duration": 4,
    "start_time": "2023-07-03T13:44:33.659Z"
   },
   {
    "duration": 22,
    "start_time": "2023-07-03T13:44:33.667Z"
   },
   {
    "duration": 23,
    "start_time": "2023-07-03T13:44:33.691Z"
   },
   {
    "duration": 33,
    "start_time": "2023-07-03T13:44:33.716Z"
   },
   {
    "duration": 25,
    "start_time": "2023-07-03T13:44:33.753Z"
   },
   {
    "duration": 9,
    "start_time": "2023-07-03T13:44:33.781Z"
   },
   {
    "duration": 21,
    "start_time": "2023-07-03T13:44:33.792Z"
   },
   {
    "duration": 19,
    "start_time": "2023-07-03T13:44:33.815Z"
   },
   {
    "duration": 5,
    "start_time": "2023-07-03T13:44:33.837Z"
   },
   {
    "duration": 29,
    "start_time": "2023-07-03T13:44:33.844Z"
   },
   {
    "duration": 8,
    "start_time": "2023-07-03T13:44:33.903Z"
   },
   {
    "duration": 14,
    "start_time": "2023-07-03T13:44:33.913Z"
   },
   {
    "duration": 11,
    "start_time": "2023-07-03T13:44:33.929Z"
   },
   {
    "duration": 40,
    "start_time": "2023-07-03T13:44:33.943Z"
   },
   {
    "duration": 7,
    "start_time": "2023-07-03T13:44:33.985Z"
   },
   {
    "duration": 4,
    "start_time": "2023-07-03T13:44:34.003Z"
   },
   {
    "duration": 9,
    "start_time": "2023-07-03T13:44:34.009Z"
   },
   {
    "duration": 47,
    "start_time": "2023-07-03T13:44:34.020Z"
   },
   {
    "duration": 7,
    "start_time": "2023-07-03T13:44:34.070Z"
   },
   {
    "duration": 6,
    "start_time": "2023-07-03T13:44:34.102Z"
   },
   {
    "duration": 325,
    "start_time": "2023-07-03T13:44:34.111Z"
   },
   {
    "duration": 167,
    "start_time": "2023-07-03T13:44:34.438Z"
   },
   {
    "duration": 41,
    "start_time": "2023-07-03T13:44:34.607Z"
   },
   {
    "duration": 111,
    "start_time": "2023-07-03T13:44:34.703Z"
   },
   {
    "duration": 43,
    "start_time": "2023-07-03T13:44:34.816Z"
   },
   {
    "duration": 62,
    "start_time": "2023-07-03T13:44:34.860Z"
   },
   {
    "duration": 38,
    "start_time": "2023-07-03T13:44:34.925Z"
   },
   {
    "duration": 38,
    "start_time": "2023-07-03T13:44:35.001Z"
   },
   {
    "duration": 67,
    "start_time": "2023-07-03T13:44:35.042Z"
   },
   {
    "duration": 36,
    "start_time": "2023-07-03T13:44:35.111Z"
   },
   {
    "duration": 66,
    "start_time": "2023-07-03T13:44:35.149Z"
   },
   {
    "duration": 32,
    "start_time": "2023-07-03T13:44:35.217Z"
   },
   {
    "duration": 69,
    "start_time": "2023-07-03T13:44:35.251Z"
   },
   {
    "duration": 56,
    "start_time": "2023-07-03T13:44:35.323Z"
   },
   {
    "duration": 47,
    "start_time": "2023-07-03T13:44:35.403Z"
   },
   {
    "duration": 53,
    "start_time": "2023-07-03T13:44:35.452Z"
   },
   {
    "duration": 18,
    "start_time": "2023-07-03T13:44:35.507Z"
   },
   {
    "duration": 7,
    "start_time": "2023-07-03T13:44:35.530Z"
   },
   {
    "duration": 38,
    "start_time": "2023-07-03T13:44:35.539Z"
   },
   {
    "duration": 68,
    "start_time": "2023-07-03T13:44:35.579Z"
   },
   {
    "duration": 23,
    "start_time": "2023-07-03T13:44:35.650Z"
   },
   {
    "duration": 39,
    "start_time": "2023-07-03T13:44:35.675Z"
   },
   {
    "duration": 1363,
    "start_time": "2023-07-03T20:37:42.350Z"
   },
   {
    "duration": 98,
    "start_time": "2023-07-03T20:37:43.715Z"
   },
   {
    "duration": 13,
    "start_time": "2023-07-03T20:37:43.815Z"
   },
   {
    "duration": 13,
    "start_time": "2023-07-03T20:37:43.830Z"
   },
   {
    "duration": 18,
    "start_time": "2023-07-03T20:37:43.845Z"
   },
   {
    "duration": 24,
    "start_time": "2023-07-03T20:37:43.865Z"
   },
   {
    "duration": 26,
    "start_time": "2023-07-03T20:37:43.891Z"
   },
   {
    "duration": 17,
    "start_time": "2023-07-03T20:37:43.919Z"
   },
   {
    "duration": 34,
    "start_time": "2023-07-03T20:37:43.938Z"
   },
   {
    "duration": 56,
    "start_time": "2023-07-03T20:37:43.974Z"
   },
   {
    "duration": 46,
    "start_time": "2023-07-03T20:37:44.032Z"
   },
   {
    "duration": 5,
    "start_time": "2023-07-03T20:37:44.080Z"
   },
   {
    "duration": 28,
    "start_time": "2023-07-03T20:37:44.087Z"
   },
   {
    "duration": 9,
    "start_time": "2023-07-03T20:37:44.119Z"
   },
   {
    "duration": 31,
    "start_time": "2023-07-03T20:37:44.130Z"
   },
   {
    "duration": 23,
    "start_time": "2023-07-03T20:37:44.163Z"
   },
   {
    "duration": 39,
    "start_time": "2023-07-03T20:37:44.188Z"
   },
   {
    "duration": 6,
    "start_time": "2023-07-03T20:37:44.229Z"
   },
   {
    "duration": 34,
    "start_time": "2023-07-03T20:37:44.237Z"
   },
   {
    "duration": 18,
    "start_time": "2023-07-03T20:37:44.273Z"
   },
   {
    "duration": 52,
    "start_time": "2023-07-03T20:37:44.296Z"
   },
   {
    "duration": 5,
    "start_time": "2023-07-03T20:37:44.349Z"
   },
   {
    "duration": 21,
    "start_time": "2023-07-03T20:37:44.356Z"
   },
   {
    "duration": 394,
    "start_time": "2023-07-03T20:37:44.379Z"
   },
   {
    "duration": 119,
    "start_time": "2023-07-03T20:37:44.775Z"
   },
   {
    "duration": 95,
    "start_time": "2023-07-03T20:37:44.896Z"
   },
   {
    "duration": 96,
    "start_time": "2023-07-03T20:37:44.993Z"
   },
   {
    "duration": 37,
    "start_time": "2023-07-03T20:37:45.091Z"
   },
   {
    "duration": 56,
    "start_time": "2023-07-03T20:37:45.130Z"
   },
   {
    "duration": 28,
    "start_time": "2023-07-03T20:37:45.188Z"
   },
   {
    "duration": 66,
    "start_time": "2023-07-03T20:37:45.217Z"
   },
   {
    "duration": 29,
    "start_time": "2023-07-03T20:37:45.284Z"
   },
   {
    "duration": 56,
    "start_time": "2023-07-03T20:37:45.314Z"
   },
   {
    "duration": 26,
    "start_time": "2023-07-03T20:37:45.372Z"
   },
   {
    "duration": 25,
    "start_time": "2023-07-03T20:37:45.400Z"
   },
   {
    "duration": 69,
    "start_time": "2023-07-03T20:37:45.427Z"
   },
   {
    "duration": 78,
    "start_time": "2023-07-03T20:37:45.497Z"
   },
   {
    "duration": 45,
    "start_time": "2023-07-03T20:37:45.576Z"
   },
   {
    "duration": 49,
    "start_time": "2023-07-03T20:37:45.623Z"
   },
   {
    "duration": 15,
    "start_time": "2023-07-03T20:37:45.675Z"
   },
   {
    "duration": 5,
    "start_time": "2023-07-03T20:37:45.693Z"
   },
   {
    "duration": 38,
    "start_time": "2023-07-03T20:37:45.700Z"
   },
   {
    "duration": 64,
    "start_time": "2023-07-03T20:37:45.740Z"
   },
   {
    "duration": 11,
    "start_time": "2023-07-03T20:37:45.806Z"
   },
   {
    "duration": 16,
    "start_time": "2023-07-03T20:37:45.819Z"
   },
   {
    "duration": 1175,
    "start_time": "2023-07-04T08:27:25.595Z"
   },
   {
    "duration": 122,
    "start_time": "2023-07-04T08:27:26.772Z"
   },
   {
    "duration": 13,
    "start_time": "2023-07-04T08:27:26.895Z"
   },
   {
    "duration": 4,
    "start_time": "2023-07-04T08:27:26.911Z"
   },
   {
    "duration": 14,
    "start_time": "2023-07-04T08:27:26.916Z"
   },
   {
    "duration": 10,
    "start_time": "2023-07-04T08:27:26.932Z"
   },
   {
    "duration": 28,
    "start_time": "2023-07-04T08:27:26.943Z"
   },
   {
    "duration": 17,
    "start_time": "2023-07-04T08:27:26.973Z"
   },
   {
    "duration": 20,
    "start_time": "2023-07-04T08:27:26.992Z"
   },
   {
    "duration": 37,
    "start_time": "2023-07-04T08:27:27.015Z"
   },
   {
    "duration": 15,
    "start_time": "2023-07-04T08:27:27.054Z"
   },
   {
    "duration": 4,
    "start_time": "2023-07-04T08:27:27.070Z"
   },
   {
    "duration": 23,
    "start_time": "2023-07-04T08:27:27.076Z"
   },
   {
    "duration": 10,
    "start_time": "2023-07-04T08:27:27.101Z"
   },
   {
    "duration": 9,
    "start_time": "2023-07-04T08:27:27.112Z"
   },
   {
    "duration": 11,
    "start_time": "2023-07-04T08:27:27.123Z"
   },
   {
    "duration": 31,
    "start_time": "2023-07-04T08:27:27.135Z"
   },
   {
    "duration": 5,
    "start_time": "2023-07-04T08:27:27.168Z"
   },
   {
    "duration": 14,
    "start_time": "2023-07-04T08:27:27.175Z"
   },
   {
    "duration": 11,
    "start_time": "2023-07-04T08:27:27.190Z"
   },
   {
    "duration": 54,
    "start_time": "2023-07-04T08:27:27.203Z"
   },
   {
    "duration": 6,
    "start_time": "2023-07-04T08:27:27.258Z"
   },
   {
    "duration": 13,
    "start_time": "2023-07-04T08:27:27.265Z"
   },
   {
    "duration": 293,
    "start_time": "2023-07-04T08:27:27.280Z"
   },
   {
    "duration": 39,
    "start_time": "2023-07-04T08:27:27.574Z"
   },
   {
    "duration": 30,
    "start_time": "2023-07-04T08:27:27.668Z"
   },
   {
    "duration": 84,
    "start_time": "2023-07-04T08:27:27.700Z"
   },
   {
    "duration": 35,
    "start_time": "2023-07-04T08:27:27.787Z"
   },
   {
    "duration": 49,
    "start_time": "2023-07-04T08:27:27.823Z"
   },
   {
    "duration": 26,
    "start_time": "2023-07-04T08:27:27.873Z"
   },
   {
    "duration": 24,
    "start_time": "2023-07-04T08:27:27.900Z"
   },
   {
    "duration": 59,
    "start_time": "2023-07-04T08:27:27.925Z"
   },
   {
    "duration": 24,
    "start_time": "2023-07-04T08:27:27.985Z"
   },
   {
    "duration": 24,
    "start_time": "2023-07-04T08:27:28.010Z"
   },
   {
    "duration": 52,
    "start_time": "2023-07-04T08:27:28.036Z"
   },
   {
    "duration": 40,
    "start_time": "2023-07-04T08:27:28.089Z"
   },
   {
    "duration": 62,
    "start_time": "2023-07-04T08:27:28.130Z"
   },
   {
    "duration": 38,
    "start_time": "2023-07-04T08:27:28.193Z"
   },
   {
    "duration": 39,
    "start_time": "2023-07-04T08:27:28.233Z"
   },
   {
    "duration": 13,
    "start_time": "2023-07-04T08:27:28.273Z"
   },
   {
    "duration": 4,
    "start_time": "2023-07-04T08:27:28.288Z"
   },
   {
    "duration": 31,
    "start_time": "2023-07-04T08:27:28.294Z"
   },
   {
    "duration": 58,
    "start_time": "2023-07-04T08:27:28.326Z"
   },
   {
    "duration": 10,
    "start_time": "2023-07-04T08:27:28.385Z"
   },
   {
    "duration": 30,
    "start_time": "2023-07-04T08:27:28.396Z"
   },
   {
    "duration": 1202,
    "start_time": "2023-07-04T08:29:01.664Z"
   },
   {
    "duration": 133,
    "start_time": "2023-07-04T08:29:02.868Z"
   },
   {
    "duration": 12,
    "start_time": "2023-07-04T08:29:03.003Z"
   },
   {
    "duration": 6,
    "start_time": "2023-07-04T08:29:03.017Z"
   },
   {
    "duration": 13,
    "start_time": "2023-07-04T08:29:03.025Z"
   },
   {
    "duration": 25,
    "start_time": "2023-07-04T08:29:03.039Z"
   },
   {
    "duration": 11,
    "start_time": "2023-07-04T08:29:03.069Z"
   },
   {
    "duration": 10,
    "start_time": "2023-07-04T08:29:03.081Z"
   },
   {
    "duration": 10,
    "start_time": "2023-07-04T08:29:03.092Z"
   },
   {
    "duration": 19,
    "start_time": "2023-07-04T08:29:03.104Z"
   },
   {
    "duration": 26,
    "start_time": "2023-07-04T08:29:03.124Z"
   },
   {
    "duration": 24,
    "start_time": "2023-07-04T08:29:03.151Z"
   },
   {
    "duration": 38,
    "start_time": "2023-07-04T08:29:03.177Z"
   },
   {
    "duration": 17,
    "start_time": "2023-07-04T08:29:03.217Z"
   },
   {
    "duration": 28,
    "start_time": "2023-07-04T08:29:03.235Z"
   },
   {
    "duration": 22,
    "start_time": "2023-07-04T08:29:03.264Z"
   },
   {
    "duration": 31,
    "start_time": "2023-07-04T08:29:03.287Z"
   },
   {
    "duration": 7,
    "start_time": "2023-07-04T08:29:03.320Z"
   },
   {
    "duration": 35,
    "start_time": "2023-07-04T08:29:03.330Z"
   },
   {
    "duration": 18,
    "start_time": "2023-07-04T08:29:03.367Z"
   },
   {
    "duration": 34,
    "start_time": "2023-07-04T08:29:03.386Z"
   },
   {
    "duration": 4,
    "start_time": "2023-07-04T08:29:03.422Z"
   },
   {
    "duration": 7,
    "start_time": "2023-07-04T08:29:03.428Z"
   },
   {
    "duration": 303,
    "start_time": "2023-07-04T08:29:03.436Z"
   },
   {
    "duration": 67,
    "start_time": "2023-07-04T08:29:03.741Z"
   },
   {
    "duration": 81,
    "start_time": "2023-07-04T08:29:03.810Z"
   },
   {
    "duration": 87,
    "start_time": "2023-07-04T08:29:03.892Z"
   },
   {
    "duration": 47,
    "start_time": "2023-07-04T08:29:03.984Z"
   },
   {
    "duration": 62,
    "start_time": "2023-07-04T08:29:04.033Z"
   },
   {
    "duration": 36,
    "start_time": "2023-07-04T08:29:04.097Z"
   },
   {
    "duration": 56,
    "start_time": "2023-07-04T08:29:04.135Z"
   },
   {
    "duration": 28,
    "start_time": "2023-07-04T08:29:04.192Z"
   },
   {
    "duration": 54,
    "start_time": "2023-07-04T08:29:04.222Z"
   },
   {
    "duration": 28,
    "start_time": "2023-07-04T08:29:04.277Z"
   },
   {
    "duration": 25,
    "start_time": "2023-07-04T08:29:04.307Z"
   },
   {
    "duration": 70,
    "start_time": "2023-07-04T08:29:04.333Z"
   },
   {
    "duration": 83,
    "start_time": "2023-07-04T08:29:04.404Z"
   },
   {
    "duration": 50,
    "start_time": "2023-07-04T08:29:04.489Z"
   },
   {
    "duration": 39,
    "start_time": "2023-07-04T08:29:04.540Z"
   },
   {
    "duration": 13,
    "start_time": "2023-07-04T08:29:04.580Z"
   },
   {
    "duration": 11,
    "start_time": "2023-07-04T08:29:04.595Z"
   },
   {
    "duration": 52,
    "start_time": "2023-07-04T08:29:04.608Z"
   },
   {
    "duration": 28,
    "start_time": "2023-07-04T08:29:04.661Z"
   },
   {
    "duration": 12,
    "start_time": "2023-07-04T08:29:04.691Z"
   },
   {
    "duration": 17,
    "start_time": "2023-07-04T08:29:04.704Z"
   },
   {
    "duration": 1147,
    "start_time": "2023-07-09T13:14:24.737Z"
   },
   {
    "duration": 83,
    "start_time": "2023-07-09T13:14:25.886Z"
   },
   {
    "duration": 12,
    "start_time": "2023-07-09T13:14:25.970Z"
   },
   {
    "duration": 14,
    "start_time": "2023-07-09T13:14:25.984Z"
   },
   {
    "duration": 9,
    "start_time": "2023-07-09T13:14:26.000Z"
   },
   {
    "duration": 8,
    "start_time": "2023-07-09T13:14:26.010Z"
   },
   {
    "duration": 9,
    "start_time": "2023-07-09T13:14:26.019Z"
   },
   {
    "duration": 7,
    "start_time": "2023-07-09T13:14:26.029Z"
   },
   {
    "duration": 6,
    "start_time": "2023-07-09T13:14:26.038Z"
   },
   {
    "duration": 15,
    "start_time": "2023-07-09T13:14:26.068Z"
   },
   {
    "duration": 14,
    "start_time": "2023-07-09T13:14:26.085Z"
   },
   {
    "duration": 3,
    "start_time": "2023-07-09T13:14:26.101Z"
   },
   {
    "duration": 12,
    "start_time": "2023-07-09T13:14:26.106Z"
   },
   {
    "duration": 5,
    "start_time": "2023-07-09T13:14:26.121Z"
   },
   {
    "duration": 8,
    "start_time": "2023-07-09T13:14:26.127Z"
   },
   {
    "duration": 35,
    "start_time": "2023-07-09T13:14:26.136Z"
   },
   {
    "duration": 30,
    "start_time": "2023-07-09T13:14:26.172Z"
   },
   {
    "duration": 8,
    "start_time": "2023-07-09T13:14:26.204Z"
   },
   {
    "duration": 13,
    "start_time": "2023-07-09T13:14:26.214Z"
   },
   {
    "duration": 10,
    "start_time": "2023-07-09T13:14:26.228Z"
   },
   {
    "duration": 30,
    "start_time": "2023-07-09T13:14:26.239Z"
   },
   {
    "duration": 5,
    "start_time": "2023-07-09T13:14:26.270Z"
   },
   {
    "duration": 10,
    "start_time": "2023-07-09T13:14:26.276Z"
   },
   {
    "duration": 232,
    "start_time": "2023-07-09T13:14:26.287Z"
   },
   {
    "duration": 69,
    "start_time": "2023-07-09T13:14:26.521Z"
   },
   {
    "duration": 88,
    "start_time": "2023-07-09T13:14:26.592Z"
   },
   {
    "duration": 30,
    "start_time": "2023-07-09T13:14:26.682Z"
   },
   {
    "duration": 76,
    "start_time": "2023-07-09T13:14:26.714Z"
   },
   {
    "duration": 23,
    "start_time": "2023-07-09T13:14:26.792Z"
   },
   {
    "duration": 51,
    "start_time": "2023-07-09T13:14:26.817Z"
   },
   {
    "duration": 23,
    "start_time": "2023-07-09T13:14:26.870Z"
   },
   {
    "duration": 25,
    "start_time": "2023-07-09T13:14:26.894Z"
   },
   {
    "duration": 56,
    "start_time": "2023-07-09T13:14:26.920Z"
   },
   {
    "duration": 24,
    "start_time": "2023-07-09T13:14:26.978Z"
   },
   {
    "duration": 24,
    "start_time": "2023-07-09T13:14:27.003Z"
   },
   {
    "duration": 64,
    "start_time": "2023-07-09T13:14:27.029Z"
   },
   {
    "duration": 44,
    "start_time": "2023-07-09T13:14:27.095Z"
   },
   {
    "duration": 60,
    "start_time": "2023-07-09T13:14:27.141Z"
   },
   {
    "duration": 14,
    "start_time": "2023-07-09T13:14:27.203Z"
   },
   {
    "duration": 49,
    "start_time": "2023-07-09T13:14:27.219Z"
   },
   {
    "duration": 4,
    "start_time": "2023-07-09T13:14:27.272Z"
   },
   {
    "duration": 24,
    "start_time": "2023-07-09T13:14:27.278Z"
   },
   {
    "duration": 23,
    "start_time": "2023-07-09T13:14:27.304Z"
   },
   {
    "duration": 13,
    "start_time": "2023-07-09T13:14:27.329Z"
   },
   {
    "duration": 27,
    "start_time": "2023-07-09T13:14:27.344Z"
   },
   {
    "duration": 5,
    "start_time": "2023-07-09T14:07:22.218Z"
   },
   {
    "duration": 7,
    "start_time": "2023-07-09T14:07:24.896Z"
   }
  ],
  "kernelspec": {
   "display_name": "Python 3 (ipykernel)",
   "language": "python",
   "name": "python3"
  },
  "language_info": {
   "codemirror_mode": {
    "name": "ipython",
    "version": 3
   },
   "file_extension": ".py",
   "mimetype": "text/x-python",
   "name": "python",
   "nbconvert_exporter": "python",
   "pygments_lexer": "ipython3",
   "version": "3.9.13"
  },
  "toc": {
   "base_numbering": 1,
   "nav_menu": {},
   "number_sections": true,
   "sideBar": true,
   "skip_h1_title": true,
   "title_cell": "Table of Contents",
   "title_sidebar": "Contents",
   "toc_cell": false,
   "toc_position": {},
   "toc_section_display": true,
   "toc_window_display": false
  }
 },
 "nbformat": 4,
 "nbformat_minor": 2
}
